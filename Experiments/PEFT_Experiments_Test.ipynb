{
 "cells": [
  {
   "cell_type": "code",
   "execution_count": 2,
   "metadata": {},
   "outputs": [],
   "source": [
    "# File to test that all 3 models can be loaded with various PEFT Methods and be ready to be trained\n",
    "\n",
    "import os\n",
    "import json\n",
    "import torch\n",
    "import logging \n",
    "import pandas as pd\n",
    "\n",
    "from collections import defaultdict\n",
    "from datasets import Dataset\n",
    "import accelerate\n",
    "import bitsandbytes\n",
    "\n",
    "from peft import LoraConfig, LoraModel\n",
    "from transformers import AutoModelForCausalLM, AutoTokenizer, BitsAndBytesConfig, HfArgumentParser, TrainingArguments, pipeline\n",
    "from trl import SFTTrainer\n",
    "from quantization import CONFIG_4BITS, CONFIG_4BITS_NESTED, CONFIG_4BITS_NORM, CONFIG_8BITS, CONFIG_4BITS_NORM_NESTED\n",
    "from run_utils import *\n"
   ]
  },
  {
   "cell_type": "code",
   "execution_count": 3,
   "metadata": {},
   "outputs": [],
   "source": [
    "gemma_train_dataset = load_tokenized_dataset(\"/home/andrusha/Desktop/DL Research/Efficient-LLM-Benchmark/UnifiedQA Data Curation/tokenized/Gemma/train.json\")\n",
    "gemma_dev_dataset = load_tokenized_dataset(\"/home/andrusha/Desktop/DL Research/Efficient-LLM-Benchmark/UnifiedQA Data Curation/tokenized/Gemma/dev.json\")\n",
    "gemma_test_dataset = load_tokenized_dataset(\"/home/andrusha/Desktop/DL Research/Efficient-LLM-Benchmark/UnifiedQA Data Curation/tokenized/Gemma/test.json\")\n",
    "\n",
    "llama_train_dataset = load_tokenized_dataset(\"/home/andrusha/Desktop/DL Research/Efficient-LLM-Benchmark/UnifiedQA Data Curation/tokenized/Llama/train.json\")\n",
    "llama_dev_dataset = load_tokenized_dataset(\"/home/andrusha/Desktop/DL Research/Efficient-LLM-Benchmark/UnifiedQA Data Curation/tokenized/Llama/dev.json\")\n",
    "llama_test_dataset = load_tokenized_dataset(\"/home/andrusha/Desktop/DL Research/Efficient-LLM-Benchmark/UnifiedQA Data Curation/tokenized/Llama/test.json\")\n",
    "\n",
    "mistral_train_dataset = load_tokenized_dataset(\"/home/andrusha/Desktop/DL Research/Efficient-LLM-Benchmark/UnifiedQA Data Curation/tokenized/Mistral/train.json\")\n",
    "mistral_dev_dataset = load_tokenized_dataset(\"/home/andrusha/Desktop/DL Research/Efficient-LLM-Benchmark/UnifiedQA Data Curation/tokenized/Mistral/dev.json\")\n",
    "mistral_test_dataset = load_tokenized_dataset(\"/home/andrusha/Desktop/DL Research/Efficient-LLM-Benchmark/UnifiedQA Data Curation/tokenized/Mistral/test.json\")"
   ]
  },
  {
   "cell_type": "code",
   "execution_count": 4,
   "metadata": {},
   "outputs": [
    {
     "name": "stdout",
     "output_type": "stream",
     "text": [
      "in here\n"
     ]
    },
    {
     "ename": "ImportError",
     "evalue": "Using `bitsandbytes` 8-bit quantization requires Accelerate: `pip install accelerate` and the latest version of bitsandbytes: `pip install -i https://pypi.org/simple/ bitsandbytes`",
     "output_type": "error",
     "traceback": [
      "\u001b[0;31m---------------------------------------------------------------------------\u001b[0m",
      "\u001b[0;31mImportError\u001b[0m                               Traceback (most recent call last)",
      "Cell \u001b[0;32mIn[4], line 5\u001b[0m\n\u001b[1;32m      1\u001b[0m \u001b[38;5;124;03m'''\u001b[39;00m\n\u001b[1;32m      2\u001b[0m \u001b[38;5;124;03mComment out the one you are not going to be doing. Gemma is already done. This code will load the full model with no quantinzation.\u001b[39;00m\n\u001b[1;32m      3\u001b[0m \u001b[38;5;124;03m'''\u001b[39;00m\n\u001b[0;32m----> 5\u001b[0m gemma_model, gemma_tokenizer \u001b[38;5;241m=\u001b[39m \u001b[43mload_model\u001b[49m\u001b[43m(\u001b[49m\u001b[43mbase_model\u001b[49m\u001b[38;5;241;43m=\u001b[39;49m\u001b[38;5;124;43m\"\u001b[39;49m\u001b[38;5;124;43mgoogle/gemma-7b\u001b[39;49m\u001b[38;5;124;43m\"\u001b[39;49m\u001b[43m,\u001b[49m\u001b[43m \u001b[49m\u001b[43mbnb_config\u001b[49m\u001b[38;5;241;43m=\u001b[39;49m\u001b[43mCONFIG_4BITS_NORM_NESTED\u001b[49m\u001b[43m,\u001b[49m\u001b[43m \u001b[49m\u001b[43mon_gpu\u001b[49m\u001b[38;5;241;43m=\u001b[39;49m\u001b[38;5;28;43;01mTrue\u001b[39;49;00m\u001b[43m,\u001b[49m\u001b[43m \u001b[49m\u001b[43muse_cache\u001b[49m\u001b[38;5;241;43m=\u001b[39;49m\u001b[38;5;28;43;01mFalse\u001b[39;49;00m\u001b[43m,\u001b[49m\u001b[43m \u001b[49m\u001b[43mpretraining_tp\u001b[49m\u001b[38;5;241;43m=\u001b[39;49m\u001b[38;5;241;43m1\u001b[39;49m\u001b[43m,\u001b[49m\u001b[43m \u001b[49m\u001b[43m)\u001b[49m \u001b[38;5;66;03m# Andrey \u001b[39;00m\n\u001b[1;32m      6\u001b[0m \u001b[38;5;66;03m# llama2, llama2_tokenizer = load_model(\"meta-llama/Llama-2-7b-hf\") \u001b[39;00m\n\u001b[1;32m      7\u001b[0m \u001b[38;5;66;03m# mistral_model, mistral_tokenizer = load_model(\"mistralai/Mistral-7B-v0.1\") \u001b[39;00m\n",
      "File \u001b[0;32m~/Desktop/DL Research/Efficient-LLM-Benchmark/Experiments/run_utils.py:37\u001b[0m, in \u001b[0;36mload_model\u001b[0;34m(base_model, bnb_config, on_gpu, use_cache, pretraining_tp)\u001b[0m\n\u001b[1;32m     35\u001b[0m \u001b[38;5;28;01mif\u001b[39;00m on_gpu:\n\u001b[1;32m     36\u001b[0m     \u001b[38;5;28mprint\u001b[39m(\u001b[38;5;124m\"\u001b[39m\u001b[38;5;124min here\u001b[39m\u001b[38;5;124m\"\u001b[39m)\n\u001b[0;32m---> 37\u001b[0m     base_model \u001b[38;5;241m=\u001b[39m \u001b[43mAutoModelForCausalLM\u001b[49m\u001b[38;5;241;43m.\u001b[39;49m\u001b[43mfrom_pretrained\u001b[49m\u001b[43m(\u001b[49m\u001b[43mbase_model\u001b[49m\u001b[43m,\u001b[49m\u001b[43m \u001b[49m\u001b[43mquantization_config\u001b[49m\u001b[38;5;241;43m=\u001b[39;49m\u001b[43mbnb_config\u001b[49m\u001b[43m,\u001b[49m\u001b[43m \u001b[49m\u001b[43mdevice_map\u001b[49m\u001b[38;5;241;43m=\u001b[39;49m\u001b[43m{\u001b[49m\u001b[38;5;124;43m\"\u001b[39;49m\u001b[38;5;124;43m\"\u001b[39;49m\u001b[43m:\u001b[49m\u001b[43m \u001b[49m\u001b[38;5;241;43m0\u001b[39;49m\u001b[43m}\u001b[49m\u001b[43m)\u001b[49m\n\u001b[1;32m     38\u001b[0m \u001b[38;5;28;01melse\u001b[39;00m:\n\u001b[1;32m     39\u001b[0m     base_model \u001b[38;5;241m=\u001b[39m AutoModelForCausalLM\u001b[38;5;241m.\u001b[39mfrom_pretrained(base_model, quantization_config\u001b[38;5;241m=\u001b[39mbnb_config)\n",
      "File \u001b[0;32m~/Desktop/DL Research/Efficient-LLM-Benchmark/nlp/lib/python3.10/site-packages/transformers/models/auto/auto_factory.py:563\u001b[0m, in \u001b[0;36m_BaseAutoModelClass.from_pretrained\u001b[0;34m(cls, pretrained_model_name_or_path, *model_args, **kwargs)\u001b[0m\n\u001b[1;32m    561\u001b[0m \u001b[38;5;28;01melif\u001b[39;00m \u001b[38;5;28mtype\u001b[39m(config) \u001b[38;5;129;01min\u001b[39;00m \u001b[38;5;28mcls\u001b[39m\u001b[38;5;241m.\u001b[39m_model_mapping\u001b[38;5;241m.\u001b[39mkeys():\n\u001b[1;32m    562\u001b[0m     model_class \u001b[38;5;241m=\u001b[39m _get_model_class(config, \u001b[38;5;28mcls\u001b[39m\u001b[38;5;241m.\u001b[39m_model_mapping)\n\u001b[0;32m--> 563\u001b[0m     \u001b[38;5;28;01mreturn\u001b[39;00m \u001b[43mmodel_class\u001b[49m\u001b[38;5;241;43m.\u001b[39;49m\u001b[43mfrom_pretrained\u001b[49m\u001b[43m(\u001b[49m\n\u001b[1;32m    564\u001b[0m \u001b[43m        \u001b[49m\u001b[43mpretrained_model_name_or_path\u001b[49m\u001b[43m,\u001b[49m\u001b[43m \u001b[49m\u001b[38;5;241;43m*\u001b[39;49m\u001b[43mmodel_args\u001b[49m\u001b[43m,\u001b[49m\u001b[43m \u001b[49m\u001b[43mconfig\u001b[49m\u001b[38;5;241;43m=\u001b[39;49m\u001b[43mconfig\u001b[49m\u001b[43m,\u001b[49m\u001b[43m \u001b[49m\u001b[38;5;241;43m*\u001b[39;49m\u001b[38;5;241;43m*\u001b[39;49m\u001b[43mhub_kwargs\u001b[49m\u001b[43m,\u001b[49m\u001b[43m \u001b[49m\u001b[38;5;241;43m*\u001b[39;49m\u001b[38;5;241;43m*\u001b[39;49m\u001b[43mkwargs\u001b[49m\n\u001b[1;32m    565\u001b[0m \u001b[43m    \u001b[49m\u001b[43m)\u001b[49m\n\u001b[1;32m    566\u001b[0m \u001b[38;5;28;01mraise\u001b[39;00m \u001b[38;5;167;01mValueError\u001b[39;00m(\n\u001b[1;32m    567\u001b[0m     \u001b[38;5;124mf\u001b[39m\u001b[38;5;124m\"\u001b[39m\u001b[38;5;124mUnrecognized configuration class \u001b[39m\u001b[38;5;132;01m{\u001b[39;00mconfig\u001b[38;5;241m.\u001b[39m\u001b[38;5;18m__class__\u001b[39m\u001b[38;5;132;01m}\u001b[39;00m\u001b[38;5;124m for this kind of AutoModel: \u001b[39m\u001b[38;5;132;01m{\u001b[39;00m\u001b[38;5;28mcls\u001b[39m\u001b[38;5;241m.\u001b[39m\u001b[38;5;18m__name__\u001b[39m\u001b[38;5;132;01m}\u001b[39;00m\u001b[38;5;124m.\u001b[39m\u001b[38;5;130;01m\\n\u001b[39;00m\u001b[38;5;124m\"\u001b[39m\n\u001b[1;32m    568\u001b[0m     \u001b[38;5;124mf\u001b[39m\u001b[38;5;124m\"\u001b[39m\u001b[38;5;124mModel type should be one of \u001b[39m\u001b[38;5;132;01m{\u001b[39;00m\u001b[38;5;124m'\u001b[39m\u001b[38;5;124m, \u001b[39m\u001b[38;5;124m'\u001b[39m\u001b[38;5;241m.\u001b[39mjoin(c\u001b[38;5;241m.\u001b[39m\u001b[38;5;18m__name__\u001b[39m\u001b[38;5;250m \u001b[39m\u001b[38;5;28;01mfor\u001b[39;00m\u001b[38;5;250m \u001b[39mc\u001b[38;5;250m \u001b[39m\u001b[38;5;129;01min\u001b[39;00m\u001b[38;5;250m \u001b[39m\u001b[38;5;28mcls\u001b[39m\u001b[38;5;241m.\u001b[39m_model_mapping\u001b[38;5;241m.\u001b[39mkeys())\u001b[38;5;132;01m}\u001b[39;00m\u001b[38;5;124m.\u001b[39m\u001b[38;5;124m\"\u001b[39m\n\u001b[1;32m    569\u001b[0m )\n",
      "File \u001b[0;32m~/Desktop/DL Research/Efficient-LLM-Benchmark/nlp/lib/python3.10/site-packages/transformers/modeling_utils.py:3165\u001b[0m, in \u001b[0;36mPreTrainedModel.from_pretrained\u001b[0;34m(cls, pretrained_model_name_or_path, config, cache_dir, ignore_mismatched_sizes, force_download, local_files_only, token, revision, use_safetensors, *model_args, **kwargs)\u001b[0m\n\u001b[1;32m   3162\u001b[0m     hf_quantizer \u001b[38;5;241m=\u001b[39m \u001b[38;5;28;01mNone\u001b[39;00m\n\u001b[1;32m   3164\u001b[0m \u001b[38;5;28;01mif\u001b[39;00m hf_quantizer \u001b[38;5;129;01mis\u001b[39;00m \u001b[38;5;129;01mnot\u001b[39;00m \u001b[38;5;28;01mNone\u001b[39;00m:\n\u001b[0;32m-> 3165\u001b[0m     \u001b[43mhf_quantizer\u001b[49m\u001b[38;5;241;43m.\u001b[39;49m\u001b[43mvalidate_environment\u001b[49m\u001b[43m(\u001b[49m\n\u001b[1;32m   3166\u001b[0m \u001b[43m        \u001b[49m\u001b[43mtorch_dtype\u001b[49m\u001b[38;5;241;43m=\u001b[39;49m\u001b[43mtorch_dtype\u001b[49m\u001b[43m,\u001b[49m\u001b[43m \u001b[49m\u001b[43mfrom_tf\u001b[49m\u001b[38;5;241;43m=\u001b[39;49m\u001b[43mfrom_tf\u001b[49m\u001b[43m,\u001b[49m\u001b[43m \u001b[49m\u001b[43mfrom_flax\u001b[49m\u001b[38;5;241;43m=\u001b[39;49m\u001b[43mfrom_flax\u001b[49m\u001b[43m,\u001b[49m\u001b[43m \u001b[49m\u001b[43mdevice_map\u001b[49m\u001b[38;5;241;43m=\u001b[39;49m\u001b[43mdevice_map\u001b[49m\n\u001b[1;32m   3167\u001b[0m \u001b[43m    \u001b[49m\u001b[43m)\u001b[49m\n\u001b[1;32m   3168\u001b[0m     torch_dtype \u001b[38;5;241m=\u001b[39m hf_quantizer\u001b[38;5;241m.\u001b[39mupdate_torch_dtype(torch_dtype)\n\u001b[1;32m   3169\u001b[0m     device_map \u001b[38;5;241m=\u001b[39m hf_quantizer\u001b[38;5;241m.\u001b[39mupdate_device_map(device_map)\n",
      "File \u001b[0;32m~/Desktop/DL Research/Efficient-LLM-Benchmark/nlp/lib/python3.10/site-packages/transformers/quantizers/quantizer_bnb_4bit.py:62\u001b[0m, in \u001b[0;36mBnb4BitHfQuantizer.validate_environment\u001b[0;34m(self, *args, **kwargs)\u001b[0m\n\u001b[1;32m     60\u001b[0m \u001b[38;5;28;01mdef\u001b[39;00m \u001b[38;5;21mvalidate_environment\u001b[39m(\u001b[38;5;28mself\u001b[39m, \u001b[38;5;241m*\u001b[39margs, \u001b[38;5;241m*\u001b[39m\u001b[38;5;241m*\u001b[39mkwargs):\n\u001b[1;32m     61\u001b[0m     \u001b[38;5;28;01mif\u001b[39;00m \u001b[38;5;129;01mnot\u001b[39;00m (is_accelerate_available() \u001b[38;5;129;01mand\u001b[39;00m is_bitsandbytes_available()):\n\u001b[0;32m---> 62\u001b[0m         \u001b[38;5;28;01mraise\u001b[39;00m \u001b[38;5;167;01mImportError\u001b[39;00m(\n\u001b[1;32m     63\u001b[0m             \u001b[38;5;124m\"\u001b[39m\u001b[38;5;124mUsing `bitsandbytes` 8-bit quantization requires Accelerate: `pip install accelerate` \u001b[39m\u001b[38;5;124m\"\u001b[39m\n\u001b[1;32m     64\u001b[0m             \u001b[38;5;124m\"\u001b[39m\u001b[38;5;124mand the latest version of bitsandbytes: `pip install -i https://pypi.org/simple/ bitsandbytes`\u001b[39m\u001b[38;5;124m\"\u001b[39m\n\u001b[1;32m     65\u001b[0m         )\n\u001b[1;32m     67\u001b[0m     \u001b[38;5;28;01mif\u001b[39;00m kwargs\u001b[38;5;241m.\u001b[39mget(\u001b[38;5;124m\"\u001b[39m\u001b[38;5;124mfrom_tf\u001b[39m\u001b[38;5;124m\"\u001b[39m, \u001b[38;5;28;01mFalse\u001b[39;00m) \u001b[38;5;129;01mor\u001b[39;00m kwargs\u001b[38;5;241m.\u001b[39mget(\u001b[38;5;124m\"\u001b[39m\u001b[38;5;124mfrom_flax\u001b[39m\u001b[38;5;124m\"\u001b[39m, \u001b[38;5;28;01mFalse\u001b[39;00m):\n\u001b[1;32m     68\u001b[0m         \u001b[38;5;28;01mraise\u001b[39;00m \u001b[38;5;167;01mValueError\u001b[39;00m(\n\u001b[1;32m     69\u001b[0m             \u001b[38;5;124m\"\u001b[39m\u001b[38;5;124mConverting into 4-bit or 8-bit weights from tf/flax weights is currently not supported, please make\u001b[39m\u001b[38;5;124m\"\u001b[39m\n\u001b[1;32m     70\u001b[0m             \u001b[38;5;124m\"\u001b[39m\u001b[38;5;124m sure the weights are in PyTorch format.\u001b[39m\u001b[38;5;124m\"\u001b[39m\n\u001b[1;32m     71\u001b[0m         )\n",
      "\u001b[0;31mImportError\u001b[0m: Using `bitsandbytes` 8-bit quantization requires Accelerate: `pip install accelerate` and the latest version of bitsandbytes: `pip install -i https://pypi.org/simple/ bitsandbytes`"
     ]
    }
   ],
   "source": [
    "# Testing all Quantization for Gemma-7b \n",
    "gemma_model, gemma_tokenizer = load_model(base_model=\"google/gemma-7b\", bnb_config=CONFIG_4BITS_NORM_NESTED, on_gpu=True, use_cache=False, pretraining_tp=1) \n",
    "del_model_of_gpu(gemma_model)\n",
    "gemma_model, gemma_tokenizer = load_model(base_model=\"google/gemma-7b\", bnb_config=CONFIG_4BITS_NORM, on_gpu=True, use_cache=False, pretraining_tp=1)\n",
    "del_model_of_gpu(gemma_model)\n",
    "gemma_model, gemma_tokenizer = load_model(base_model=\"google/gemma-7b\", bnb_config=CONFIG_4BITS_NESTED, on_gpu=True, use_cache=False, pretraining_tp=1)\n",
    "del_model_of_gpu(gemma_model)\n",
    "gemma_model, gemma_tokenizer = load_model(base_model=\"google/gemma-7b\", bnb_config=CONFIG_4BITS, on_gpu=True, use_cache=False, pretraining_tp=1)\n",
    "del_model_of_gpu(gemma_model)"
   ]
  },
  {
   "cell_type": "code",
   "execution_count": null,
   "metadata": {},
   "outputs": [],
   "source": [
    "# Testing all Quantization for llama2\n",
    " \n",
    "llama2, llama2_tokenizer= load_model(base_model=\"meta-llama/Llama-2-7b-hf\", bnb_config=CONFIG_4BITS_NORM_NESTED, on_gpu=True, use_cache=False, pretraining_tp=1) # Andrey \n",
    "del_model_of_gpu(llama2)\n",
    "\n",
    "llama2, llama2_tokenizer= load_model(base_model=\"meta-llama/Llama-2-7b-hf\", bnb_config=CONFIG_4BITS_NORM, on_gpu=True, use_cache=False, pretraining_tp=1) # Andrey \n",
    "del_model_of_gpu(llama2)\n",
    "\n",
    "llama2, llama2_tokenizer= load_model(base_model=\"meta-llama/Llama-2-7b-hf\", bnb_config=CONFIG_4BITS_NESTED, on_gpu=True, use_cache=False, pretraining_tp=1) # Andrey \n",
    "del_model_of_gpu(llama2)\n",
    "\n",
    "llama2, llama2_tokenizer= load_model(base_model=\"meta-llama/Llama-2-7b-hf\", bnb_config=CONFIG_4BITS, on_gpu=True, use_cache=False, pretraining_tp=1) # Andrey \n",
    "del_model_of_gpu(llama2)"
   ]
  },
  {
   "cell_type": "code",
   "execution_count": null,
   "metadata": {},
   "outputs": [],
   "source": [
    "# Testing all Quantization for Mistral\n",
    "\n",
    "mistral_model, mistral_tokenizer = load_model(base_model=\"mistralai/Mistral-7B-v0.1\", bnb_config=CONFIG_4BITS_NORM_NESTED, on_gpu=True, use_cache=False, pretraining_tp=1) # Andrey \n",
    "del_model_of_gpu(mistral_model)\n",
    "\n",
    "mistral_model, mistral_tokenizer = load_model(base_model=\"mistralai/Mistral-7B-v0.1\", bnb_config=CONFIG_4BITS_NORM, on_gpu=True, use_cache=False, pretraining_tp=1) # Andrey \n",
    "del_model_of_gpu(mistral_model)\n",
    "\n",
    "mistral_model, mistral_tokenizer = load_model(base_model=\"mistralai/Mistral-7B-v0.1\", bnb_config=CONFIG_4BITS_NESTED, on_gpu=True, use_cache=False, pretraining_tp=1) # Andrey \n",
    "del_model_of_gpu(mistral_model)\n",
    "\n",
    "mistral_model, mistral_tokenizer = load_model(base_model=\"mistralai/Mistral-7B-v0.1\", bnb_config=CONFIG_4BITS, on_gpu=True, use_cache=False, pretraining_tp=1) # Andrey \n",
    "del_model_of_gpu(mistral_model)"
   ]
  },
  {
   "cell_type": "code",
   "execution_count": null,
   "metadata": {},
   "outputs": [],
   "source": [
    "# Testing QLoRA load for Gemma-7b, Llama-2 & Mistral (if this works, Lora works as Lora is unquantized variant)\n",
    "\n",
    "peftConfig = prepare_lora_config()\n",
    "\n",
    "gemma_model, gemma_tokenizer = load_model(base_model=\"google/gemma-7b\", bnb_config=CONFIG_4BITS_NORM_NESTED, on_gpu=True, use_cache=False, pretraining_tp=1) \n",
    "peft_model = prepare_peft_model(gemma_model, gemma_tokenizer)\n",
    "trainer = setup_trainer(peft_model, gemma_tokenizer, peftConfig)\n",
    "del_model_of_gpu(gemma_model)\n",
    "del_model_of_gpu(peft_model)\n",
    "\n",
    "\n",
    "llama2, llama2_tokenizer= load_model(base_model=\"meta-llama/Llama-2-7b-hf\", bnb_config=CONFIG_4BITS_NORM_NESTED, on_gpu=True, use_cache=False, pretraining_tp=1) # Andrey \n",
    "peft_model = prepare_peft_model(llama2, llama2_tokenizer)\n",
    "trainer = setup_trainer(peft_model, llama2_tokenizer, peftConfig)\n",
    "del_model_of_gpu(llama2)\n",
    "del_model_of_gpu(peft_model)\n",
    "\n",
    "\n",
    "mistral_model, mistral_tokenizer = load_model(base_model=\"mistralai/Mistral-7B-v0.1\", bnb_config=CONFIG_4BITS_NORM_NESTED, on_gpu=True, use_cache=False, pretraining_tp=1) # Andrey \n",
    "peft_model = prepare_peft_model(llama2, llama2_tokenizer)\n",
    "trainer = setup_trainer(peft_model, llama2_tokenizer, peftConfig)\n",
    "del_model_of_gpu(mistral_model)\n",
    "del_model_of_gpu(peft_model)"
   ]
  },
  {
   "cell_type": "code",
   "execution_count": null,
   "metadata": {},
   "outputs": [],
   "source": [
    "# Testing IA3 loads for Gemma-7b, Llama-2, & Mistral\n",
    "\n",
    "peftConfig = prepare_ia3_config()\n",
    "\n",
    "gemma_model, gemma_tokenizer = load_model(base_model=\"google/gemma-7b\", bnb_config=CONFIG_4BITS_NORM_NESTED, on_gpu=True, use_cache=False, pretraining_tp=1) \n",
    "peft_model = prepare_peft_model(gemma_model, gemma_tokenizer)\n",
    "trainer = setup_trainer(peft_model, gemma_tokenizer, peftConfig)\n",
    "del_model_of_gpu(gemma_model)\n",
    "del_model_of_gpu(peft_model)\n",
    "\n",
    "\n",
    "llama2, llama2_tokenizer= load_model(base_model=\"meta-llama/Llama-2-7b-hf\", bnb_config=CONFIG_4BITS_NORM_NESTED, on_gpu=True, use_cache=False, pretraining_tp=1) # Andrey \n",
    "peft_model = prepare_peft_model(llama2, llama2_tokenizer)\n",
    "trainer = setup_trainer(peft_model, llama2_tokenizer, peftConfig)\n",
    "del_model_of_gpu(llama2)\n",
    "del_model_of_gpu(peft_model)\n",
    "\n",
    "\n",
    "mistral_model, mistral_tokenizer = load_model(base_model=\"mistralai/Mistral-7B-v0.1\", bnb_config=CONFIG_4BITS_NORM_NESTED, on_gpu=True, use_cache=False, pretraining_tp=1) # Andrey \n",
    "peft_model = prepare_peft_model(llama2, llama2_tokenizer)\n",
    "trainer = setup_trainer(peft_model, llama2_tokenizer, peftConfig)\n",
    "del_model_of_gpu(mistral_model)\n",
    "del_model_of_gpu(peft_model)"
   ]
  },
  {
   "cell_type": "code",
   "execution_count": null,
   "metadata": {},
   "outputs": [],
   "source": [
    "# Testing Adalora loads for Gemma-7b, Llama-2, & Mistral\n",
    "\n",
    "peftConfig = prepare_adalora_config()\n",
    "\n",
    "gemma_model, gemma_tokenizer = load_model(base_model=\"google/gemma-7b\", bnb_config=CONFIG_4BITS_NORM_NESTED, on_gpu=True, use_cache=False, pretraining_tp=1) \n",
    "peft_model = prepare_peft_model(gemma_model, gemma_tokenizer)\n",
    "trainer = setup_trainer(peft_model, gemma_tokenizer, peftConfig)\n",
    "del_model_of_gpu(gemma_model)\n",
    "del_model_of_gpu(peft_model)\n",
    "\n",
    "\n",
    "llama2, llama2_tokenizer= load_model(base_model=\"meta-llama/Llama-2-7b-hf\", bnb_config=CONFIG_4BITS_NORM_NESTED, on_gpu=True, use_cache=False, pretraining_tp=1) # Andrey \n",
    "peft_model = prepare_peft_model(llama2, llama2_tokenizer)\n",
    "trainer = setup_trainer(peft_model, llama2_tokenizer, peftConfig)\n",
    "del_model_of_gpu(llama2)\n",
    "del_model_of_gpu(peft_model)\n",
    "\n",
    "\n",
    "mistral_model, mistral_tokenizer = load_model(base_model=\"mistralai/Mistral-7B-v0.1\", bnb_config=CONFIG_4BITS_NORM_NESTED, on_gpu=True, use_cache=False, pretraining_tp=1) # Andrey \n",
    "peft_model = prepare_peft_model(llama2, llama2_tokenizer)\n",
    "trainer = setup_trainer(peft_model, llama2_tokenizer, peftConfig)\n",
    "del_model_of_gpu(mistral_model)\n",
    "del_model_of_gpu(peft_model)"
   ]
  },
  {
   "cell_type": "code",
   "execution_count": null,
   "metadata": {},
   "outputs": [],
   "source": [
    "# Testing prompt-tuning loads for Gemma-7b, Llama-2, & Mistral\n",
    "\n",
    "gemma_model, gemma_tokenizer = load_model(base_model=\"google/gemma-7b\", bnb_config=CONFIG_4BITS_NORM_NESTED, on_gpu=True, use_cache=False, pretraining_tp=1) \n",
    "peftConfig = prepare_prompt_tuning_config(prompt_tuning_init_task=\"Answer this question truthfully\", num_virtual_tokens=20, tokenizer_model=gemma_tokenizer)\n",
    "peft_model = prepare_peft_model(gemma_model, gemma_tokenizer)\n",
    "trainer = setup_trainer(peft_model, gemma_tokenizer, peftConfig)\n",
    "del_model_of_gpu(gemma_model)\n",
    "del_model_of_gpu(peft_model)\n",
    "\n",
    "\n",
    "llama2, llama2_tokenizer= load_model(base_model=\"meta-llama/Llama-2-7b-hf\", bnb_config=CONFIG_4BITS_NORM_NESTED, on_gpu=True, use_cache=False, pretraining_tp=1) \n",
    "peftConfig = prepare_prompt_tuning_config(prompt_tuning_init_task=\"Answer this question truthfully\", num_virtual_tokens=20, tokenizer_model=llama2_tokenizer)\n",
    "peft_model = prepare_peft_model(llama2, llama2_tokenizer)\n",
    "trainer = setup_trainer(peft_model, llama2_tokenizer, peftConfig)\n",
    "del_model_of_gpu(llama2)\n",
    "del_model_of_gpu(peft_model)\n",
    "\n",
    "\n",
    "mistral_model, mistral_tokenizer = load_model(base_model=\"mistralai/Mistral-7B-v0.1\", bnb_config=CONFIG_4BITS_NORM_NESTED, on_gpu=True, use_cache=False, pretraining_tp=1) # Andrey \n",
    "peftConfig = prepare_prompt_tuning_config(prompt_tuning_init_task=\"Answer this question truthfully\", num_virtual_tokens=20, tokenizer_model=mistral_tokenizer)\n",
    "peft_model = prepare_peft_model(llama2, llama2_tokenizer)\n",
    "trainer = setup_trainer(peft_model, llama2_tokenizer, peftConfig)\n",
    "del_model_of_gpu(mistral_model)\n",
    "del_model_of_gpu(peft_model)"
   ]
  }
 ],
 "metadata": {
  "kernelspec": {
   "display_name": "EfficientLLM",
   "language": "python",
   "name": "python3"
  },
  "language_info": {
   "codemirror_mode": {
    "name": "ipython",
    "version": 3
   },
   "file_extension": ".py",
   "mimetype": "text/x-python",
   "name": "python",
   "nbconvert_exporter": "python",
   "pygments_lexer": "ipython3",
   "version": "3.10.12"
  }
 },
 "nbformat": 4,
 "nbformat_minor": 2
}
