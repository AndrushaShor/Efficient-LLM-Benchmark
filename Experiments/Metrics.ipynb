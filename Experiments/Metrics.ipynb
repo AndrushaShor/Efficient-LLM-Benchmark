{
  "cells": [
    {
      "cell_type": "markdown",
      "metadata": {
        "id": "WlCChebqeIFg"
      },
      "source": [
        "# This notebook loads predictions and calculates performance metrics and throughbput\n",
        "\n",
        "It expects loaded predictions to be in the same format as is produced in the `Predict_PEFT_Model.ipynb` notebook. I.e. a .json file with one list of predictions, one list of ground truths, one list saying which dataset the sample came from, and one list saying the throughput when generating the prediction."
      ]
    },
    {
      "cell_type": "code",
      "execution_count": 1,
      "metadata": {
        "colab": {
          "base_uri": "https://localhost:8080/"
        },
        "id": "bxDn5rGrfDa-",
        "outputId": "3dca80b2-2d5e-4b9c-d369-bbd54f6962ee"
      },
      "outputs": [
        {
          "name": "stdout",
          "output_type": "stream",
          "text": [
            "Mounted at /content/drive\n"
          ]
        }
      ],
      "source": [
        "from google.colab import drive\n",
        "drive.mount('/content/drive')"
      ]
    },
    {
      "cell_type": "code",
      "execution_count": 2,
      "metadata": {
        "colab": {
          "base_uri": "https://localhost:8080/"
        },
        "id": "etdKd5ztfJeU",
        "outputId": "5d4d613e-fb37-47c7-d203-797a1b3f26d5"
      },
      "outputs": [
        {
          "name": "stdout",
          "output_type": "stream",
          "text": [
            "/content/drive/.shortcut-targets-by-id/1ttMDC1vO7-d3JL9f_kDjpBd1LpxUxMSl/Efficient LLM Benchmarks\n"
          ]
        }
      ],
      "source": [
        "%load_ext autoreload\n",
        "%autoreload 2\n",
        "%cd drive/MyDrive/Efficient LLM Benchmarks"
      ]
    },
    {
      "cell_type": "code",
      "execution_count": 3,
      "metadata": {
        "colab": {
          "base_uri": "https://localhost:8080/"
        },
        "id": "5HDONjXXfK-T",
        "outputId": "115e8b66-2c8e-419d-bd33-c8b53678eada"
      },
      "outputs": [
        {
          "name": "stdout",
          "output_type": "stream",
          "text": [
            "Collecting datasets\n",
            "  Downloading datasets-2.19.0-py3-none-any.whl (542 kB)\n",
            "\u001b[2K     \u001b[90m━━━━━━━━━━━━━━━━━━━━━━━━━━━━━━━━━━━━━━━━\u001b[0m \u001b[32m542.0/542.0 kB\u001b[0m \u001b[31m6.3 MB/s\u001b[0m eta \u001b[36m0:00:00\u001b[0m\n",
            "\u001b[?25hRequirement already satisfied: filelock in /usr/local/lib/python3.10/dist-packages (from datasets) (3.13.4)\n",
            "Requirement already satisfied: numpy>=1.17 in /usr/local/lib/python3.10/dist-packages (from datasets) (1.25.2)\n",
            "Requirement already satisfied: pyarrow>=12.0.0 in /usr/local/lib/python3.10/dist-packages (from datasets) (14.0.2)\n",
            "Requirement already satisfied: pyarrow-hotfix in /usr/local/lib/python3.10/dist-packages (from datasets) (0.6)\n",
            "Collecting dill<0.3.9,>=0.3.0 (from datasets)\n",
            "  Downloading dill-0.3.8-py3-none-any.whl (116 kB)\n",
            "\u001b[2K     \u001b[90m━━━━━━━━━━━━━━━━━━━━━━━━━━━━━━━━━━━━━━━━\u001b[0m \u001b[32m116.3/116.3 kB\u001b[0m \u001b[31m9.8 MB/s\u001b[0m eta \u001b[36m0:00:00\u001b[0m\n",
            "\u001b[?25hRequirement already satisfied: pandas in /usr/local/lib/python3.10/dist-packages (from datasets) (2.0.3)\n",
            "Requirement already satisfied: requests>=2.19.0 in /usr/local/lib/python3.10/dist-packages (from datasets) (2.31.0)\n",
            "Requirement already satisfied: tqdm>=4.62.1 in /usr/local/lib/python3.10/dist-packages (from datasets) (4.66.2)\n",
            "Collecting xxhash (from datasets)\n",
            "  Downloading xxhash-3.4.1-cp310-cp310-manylinux_2_17_x86_64.manylinux2014_x86_64.whl (194 kB)\n",
            "\u001b[2K     \u001b[90m━━━━━━━━━━━━━━━━━━━━━━━━━━━━━━━━━━━━━━━━\u001b[0m \u001b[32m194.1/194.1 kB\u001b[0m \u001b[31m7.7 MB/s\u001b[0m eta \u001b[36m0:00:00\u001b[0m\n",
            "\u001b[?25hCollecting multiprocess (from datasets)\n",
            "  Downloading multiprocess-0.70.16-py310-none-any.whl (134 kB)\n",
            "\u001b[2K     \u001b[90m━━━━━━━━━━━━━━━━━━━━━━━━━━━━━━━━━━━━━━━━\u001b[0m \u001b[32m134.8/134.8 kB\u001b[0m \u001b[31m10.6 MB/s\u001b[0m eta \u001b[36m0:00:00\u001b[0m\n",
            "\u001b[?25hRequirement already satisfied: fsspec[http]<=2024.3.1,>=2023.1.0 in /usr/local/lib/python3.10/dist-packages (from datasets) (2023.6.0)\n",
            "Requirement already satisfied: aiohttp in /usr/local/lib/python3.10/dist-packages (from datasets) (3.9.5)\n",
            "Collecting huggingface-hub>=0.21.2 (from datasets)\n",
            "  Downloading huggingface_hub-0.22.2-py3-none-any.whl (388 kB)\n",
            "\u001b[2K     \u001b[90m━━━━━━━━━━━━━━━━━━━━━━━━━━━━━━━━━━━━━━━━\u001b[0m \u001b[32m388.9/388.9 kB\u001b[0m \u001b[31m11.9 MB/s\u001b[0m eta \u001b[36m0:00:00\u001b[0m\n",
            "\u001b[?25hRequirement already satisfied: packaging in /usr/local/lib/python3.10/dist-packages (from datasets) (24.0)\n",
            "Requirement already satisfied: pyyaml>=5.1 in /usr/local/lib/python3.10/dist-packages (from datasets) (6.0.1)\n",
            "Requirement already satisfied: aiosignal>=1.1.2 in /usr/local/lib/python3.10/dist-packages (from aiohttp->datasets) (1.3.1)\n",
            "Requirement already satisfied: attrs>=17.3.0 in /usr/local/lib/python3.10/dist-packages (from aiohttp->datasets) (23.2.0)\n",
            "Requirement already satisfied: frozenlist>=1.1.1 in /usr/local/lib/python3.10/dist-packages (from aiohttp->datasets) (1.4.1)\n",
            "Requirement already satisfied: multidict<7.0,>=4.5 in /usr/local/lib/python3.10/dist-packages (from aiohttp->datasets) (6.0.5)\n",
            "Requirement already satisfied: yarl<2.0,>=1.0 in /usr/local/lib/python3.10/dist-packages (from aiohttp->datasets) (1.9.4)\n",
            "Requirement already satisfied: async-timeout<5.0,>=4.0 in /usr/local/lib/python3.10/dist-packages (from aiohttp->datasets) (4.0.3)\n",
            "Requirement already satisfied: typing-extensions>=3.7.4.3 in /usr/local/lib/python3.10/dist-packages (from huggingface-hub>=0.21.2->datasets) (4.11.0)\n",
            "Requirement already satisfied: charset-normalizer<4,>=2 in /usr/local/lib/python3.10/dist-packages (from requests>=2.19.0->datasets) (3.3.2)\n",
            "Requirement already satisfied: idna<4,>=2.5 in /usr/local/lib/python3.10/dist-packages (from requests>=2.19.0->datasets) (3.7)\n",
            "Requirement already satisfied: urllib3<3,>=1.21.1 in /usr/local/lib/python3.10/dist-packages (from requests>=2.19.0->datasets) (2.0.7)\n",
            "Requirement already satisfied: certifi>=2017.4.17 in /usr/local/lib/python3.10/dist-packages (from requests>=2.19.0->datasets) (2024.2.2)\n",
            "Requirement already satisfied: python-dateutil>=2.8.2 in /usr/local/lib/python3.10/dist-packages (from pandas->datasets) (2.8.2)\n",
            "Requirement already satisfied: pytz>=2020.1 in /usr/local/lib/python3.10/dist-packages (from pandas->datasets) (2023.4)\n",
            "Requirement already satisfied: tzdata>=2022.1 in /usr/local/lib/python3.10/dist-packages (from pandas->datasets) (2024.1)\n",
            "Requirement already satisfied: six>=1.5 in /usr/local/lib/python3.10/dist-packages (from python-dateutil>=2.8.2->pandas->datasets) (1.16.0)\n",
            "Installing collected packages: xxhash, dill, multiprocess, huggingface-hub, datasets\n",
            "  Attempting uninstall: huggingface-hub\n",
            "    Found existing installation: huggingface-hub 0.20.3\n",
            "    Uninstalling huggingface-hub-0.20.3:\n",
            "      Successfully uninstalled huggingface-hub-0.20.3\n",
            "Successfully installed datasets-2.19.0 dill-0.3.8 huggingface-hub-0.22.2 multiprocess-0.70.16 xxhash-3.4.1\n",
            "Collecting accelerate\n",
            "  Downloading accelerate-0.29.3-py3-none-any.whl (297 kB)\n",
            "\u001b[2K     \u001b[90m━━━━━━━━━━━━━━━━━━━━━━━━━━━━━━━━━━━━━━━━\u001b[0m \u001b[32m297.6/297.6 kB\u001b[0m \u001b[31m4.7 MB/s\u001b[0m eta \u001b[36m0:00:00\u001b[0m\n",
            "\u001b[?25hRequirement already satisfied: numpy>=1.17 in /usr/local/lib/python3.10/dist-packages (from accelerate) (1.25.2)\n",
            "Requirement already satisfied: packaging>=20.0 in /usr/local/lib/python3.10/dist-packages (from accelerate) (24.0)\n",
            "Requirement already satisfied: psutil in /usr/local/lib/python3.10/dist-packages (from accelerate) (5.9.5)\n",
            "Requirement already satisfied: pyyaml in /usr/local/lib/python3.10/dist-packages (from accelerate) (6.0.1)\n",
            "Requirement already satisfied: torch>=1.10.0 in /usr/local/lib/python3.10/dist-packages (from accelerate) (2.2.1+cu121)\n",
            "Requirement already satisfied: huggingface-hub in /usr/local/lib/python3.10/dist-packages (from accelerate) (0.22.2)\n",
            "Requirement already satisfied: safetensors>=0.3.1 in /usr/local/lib/python3.10/dist-packages (from accelerate) (0.4.3)\n",
            "Requirement already satisfied: filelock in /usr/local/lib/python3.10/dist-packages (from torch>=1.10.0->accelerate) (3.13.4)\n",
            "Requirement already satisfied: typing-extensions>=4.8.0 in /usr/local/lib/python3.10/dist-packages (from torch>=1.10.0->accelerate) (4.11.0)\n",
            "Requirement already satisfied: sympy in /usr/local/lib/python3.10/dist-packages (from torch>=1.10.0->accelerate) (1.12)\n",
            "Requirement already satisfied: networkx in /usr/local/lib/python3.10/dist-packages (from torch>=1.10.0->accelerate) (3.3)\n",
            "Requirement already satisfied: jinja2 in /usr/local/lib/python3.10/dist-packages (from torch>=1.10.0->accelerate) (3.1.3)\n",
            "Requirement already satisfied: fsspec in /usr/local/lib/python3.10/dist-packages (from torch>=1.10.0->accelerate) (2023.6.0)\n",
            "Collecting nvidia-cuda-nvrtc-cu12==12.1.105 (from torch>=1.10.0->accelerate)\n",
            "  Using cached nvidia_cuda_nvrtc_cu12-12.1.105-py3-none-manylinux1_x86_64.whl (23.7 MB)\n",
            "Collecting nvidia-cuda-runtime-cu12==12.1.105 (from torch>=1.10.0->accelerate)\n",
            "  Using cached nvidia_cuda_runtime_cu12-12.1.105-py3-none-manylinux1_x86_64.whl (823 kB)\n",
            "Collecting nvidia-cuda-cupti-cu12==12.1.105 (from torch>=1.10.0->accelerate)\n",
            "  Using cached nvidia_cuda_cupti_cu12-12.1.105-py3-none-manylinux1_x86_64.whl (14.1 MB)\n",
            "Collecting nvidia-cudnn-cu12==8.9.2.26 (from torch>=1.10.0->accelerate)\n",
            "  Using cached nvidia_cudnn_cu12-8.9.2.26-py3-none-manylinux1_x86_64.whl (731.7 MB)\n",
            "Collecting nvidia-cublas-cu12==12.1.3.1 (from torch>=1.10.0->accelerate)\n",
            "  Using cached nvidia_cublas_cu12-12.1.3.1-py3-none-manylinux1_x86_64.whl (410.6 MB)\n",
            "Collecting nvidia-cufft-cu12==11.0.2.54 (from torch>=1.10.0->accelerate)\n",
            "  Using cached nvidia_cufft_cu12-11.0.2.54-py3-none-manylinux1_x86_64.whl (121.6 MB)\n",
            "Collecting nvidia-curand-cu12==10.3.2.106 (from torch>=1.10.0->accelerate)\n",
            "  Using cached nvidia_curand_cu12-10.3.2.106-py3-none-manylinux1_x86_64.whl (56.5 MB)\n",
            "Collecting nvidia-cusolver-cu12==11.4.5.107 (from torch>=1.10.0->accelerate)\n",
            "  Using cached nvidia_cusolver_cu12-11.4.5.107-py3-none-manylinux1_x86_64.whl (124.2 MB)\n",
            "Collecting nvidia-cusparse-cu12==12.1.0.106 (from torch>=1.10.0->accelerate)\n",
            "  Using cached nvidia_cusparse_cu12-12.1.0.106-py3-none-manylinux1_x86_64.whl (196.0 MB)\n",
            "Collecting nvidia-nccl-cu12==2.19.3 (from torch>=1.10.0->accelerate)\n",
            "  Using cached nvidia_nccl_cu12-2.19.3-py3-none-manylinux1_x86_64.whl (166.0 MB)\n",
            "Collecting nvidia-nvtx-cu12==12.1.105 (from torch>=1.10.0->accelerate)\n",
            "  Using cached nvidia_nvtx_cu12-12.1.105-py3-none-manylinux1_x86_64.whl (99 kB)\n",
            "Requirement already satisfied: triton==2.2.0 in /usr/local/lib/python3.10/dist-packages (from torch>=1.10.0->accelerate) (2.2.0)\n",
            "Collecting nvidia-nvjitlink-cu12 (from nvidia-cusolver-cu12==11.4.5.107->torch>=1.10.0->accelerate)\n",
            "  Using cached nvidia_nvjitlink_cu12-12.4.127-py3-none-manylinux2014_x86_64.whl (21.1 MB)\n",
            "Requirement already satisfied: requests in /usr/local/lib/python3.10/dist-packages (from huggingface-hub->accelerate) (2.31.0)\n",
            "Requirement already satisfied: tqdm>=4.42.1 in /usr/local/lib/python3.10/dist-packages (from huggingface-hub->accelerate) (4.66.2)\n",
            "Requirement already satisfied: MarkupSafe>=2.0 in /usr/local/lib/python3.10/dist-packages (from jinja2->torch>=1.10.0->accelerate) (2.1.5)\n",
            "Requirement already satisfied: charset-normalizer<4,>=2 in /usr/local/lib/python3.10/dist-packages (from requests->huggingface-hub->accelerate) (3.3.2)\n",
            "Requirement already satisfied: idna<4,>=2.5 in /usr/local/lib/python3.10/dist-packages (from requests->huggingface-hub->accelerate) (3.7)\n",
            "Requirement already satisfied: urllib3<3,>=1.21.1 in /usr/local/lib/python3.10/dist-packages (from requests->huggingface-hub->accelerate) (2.0.7)\n",
            "Requirement already satisfied: certifi>=2017.4.17 in /usr/local/lib/python3.10/dist-packages (from requests->huggingface-hub->accelerate) (2024.2.2)\n",
            "Requirement already satisfied: mpmath>=0.19 in /usr/local/lib/python3.10/dist-packages (from sympy->torch>=1.10.0->accelerate) (1.3.0)\n",
            "Installing collected packages: nvidia-nvtx-cu12, nvidia-nvjitlink-cu12, nvidia-nccl-cu12, nvidia-curand-cu12, nvidia-cufft-cu12, nvidia-cuda-runtime-cu12, nvidia-cuda-nvrtc-cu12, nvidia-cuda-cupti-cu12, nvidia-cublas-cu12, nvidia-cusparse-cu12, nvidia-cudnn-cu12, nvidia-cusolver-cu12, accelerate\n",
            "Successfully installed accelerate-0.29.3 nvidia-cublas-cu12-12.1.3.1 nvidia-cuda-cupti-cu12-12.1.105 nvidia-cuda-nvrtc-cu12-12.1.105 nvidia-cuda-runtime-cu12-12.1.105 nvidia-cudnn-cu12-8.9.2.26 nvidia-cufft-cu12-11.0.2.54 nvidia-curand-cu12-10.3.2.106 nvidia-cusolver-cu12-11.4.5.107 nvidia-cusparse-cu12-12.1.0.106 nvidia-nccl-cu12-2.19.3 nvidia-nvjitlink-cu12-12.4.127 nvidia-nvtx-cu12-12.1.105\n",
            "Collecting bitsandbytes\n",
            "  Downloading bitsandbytes-0.43.1-py3-none-manylinux_2_24_x86_64.whl (119.8 MB)\n",
            "\u001b[2K     \u001b[90m━━━━━━━━━━━━━━━━━━━━━━━━━━━━━━━━━━━━━━━━\u001b[0m \u001b[32m119.8/119.8 MB\u001b[0m \u001b[31m8.3 MB/s\u001b[0m eta \u001b[36m0:00:00\u001b[0m\n",
            "\u001b[?25hRequirement already satisfied: torch in /usr/local/lib/python3.10/dist-packages (from bitsandbytes) (2.2.1+cu121)\n",
            "Requirement already satisfied: numpy in /usr/local/lib/python3.10/dist-packages (from bitsandbytes) (1.25.2)\n",
            "Requirement already satisfied: filelock in /usr/local/lib/python3.10/dist-packages (from torch->bitsandbytes) (3.13.4)\n",
            "Requirement already satisfied: typing-extensions>=4.8.0 in /usr/local/lib/python3.10/dist-packages (from torch->bitsandbytes) (4.11.0)\n",
            "Requirement already satisfied: sympy in /usr/local/lib/python3.10/dist-packages (from torch->bitsandbytes) (1.12)\n",
            "Requirement already satisfied: networkx in /usr/local/lib/python3.10/dist-packages (from torch->bitsandbytes) (3.3)\n",
            "Requirement already satisfied: jinja2 in /usr/local/lib/python3.10/dist-packages (from torch->bitsandbytes) (3.1.3)\n",
            "Requirement already satisfied: fsspec in /usr/local/lib/python3.10/dist-packages (from torch->bitsandbytes) (2023.6.0)\n",
            "Requirement already satisfied: nvidia-cuda-nvrtc-cu12==12.1.105 in /usr/local/lib/python3.10/dist-packages (from torch->bitsandbytes) (12.1.105)\n",
            "Requirement already satisfied: nvidia-cuda-runtime-cu12==12.1.105 in /usr/local/lib/python3.10/dist-packages (from torch->bitsandbytes) (12.1.105)\n",
            "Requirement already satisfied: nvidia-cuda-cupti-cu12==12.1.105 in /usr/local/lib/python3.10/dist-packages (from torch->bitsandbytes) (12.1.105)\n",
            "Requirement already satisfied: nvidia-cudnn-cu12==8.9.2.26 in /usr/local/lib/python3.10/dist-packages (from torch->bitsandbytes) (8.9.2.26)\n",
            "Requirement already satisfied: nvidia-cublas-cu12==12.1.3.1 in /usr/local/lib/python3.10/dist-packages (from torch->bitsandbytes) (12.1.3.1)\n",
            "Requirement already satisfied: nvidia-cufft-cu12==11.0.2.54 in /usr/local/lib/python3.10/dist-packages (from torch->bitsandbytes) (11.0.2.54)\n",
            "Requirement already satisfied: nvidia-curand-cu12==10.3.2.106 in /usr/local/lib/python3.10/dist-packages (from torch->bitsandbytes) (10.3.2.106)\n",
            "Requirement already satisfied: nvidia-cusolver-cu12==11.4.5.107 in /usr/local/lib/python3.10/dist-packages (from torch->bitsandbytes) (11.4.5.107)\n",
            "Requirement already satisfied: nvidia-cusparse-cu12==12.1.0.106 in /usr/local/lib/python3.10/dist-packages (from torch->bitsandbytes) (12.1.0.106)\n",
            "Requirement already satisfied: nvidia-nccl-cu12==2.19.3 in /usr/local/lib/python3.10/dist-packages (from torch->bitsandbytes) (2.19.3)\n",
            "Requirement already satisfied: nvidia-nvtx-cu12==12.1.105 in /usr/local/lib/python3.10/dist-packages (from torch->bitsandbytes) (12.1.105)\n",
            "Requirement already satisfied: triton==2.2.0 in /usr/local/lib/python3.10/dist-packages (from torch->bitsandbytes) (2.2.0)\n",
            "Requirement already satisfied: nvidia-nvjitlink-cu12 in /usr/local/lib/python3.10/dist-packages (from nvidia-cusolver-cu12==11.4.5.107->torch->bitsandbytes) (12.4.127)\n",
            "Requirement already satisfied: MarkupSafe>=2.0 in /usr/local/lib/python3.10/dist-packages (from jinja2->torch->bitsandbytes) (2.1.5)\n",
            "Requirement already satisfied: mpmath>=0.19 in /usr/local/lib/python3.10/dist-packages (from sympy->torch->bitsandbytes) (1.3.0)\n",
            "Installing collected packages: bitsandbytes\n",
            "Successfully installed bitsandbytes-0.43.1\n",
            "Collecting peft\n",
            "  Downloading peft-0.10.0-py3-none-any.whl (199 kB)\n",
            "\u001b[2K     \u001b[90m━━━━━━━━━━━━━━━━━━━━━━━━━━━━━━━━━━━━━━━━\u001b[0m \u001b[32m199.1/199.1 kB\u001b[0m \u001b[31m3.8 MB/s\u001b[0m eta \u001b[36m0:00:00\u001b[0m\n",
            "\u001b[?25hRequirement already satisfied: numpy>=1.17 in /usr/local/lib/python3.10/dist-packages (from peft) (1.25.2)\n",
            "Requirement already satisfied: packaging>=20.0 in /usr/local/lib/python3.10/dist-packages (from peft) (24.0)\n",
            "Requirement already satisfied: psutil in /usr/local/lib/python3.10/dist-packages (from peft) (5.9.5)\n",
            "Requirement already satisfied: pyyaml in /usr/local/lib/python3.10/dist-packages (from peft) (6.0.1)\n",
            "Requirement already satisfied: torch>=1.13.0 in /usr/local/lib/python3.10/dist-packages (from peft) (2.2.1+cu121)\n",
            "Requirement already satisfied: transformers in /usr/local/lib/python3.10/dist-packages (from peft) (4.40.1)\n",
            "Requirement already satisfied: tqdm in /usr/local/lib/python3.10/dist-packages (from peft) (4.66.2)\n",
            "Requirement already satisfied: accelerate>=0.21.0 in /usr/local/lib/python3.10/dist-packages (from peft) (0.29.3)\n",
            "Requirement already satisfied: safetensors in /usr/local/lib/python3.10/dist-packages (from peft) (0.4.3)\n",
            "Requirement already satisfied: huggingface-hub>=0.17.0 in /usr/local/lib/python3.10/dist-packages (from peft) (0.22.2)\n",
            "Requirement already satisfied: filelock in /usr/local/lib/python3.10/dist-packages (from huggingface-hub>=0.17.0->peft) (3.13.4)\n",
            "Requirement already satisfied: fsspec>=2023.5.0 in /usr/local/lib/python3.10/dist-packages (from huggingface-hub>=0.17.0->peft) (2023.6.0)\n",
            "Requirement already satisfied: requests in /usr/local/lib/python3.10/dist-packages (from huggingface-hub>=0.17.0->peft) (2.31.0)\n",
            "Requirement already satisfied: typing-extensions>=3.7.4.3 in /usr/local/lib/python3.10/dist-packages (from huggingface-hub>=0.17.0->peft) (4.11.0)\n",
            "Requirement already satisfied: sympy in /usr/local/lib/python3.10/dist-packages (from torch>=1.13.0->peft) (1.12)\n",
            "Requirement already satisfied: networkx in /usr/local/lib/python3.10/dist-packages (from torch>=1.13.0->peft) (3.3)\n",
            "Requirement already satisfied: jinja2 in /usr/local/lib/python3.10/dist-packages (from torch>=1.13.0->peft) (3.1.3)\n",
            "Requirement already satisfied: nvidia-cuda-nvrtc-cu12==12.1.105 in /usr/local/lib/python3.10/dist-packages (from torch>=1.13.0->peft) (12.1.105)\n",
            "Requirement already satisfied: nvidia-cuda-runtime-cu12==12.1.105 in /usr/local/lib/python3.10/dist-packages (from torch>=1.13.0->peft) (12.1.105)\n",
            "Requirement already satisfied: nvidia-cuda-cupti-cu12==12.1.105 in /usr/local/lib/python3.10/dist-packages (from torch>=1.13.0->peft) (12.1.105)\n",
            "Requirement already satisfied: nvidia-cudnn-cu12==8.9.2.26 in /usr/local/lib/python3.10/dist-packages (from torch>=1.13.0->peft) (8.9.2.26)\n",
            "Requirement already satisfied: nvidia-cublas-cu12==12.1.3.1 in /usr/local/lib/python3.10/dist-packages (from torch>=1.13.0->peft) (12.1.3.1)\n",
            "Requirement already satisfied: nvidia-cufft-cu12==11.0.2.54 in /usr/local/lib/python3.10/dist-packages (from torch>=1.13.0->peft) (11.0.2.54)\n",
            "Requirement already satisfied: nvidia-curand-cu12==10.3.2.106 in /usr/local/lib/python3.10/dist-packages (from torch>=1.13.0->peft) (10.3.2.106)\n",
            "Requirement already satisfied: nvidia-cusolver-cu12==11.4.5.107 in /usr/local/lib/python3.10/dist-packages (from torch>=1.13.0->peft) (11.4.5.107)\n",
            "Requirement already satisfied: nvidia-cusparse-cu12==12.1.0.106 in /usr/local/lib/python3.10/dist-packages (from torch>=1.13.0->peft) (12.1.0.106)\n",
            "Requirement already satisfied: nvidia-nccl-cu12==2.19.3 in /usr/local/lib/python3.10/dist-packages (from torch>=1.13.0->peft) (2.19.3)\n",
            "Requirement already satisfied: nvidia-nvtx-cu12==12.1.105 in /usr/local/lib/python3.10/dist-packages (from torch>=1.13.0->peft) (12.1.105)\n",
            "Requirement already satisfied: triton==2.2.0 in /usr/local/lib/python3.10/dist-packages (from torch>=1.13.0->peft) (2.2.0)\n",
            "Requirement already satisfied: nvidia-nvjitlink-cu12 in /usr/local/lib/python3.10/dist-packages (from nvidia-cusolver-cu12==11.4.5.107->torch>=1.13.0->peft) (12.4.127)\n",
            "Requirement already satisfied: regex!=2019.12.17 in /usr/local/lib/python3.10/dist-packages (from transformers->peft) (2023.12.25)\n",
            "Requirement already satisfied: tokenizers<0.20,>=0.19 in /usr/local/lib/python3.10/dist-packages (from transformers->peft) (0.19.1)\n",
            "Requirement already satisfied: MarkupSafe>=2.0 in /usr/local/lib/python3.10/dist-packages (from jinja2->torch>=1.13.0->peft) (2.1.5)\n",
            "Requirement already satisfied: charset-normalizer<4,>=2 in /usr/local/lib/python3.10/dist-packages (from requests->huggingface-hub>=0.17.0->peft) (3.3.2)\n",
            "Requirement already satisfied: idna<4,>=2.5 in /usr/local/lib/python3.10/dist-packages (from requests->huggingface-hub>=0.17.0->peft) (3.7)\n",
            "Requirement already satisfied: urllib3<3,>=1.21.1 in /usr/local/lib/python3.10/dist-packages (from requests->huggingface-hub>=0.17.0->peft) (2.0.7)\n",
            "Requirement already satisfied: certifi>=2017.4.17 in /usr/local/lib/python3.10/dist-packages (from requests->huggingface-hub>=0.17.0->peft) (2024.2.2)\n",
            "Requirement already satisfied: mpmath>=0.19 in /usr/local/lib/python3.10/dist-packages (from sympy->torch>=1.13.0->peft) (1.3.0)\n",
            "Installing collected packages: peft\n",
            "Successfully installed peft-0.10.0\n",
            "Collecting trl\n",
            "  Downloading trl-0.8.6-py3-none-any.whl (245 kB)\n",
            "\u001b[2K     \u001b[90m━━━━━━━━━━━━━━━━━━━━━━━━━━━━━━━━━━━━━━━━\u001b[0m \u001b[32m245.2/245.2 kB\u001b[0m \u001b[31m3.5 MB/s\u001b[0m eta \u001b[36m0:00:00\u001b[0m\n",
            "\u001b[?25hRequirement already satisfied: torch>=1.4.0 in /usr/local/lib/python3.10/dist-packages (from trl) (2.2.1+cu121)\n",
            "Requirement already satisfied: transformers>=4.31.0 in /usr/local/lib/python3.10/dist-packages (from trl) (4.40.1)\n",
            "Requirement already satisfied: numpy>=1.18.2 in /usr/local/lib/python3.10/dist-packages (from trl) (1.25.2)\n",
            "Requirement already satisfied: accelerate in /usr/local/lib/python3.10/dist-packages (from trl) (0.29.3)\n",
            "Requirement already satisfied: datasets in /usr/local/lib/python3.10/dist-packages (from trl) (2.19.0)\n",
            "Collecting tyro>=0.5.11 (from trl)\n",
            "  Downloading tyro-0.8.3-py3-none-any.whl (102 kB)\n",
            "\u001b[2K     \u001b[90m━━━━━━━━━━━━━━━━━━━━━━━━━━━━━━━━━━━━━━━━\u001b[0m \u001b[32m102.0/102.0 kB\u001b[0m \u001b[31m9.2 MB/s\u001b[0m eta \u001b[36m0:00:00\u001b[0m\n",
            "\u001b[?25hRequirement already satisfied: filelock in /usr/local/lib/python3.10/dist-packages (from torch>=1.4.0->trl) (3.13.4)\n",
            "Requirement already satisfied: typing-extensions>=4.8.0 in /usr/local/lib/python3.10/dist-packages (from torch>=1.4.0->trl) (4.11.0)\n",
            "Requirement already satisfied: sympy in /usr/local/lib/python3.10/dist-packages (from torch>=1.4.0->trl) (1.12)\n",
            "Requirement already satisfied: networkx in /usr/local/lib/python3.10/dist-packages (from torch>=1.4.0->trl) (3.3)\n",
            "Requirement already satisfied: jinja2 in /usr/local/lib/python3.10/dist-packages (from torch>=1.4.0->trl) (3.1.3)\n",
            "Requirement already satisfied: fsspec in /usr/local/lib/python3.10/dist-packages (from torch>=1.4.0->trl) (2023.6.0)\n",
            "Requirement already satisfied: nvidia-cuda-nvrtc-cu12==12.1.105 in /usr/local/lib/python3.10/dist-packages (from torch>=1.4.0->trl) (12.1.105)\n",
            "Requirement already satisfied: nvidia-cuda-runtime-cu12==12.1.105 in /usr/local/lib/python3.10/dist-packages (from torch>=1.4.0->trl) (12.1.105)\n",
            "Requirement already satisfied: nvidia-cuda-cupti-cu12==12.1.105 in /usr/local/lib/python3.10/dist-packages (from torch>=1.4.0->trl) (12.1.105)\n",
            "Requirement already satisfied: nvidia-cudnn-cu12==8.9.2.26 in /usr/local/lib/python3.10/dist-packages (from torch>=1.4.0->trl) (8.9.2.26)\n",
            "Requirement already satisfied: nvidia-cublas-cu12==12.1.3.1 in /usr/local/lib/python3.10/dist-packages (from torch>=1.4.0->trl) (12.1.3.1)\n",
            "Requirement already satisfied: nvidia-cufft-cu12==11.0.2.54 in /usr/local/lib/python3.10/dist-packages (from torch>=1.4.0->trl) (11.0.2.54)\n",
            "Requirement already satisfied: nvidia-curand-cu12==10.3.2.106 in /usr/local/lib/python3.10/dist-packages (from torch>=1.4.0->trl) (10.3.2.106)\n",
            "Requirement already satisfied: nvidia-cusolver-cu12==11.4.5.107 in /usr/local/lib/python3.10/dist-packages (from torch>=1.4.0->trl) (11.4.5.107)\n",
            "Requirement already satisfied: nvidia-cusparse-cu12==12.1.0.106 in /usr/local/lib/python3.10/dist-packages (from torch>=1.4.0->trl) (12.1.0.106)\n",
            "Requirement already satisfied: nvidia-nccl-cu12==2.19.3 in /usr/local/lib/python3.10/dist-packages (from torch>=1.4.0->trl) (2.19.3)\n",
            "Requirement already satisfied: nvidia-nvtx-cu12==12.1.105 in /usr/local/lib/python3.10/dist-packages (from torch>=1.4.0->trl) (12.1.105)\n",
            "Requirement already satisfied: triton==2.2.0 in /usr/local/lib/python3.10/dist-packages (from torch>=1.4.0->trl) (2.2.0)\n",
            "Requirement already satisfied: nvidia-nvjitlink-cu12 in /usr/local/lib/python3.10/dist-packages (from nvidia-cusolver-cu12==11.4.5.107->torch>=1.4.0->trl) (12.4.127)\n",
            "Requirement already satisfied: huggingface-hub<1.0,>=0.19.3 in /usr/local/lib/python3.10/dist-packages (from transformers>=4.31.0->trl) (0.22.2)\n",
            "Requirement already satisfied: packaging>=20.0 in /usr/local/lib/python3.10/dist-packages (from transformers>=4.31.0->trl) (24.0)\n",
            "Requirement already satisfied: pyyaml>=5.1 in /usr/local/lib/python3.10/dist-packages (from transformers>=4.31.0->trl) (6.0.1)\n",
            "Requirement already satisfied: regex!=2019.12.17 in /usr/local/lib/python3.10/dist-packages (from transformers>=4.31.0->trl) (2023.12.25)\n",
            "Requirement already satisfied: requests in /usr/local/lib/python3.10/dist-packages (from transformers>=4.31.0->trl) (2.31.0)\n",
            "Requirement already satisfied: tokenizers<0.20,>=0.19 in /usr/local/lib/python3.10/dist-packages (from transformers>=4.31.0->trl) (0.19.1)\n",
            "Requirement already satisfied: safetensors>=0.4.1 in /usr/local/lib/python3.10/dist-packages (from transformers>=4.31.0->trl) (0.4.3)\n",
            "Requirement already satisfied: tqdm>=4.27 in /usr/local/lib/python3.10/dist-packages (from transformers>=4.31.0->trl) (4.66.2)\n",
            "Requirement already satisfied: docstring-parser>=0.14.1 in /usr/local/lib/python3.10/dist-packages (from tyro>=0.5.11->trl) (0.16)\n",
            "Requirement already satisfied: rich>=11.1.0 in /usr/local/lib/python3.10/dist-packages (from tyro>=0.5.11->trl) (13.7.1)\n",
            "Collecting shtab>=1.5.6 (from tyro>=0.5.11->trl)\n",
            "  Downloading shtab-1.7.1-py3-none-any.whl (14 kB)\n",
            "Requirement already satisfied: psutil in /usr/local/lib/python3.10/dist-packages (from accelerate->trl) (5.9.5)\n",
            "Requirement already satisfied: pyarrow>=12.0.0 in /usr/local/lib/python3.10/dist-packages (from datasets->trl) (14.0.2)\n",
            "Requirement already satisfied: pyarrow-hotfix in /usr/local/lib/python3.10/dist-packages (from datasets->trl) (0.6)\n",
            "Requirement already satisfied: dill<0.3.9,>=0.3.0 in /usr/local/lib/python3.10/dist-packages (from datasets->trl) (0.3.8)\n",
            "Requirement already satisfied: pandas in /usr/local/lib/python3.10/dist-packages (from datasets->trl) (2.0.3)\n",
            "Requirement already satisfied: xxhash in /usr/local/lib/python3.10/dist-packages (from datasets->trl) (3.4.1)\n",
            "Requirement already satisfied: multiprocess in /usr/local/lib/python3.10/dist-packages (from datasets->trl) (0.70.16)\n",
            "Requirement already satisfied: aiohttp in /usr/local/lib/python3.10/dist-packages (from datasets->trl) (3.9.5)\n",
            "Requirement already satisfied: aiosignal>=1.1.2 in /usr/local/lib/python3.10/dist-packages (from aiohttp->datasets->trl) (1.3.1)\n",
            "Requirement already satisfied: attrs>=17.3.0 in /usr/local/lib/python3.10/dist-packages (from aiohttp->datasets->trl) (23.2.0)\n",
            "Requirement already satisfied: frozenlist>=1.1.1 in /usr/local/lib/python3.10/dist-packages (from aiohttp->datasets->trl) (1.4.1)\n",
            "Requirement already satisfied: multidict<7.0,>=4.5 in /usr/local/lib/python3.10/dist-packages (from aiohttp->datasets->trl) (6.0.5)\n",
            "Requirement already satisfied: yarl<2.0,>=1.0 in /usr/local/lib/python3.10/dist-packages (from aiohttp->datasets->trl) (1.9.4)\n",
            "Requirement already satisfied: async-timeout<5.0,>=4.0 in /usr/local/lib/python3.10/dist-packages (from aiohttp->datasets->trl) (4.0.3)\n",
            "Requirement already satisfied: charset-normalizer<4,>=2 in /usr/local/lib/python3.10/dist-packages (from requests->transformers>=4.31.0->trl) (3.3.2)\n",
            "Requirement already satisfied: idna<4,>=2.5 in /usr/local/lib/python3.10/dist-packages (from requests->transformers>=4.31.0->trl) (3.7)\n",
            "Requirement already satisfied: urllib3<3,>=1.21.1 in /usr/local/lib/python3.10/dist-packages (from requests->transformers>=4.31.0->trl) (2.0.7)\n",
            "Requirement already satisfied: certifi>=2017.4.17 in /usr/local/lib/python3.10/dist-packages (from requests->transformers>=4.31.0->trl) (2024.2.2)\n",
            "Requirement already satisfied: markdown-it-py>=2.2.0 in /usr/local/lib/python3.10/dist-packages (from rich>=11.1.0->tyro>=0.5.11->trl) (3.0.0)\n",
            "Requirement already satisfied: pygments<3.0.0,>=2.13.0 in /usr/local/lib/python3.10/dist-packages (from rich>=11.1.0->tyro>=0.5.11->trl) (2.16.1)\n",
            "Requirement already satisfied: MarkupSafe>=2.0 in /usr/local/lib/python3.10/dist-packages (from jinja2->torch>=1.4.0->trl) (2.1.5)\n",
            "Requirement already satisfied: python-dateutil>=2.8.2 in /usr/local/lib/python3.10/dist-packages (from pandas->datasets->trl) (2.8.2)\n",
            "Requirement already satisfied: pytz>=2020.1 in /usr/local/lib/python3.10/dist-packages (from pandas->datasets->trl) (2023.4)\n",
            "Requirement already satisfied: tzdata>=2022.1 in /usr/local/lib/python3.10/dist-packages (from pandas->datasets->trl) (2024.1)\n",
            "Requirement already satisfied: mpmath>=0.19 in /usr/local/lib/python3.10/dist-packages (from sympy->torch>=1.4.0->trl) (1.3.0)\n",
            "Requirement already satisfied: mdurl~=0.1 in /usr/local/lib/python3.10/dist-packages (from markdown-it-py>=2.2.0->rich>=11.1.0->tyro>=0.5.11->trl) (0.1.2)\n",
            "Requirement already satisfied: six>=1.5 in /usr/local/lib/python3.10/dist-packages (from python-dateutil>=2.8.2->pandas->datasets->trl) (1.16.0)\n",
            "Installing collected packages: shtab, tyro, trl\n",
            "Successfully installed shtab-1.7.1 trl-0.8.6 tyro-0.8.3\n",
            "Requirement already satisfied: transformers in /usr/local/lib/python3.10/dist-packages (4.40.1)\n",
            "Requirement already satisfied: filelock in /usr/local/lib/python3.10/dist-packages (from transformers) (3.13.4)\n",
            "Requirement already satisfied: huggingface-hub<1.0,>=0.19.3 in /usr/local/lib/python3.10/dist-packages (from transformers) (0.22.2)\n",
            "Requirement already satisfied: numpy>=1.17 in /usr/local/lib/python3.10/dist-packages (from transformers) (1.25.2)\n",
            "Requirement already satisfied: packaging>=20.0 in /usr/local/lib/python3.10/dist-packages (from transformers) (24.0)\n",
            "Requirement already satisfied: pyyaml>=5.1 in /usr/local/lib/python3.10/dist-packages (from transformers) (6.0.1)\n",
            "Requirement already satisfied: regex!=2019.12.17 in /usr/local/lib/python3.10/dist-packages (from transformers) (2023.12.25)\n",
            "Requirement already satisfied: requests in /usr/local/lib/python3.10/dist-packages (from transformers) (2.31.0)\n",
            "Requirement already satisfied: tokenizers<0.20,>=0.19 in /usr/local/lib/python3.10/dist-packages (from transformers) (0.19.1)\n",
            "Requirement already satisfied: safetensors>=0.4.1 in /usr/local/lib/python3.10/dist-packages (from transformers) (0.4.3)\n",
            "Requirement already satisfied: tqdm>=4.27 in /usr/local/lib/python3.10/dist-packages (from transformers) (4.66.2)\n",
            "Requirement already satisfied: fsspec>=2023.5.0 in /usr/local/lib/python3.10/dist-packages (from huggingface-hub<1.0,>=0.19.3->transformers) (2023.6.0)\n",
            "Requirement already satisfied: typing-extensions>=3.7.4.3 in /usr/local/lib/python3.10/dist-packages (from huggingface-hub<1.0,>=0.19.3->transformers) (4.11.0)\n",
            "Requirement already satisfied: charset-normalizer<4,>=2 in /usr/local/lib/python3.10/dist-packages (from requests->transformers) (3.3.2)\n",
            "Requirement already satisfied: idna<4,>=2.5 in /usr/local/lib/python3.10/dist-packages (from requests->transformers) (3.7)\n",
            "Requirement already satisfied: urllib3<3,>=1.21.1 in /usr/local/lib/python3.10/dist-packages (from requests->transformers) (2.0.7)\n",
            "Requirement already satisfied: certifi>=2017.4.17 in /usr/local/lib/python3.10/dist-packages (from requests->transformers) (2024.2.2)\n",
            "Collecting evaluate\n",
            "  Downloading evaluate-0.4.2-py3-none-any.whl (84 kB)\n",
            "\u001b[2K     \u001b[90m━━━━━━━━━━━━━━━━━━━━━━━━━━━━━━━━━━━━━━━━\u001b[0m \u001b[32m84.1/84.1 kB\u001b[0m \u001b[31m2.5 MB/s\u001b[0m eta \u001b[36m0:00:00\u001b[0m\n",
            "\u001b[?25hRequirement already satisfied: datasets>=2.0.0 in /usr/local/lib/python3.10/dist-packages (from evaluate) (2.19.0)\n",
            "Requirement already satisfied: numpy>=1.17 in /usr/local/lib/python3.10/dist-packages (from evaluate) (1.25.2)\n",
            "Requirement already satisfied: dill in /usr/local/lib/python3.10/dist-packages (from evaluate) (0.3.8)\n",
            "Requirement already satisfied: pandas in /usr/local/lib/python3.10/dist-packages (from evaluate) (2.0.3)\n",
            "Requirement already satisfied: requests>=2.19.0 in /usr/local/lib/python3.10/dist-packages (from evaluate) (2.31.0)\n",
            "Requirement already satisfied: tqdm>=4.62.1 in /usr/local/lib/python3.10/dist-packages (from evaluate) (4.66.2)\n",
            "Requirement already satisfied: xxhash in /usr/local/lib/python3.10/dist-packages (from evaluate) (3.4.1)\n",
            "Requirement already satisfied: multiprocess in /usr/local/lib/python3.10/dist-packages (from evaluate) (0.70.16)\n",
            "Requirement already satisfied: fsspec[http]>=2021.05.0 in /usr/local/lib/python3.10/dist-packages (from evaluate) (2023.6.0)\n",
            "Requirement already satisfied: huggingface-hub>=0.7.0 in /usr/local/lib/python3.10/dist-packages (from evaluate) (0.22.2)\n",
            "Requirement already satisfied: packaging in /usr/local/lib/python3.10/dist-packages (from evaluate) (24.0)\n",
            "Requirement already satisfied: filelock in /usr/local/lib/python3.10/dist-packages (from datasets>=2.0.0->evaluate) (3.13.4)\n",
            "Requirement already satisfied: pyarrow>=12.0.0 in /usr/local/lib/python3.10/dist-packages (from datasets>=2.0.0->evaluate) (14.0.2)\n",
            "Requirement already satisfied: pyarrow-hotfix in /usr/local/lib/python3.10/dist-packages (from datasets>=2.0.0->evaluate) (0.6)\n",
            "Requirement already satisfied: aiohttp in /usr/local/lib/python3.10/dist-packages (from datasets>=2.0.0->evaluate) (3.9.5)\n",
            "Requirement already satisfied: pyyaml>=5.1 in /usr/local/lib/python3.10/dist-packages (from datasets>=2.0.0->evaluate) (6.0.1)\n",
            "Requirement already satisfied: typing-extensions>=3.7.4.3 in /usr/local/lib/python3.10/dist-packages (from huggingface-hub>=0.7.0->evaluate) (4.11.0)\n",
            "Requirement already satisfied: charset-normalizer<4,>=2 in /usr/local/lib/python3.10/dist-packages (from requests>=2.19.0->evaluate) (3.3.2)\n",
            "Requirement already satisfied: idna<4,>=2.5 in /usr/local/lib/python3.10/dist-packages (from requests>=2.19.0->evaluate) (3.7)\n",
            "Requirement already satisfied: urllib3<3,>=1.21.1 in /usr/local/lib/python3.10/dist-packages (from requests>=2.19.0->evaluate) (2.0.7)\n",
            "Requirement already satisfied: certifi>=2017.4.17 in /usr/local/lib/python3.10/dist-packages (from requests>=2.19.0->evaluate) (2024.2.2)\n",
            "Requirement already satisfied: python-dateutil>=2.8.2 in /usr/local/lib/python3.10/dist-packages (from pandas->evaluate) (2.8.2)\n",
            "Requirement already satisfied: pytz>=2020.1 in /usr/local/lib/python3.10/dist-packages (from pandas->evaluate) (2023.4)\n",
            "Requirement already satisfied: tzdata>=2022.1 in /usr/local/lib/python3.10/dist-packages (from pandas->evaluate) (2024.1)\n",
            "Requirement already satisfied: aiosignal>=1.1.2 in /usr/local/lib/python3.10/dist-packages (from aiohttp->datasets>=2.0.0->evaluate) (1.3.1)\n",
            "Requirement already satisfied: attrs>=17.3.0 in /usr/local/lib/python3.10/dist-packages (from aiohttp->datasets>=2.0.0->evaluate) (23.2.0)\n",
            "Requirement already satisfied: frozenlist>=1.1.1 in /usr/local/lib/python3.10/dist-packages (from aiohttp->datasets>=2.0.0->evaluate) (1.4.1)\n",
            "Requirement already satisfied: multidict<7.0,>=4.5 in /usr/local/lib/python3.10/dist-packages (from aiohttp->datasets>=2.0.0->evaluate) (6.0.5)\n",
            "Requirement already satisfied: yarl<2.0,>=1.0 in /usr/local/lib/python3.10/dist-packages (from aiohttp->datasets>=2.0.0->evaluate) (1.9.4)\n",
            "Requirement already satisfied: async-timeout<5.0,>=4.0 in /usr/local/lib/python3.10/dist-packages (from aiohttp->datasets>=2.0.0->evaluate) (4.0.3)\n",
            "Requirement already satisfied: six>=1.5 in /usr/local/lib/python3.10/dist-packages (from python-dateutil>=2.8.2->pandas->evaluate) (1.16.0)\n",
            "Installing collected packages: evaluate\n",
            "Successfully installed evaluate-0.4.2\n",
            "Collecting rouge_score\n",
            "  Downloading rouge_score-0.1.2.tar.gz (17 kB)\n",
            "  Preparing metadata (setup.py) ... \u001b[?25l\u001b[?25hdone\n",
            "Requirement already satisfied: absl-py in /usr/local/lib/python3.10/dist-packages (from rouge_score) (1.4.0)\n",
            "Requirement already satisfied: nltk in /usr/local/lib/python3.10/dist-packages (from rouge_score) (3.8.1)\n",
            "Requirement already satisfied: numpy in /usr/local/lib/python3.10/dist-packages (from rouge_score) (1.25.2)\n",
            "Requirement already satisfied: six>=1.14.0 in /usr/local/lib/python3.10/dist-packages (from rouge_score) (1.16.0)\n",
            "Requirement already satisfied: click in /usr/local/lib/python3.10/dist-packages (from nltk->rouge_score) (8.1.7)\n",
            "Requirement already satisfied: joblib in /usr/local/lib/python3.10/dist-packages (from nltk->rouge_score) (1.4.0)\n",
            "Requirement already satisfied: regex>=2021.8.3 in /usr/local/lib/python3.10/dist-packages (from nltk->rouge_score) (2023.12.25)\n",
            "Requirement already satisfied: tqdm in /usr/local/lib/python3.10/dist-packages (from nltk->rouge_score) (4.66.2)\n",
            "Building wheels for collected packages: rouge_score\n",
            "  Building wheel for rouge_score (setup.py) ... \u001b[?25l\u001b[?25hdone\n",
            "  Created wheel for rouge_score: filename=rouge_score-0.1.2-py3-none-any.whl size=24933 sha256=2a5bc7b72b7b574fefcba158109045002a426b7d6a3b2190410252da3f256717\n",
            "  Stored in directory: /root/.cache/pip/wheels/5f/dd/89/461065a73be61a532ff8599a28e9beef17985c9e9c31e541b4\n",
            "Successfully built rouge_score\n",
            "Installing collected packages: rouge_score\n",
            "Successfully installed rouge_score-0.1.2\n"
          ]
        }
      ],
      "source": [
        "!pip install datasets\n",
        "!pip install accelerate\n",
        "!pip install bitsandbytes\n",
        "!pip install peft\n",
        "!pip install trl\n",
        "!pip install transformers\n",
        "!pip install evaluate\n",
        "!pip install rouge_score"
      ]
    },
    {
      "cell_type": "code",
      "execution_count": 2,
      "metadata": {
        "id": "tqBm0mkPfRyr"
      },
      "outputs": [
        {
          "name": "stderr",
          "output_type": "stream",
          "text": [
            "/opt/anaconda3/envs/EfficientLLM/lib/python3.10/site-packages/bitsandbytes/cextension.py:34: UserWarning: The installed version of bitsandbytes was compiled without GPU support. 8-bit optimizers, 8-bit multiplication, and GPU quantization are unavailable.\n",
            "  warn(\"The installed version of bitsandbytes was compiled without GPU support. \"\n"
          ]
        },
        {
          "name": "stdout",
          "output_type": "stream",
          "text": [
            "'NoneType' object has no attribute 'cadam32bit_grad_fp32'\n"
          ]
        }
      ],
      "source": [
        "import os\n",
        "import json\n",
        "import time\n",
        "import torch\n",
        "import numpy as np\n",
        "\n",
        "import datasets\n",
        "\n",
        "# from Experiments.gcp_storage_client import storage_client\n",
        "from Experiments.eval_utils import evaluate_predictions, load_saved_predictions"
      ]
    },
    {
      "cell_type": "code",
      "execution_count": 4,
      "metadata": {
        "id": "rG3GMJIpgjIN"
      },
      "outputs": [],
      "source": [
        "base_path = '.'#'/content/drive/MyDrive/Efficient LLM Benchmarks'\n",
        "local_models_path = f'{base_path}/Experiments/trained_models'"
      ]
    },
    {
      "cell_type": "code",
      "execution_count": 5,
      "metadata": {
        "id": "GGplBx6WrdGc"
      },
      "outputs": [],
      "source": [
        "# gcp = storage_client(\"Experiments/efficient-llm-benchmark-98588edf48e1.json\", \"efficient-llm-benchmark\")\n",
        "# bucket = gcp.client.get_bucket(\"efficient_llm_benchmarks\")\n",
        "# blobs = bucket.list_blobs()\n",
        "# for blob in blobs:\n",
        "#     if 'final_metrics.json' in blob.name:\n",
        "#         dest = '/'.join(blob.name.split('/')[:-1])\n",
        "#         os.makedirs(f'{local_models_path}/{dest}', exist_ok=True)\n",
        "#         blob.download_to_filename(f'{local_models_path}/{blob.name}')  # Download"
      ]
    },
    {
      "cell_type": "code",
      "execution_count": 19,
      "metadata": {
        "id": "txRu3tYWkRfL"
      },
      "outputs": [],
      "source": [
        "base_model_pred_map = {\n",
        "    \"google/gemma-2b\": [\n",
        "        'gemma_2b_qlora_4bits_norm_nested_linear_outputs/gemma_2b_qlora_4bits_norm_nested_linear_final',\n",
        "        'gemma_2b_adalora_4bits_norm_nested_linear_outputs/gemma_2b_adalora_4bits_norm_nested_linear_final',\n",
        "        'gemma_2b_ia3_4bits_norm_nested_linear_outputs/gemma_2b_ia3_4bits_norm_nested_linear_final',\n",
        "        'gemma_2b_prompt_tuning_4bits_norm_nested_linear_outputs/gemma_2b_prompt_tuning_4bits_norm_nested_linear_final',\n",
        "    ],\n",
        "    \"google/gemma-7b\": [\n",
        "        'gemma_7b_qlora_4bits_norm_nested_outputs/gemma_7b_qlora_4bits_norm_nested_final',\n",
        "        'gemma_7b_prompt_tuning_4bits_norm_nested_linear_outputs/gemma_7b_prompt_tuning_4bits_norm_nested_linear_final',\n",
        "    ],\n",
        "    'meta-llama/Llama-2-7b-hf': [\n",
        "        'llama2_7b_adalora_4bits_norm_nested_linear_outputs/llama2_7b_adalora_4bits_norm_nested_linear_final',\n",
        "        'llama2_7b_qlora_4bits_norm_nested_linear_outputs/llama2_7b_qlora_4bits_norm_nested_linear_final',\n",
        "        'llama2_7b_ia3_4bits_norm_nested_linear_outputs/llama2_7b_ia3_4bits_norm_nested_linear_final',\n",
        "        'llama2_7b_prompt_tuning_4bits_norm_nested_linear_outputs/llama2_7b_prompt_tuning_4bits_norm_nested_linear_final',\n",
        "    ],\n",
        "    'mistralai/Mistral-7B-v0.1': [\n",
        "        'mistral_7b_adalora_4bits_norm_nested_linear_outputs/mistral_7b_adalora_4bits_norm_nested_linear_final',\n",
        "        'mistral_7b_qlora_4bits_norm_nested_linear_outputs/mistral_7b_qlora_4bits_norm_nested_linear_final',\n",
        "        'mistral_7b_ia3_4bits_norm_nested_linear_outputs/mistral_7b_ia3_4bits_norm_nested_linear_final',\n",
        "        'mistral_7b_prompt_tuning_4bits_norm_nested_linear_outputs/mistral_7b_prompt_tuning_4bits_norm_nested_linear_final',\n",
        "    ],\n",
        "}"
      ]
    },
    {
      "cell_type": "code",
      "execution_count": 23,
      "metadata": {
        "id": "hn8RDoJmpnp2"
      },
      "outputs": [],
      "source": [
        "metrics = {\"google/gemma-2b\":{},\n",
        "           \"google/gemma-7b\":{},\n",
        "           'meta-llama/Llama-2-7b-hf':{},\n",
        "           'mistralai/Mistral-7B-v0.1':{}}"
      ]
    },
    {
      "cell_type": "code",
      "execution_count": null,
      "metadata": {
        "id": "HTDleyNhs4Fn"
      },
      "outputs": [],
      "source": []
    },
    {
      "cell_type": "code",
      "execution_count": 31,
      "metadata": {
        "colab": {
          "base_uri": "https://localhost:8080/",
          "height": 35
        },
        "id": "oCnigVeIggFh",
        "outputId": "7e06b8f5-fd52-4429-c31c-3da852f6a56f"
      },
      "outputs": [],
      "source": [
        "# base_model_name = \"google/gemma-2b\"\n",
        "# base_model_name = \"google/gemma-7b\"\n",
        "# base_model_name = 'meta-llama/Llama-2-7b-hf'\n",
        "base_model_name = 'mistralai/Mistral-7B-v0.1'"
      ]
    },
    {
      "cell_type": "code",
      "execution_count": 32,
      "metadata": {
        "colab": {
          "base_uri": "https://localhost:8080/",
          "height": 228,
          "referenced_widgets": [
            "932ce07e46b24e5f9b67257f60022209",
            "52f5ed1d00404af5a6f3a034b4620ca2",
            "0ef5fadba23c4c1aa57c38abc070ea31",
            "040b47ea0b4745c0a11d8f4256cab40d",
            "c6925946c6fc4b999563cfb4190048f8",
            "4b7ad8f2ff654f778b549e1db7cac17b",
            "ce8add466d744d4bb396963df1f3c9fa",
            "51181fd26f4646a186220b174d5a8471",
            "a8f16164b1764da8a4874af852603f81",
            "d808856716e547098e70980305755912",
            "499de87d72a84106883219f601d1b7d8"
          ]
        },
        "id": "aeHje0-se-A8",
        "outputId": "c423eab9-fa16-4542-e106-367d268d17e1"
      },
      "outputs": [
        {
          "data": {
            "application/vnd.jupyter.widget-view+json": {
              "model_id": "bc53f5b94cfa4b91891ac8c39cc5c72d",
              "version_major": 2,
              "version_minor": 0
            },
            "text/plain": [
              "Filter:   0%|          | 0/500 [00:00<?, ? examples/s]"
            ]
          },
          "metadata": {},
          "output_type": "display_data"
        },
        {
          "data": {
            "application/vnd.jupyter.widget-view+json": {
              "model_id": "96742c2e307e4ef5aa1a0d6091aceeeb",
              "version_major": 2,
              "version_minor": 0
            },
            "text/plain": [
              "Filter:   0%|          | 0/500 [00:00<?, ? examples/s]"
            ]
          },
          "metadata": {},
          "output_type": "display_data"
        },
        {
          "data": {
            "application/vnd.jupyter.widget-view+json": {
              "model_id": "35b02ef5d7064bda995619c055cb3200",
              "version_major": 2,
              "version_minor": 0
            },
            "text/plain": [
              "Filter:   0%|          | 0/500 [00:00<?, ? examples/s]"
            ]
          },
          "metadata": {},
          "output_type": "display_data"
        },
        {
          "data": {
            "application/vnd.jupyter.widget-view+json": {
              "model_id": "b513c9da5b8e4f018c85ae1e53894e8e",
              "version_major": 2,
              "version_minor": 0
            },
            "text/plain": [
              "Filter:   0%|          | 0/500 [00:00<?, ? examples/s]"
            ]
          },
          "metadata": {},
          "output_type": "display_data"
        },
        {
          "data": {
            "application/vnd.jupyter.widget-view+json": {
              "model_id": "ffeba7f303f44af6bad41f05faee96db",
              "version_major": 2,
              "version_minor": 0
            },
            "text/plain": [
              "Filter:   0%|          | 0/500 [00:00<?, ? examples/s]"
            ]
          },
          "metadata": {},
          "output_type": "display_data"
        },
        {
          "data": {
            "application/vnd.jupyter.widget-view+json": {
              "model_id": "f772e6f56a2d4d81941eb1811334a717",
              "version_major": 2,
              "version_minor": 0
            },
            "text/plain": [
              "Filter:   0%|          | 0/500 [00:00<?, ? examples/s]"
            ]
          },
          "metadata": {},
          "output_type": "display_data"
        },
        {
          "data": {
            "application/vnd.jupyter.widget-view+json": {
              "model_id": "4cba647e9dea403bb58dad67a364640c",
              "version_major": 2,
              "version_minor": 0
            },
            "text/plain": [
              "Filter:   0%|          | 0/500 [00:00<?, ? examples/s]"
            ]
          },
          "metadata": {},
          "output_type": "display_data"
        },
        {
          "name": "stdout",
          "output_type": "stream",
          "text": [
            "computing similarity for multiple choice\n",
            "computing similarity for multiple choice\n",
            "computing similarity for multiple choice\n",
            "computing similarity for summarization\n",
            "computing similarity for multiple choice\n",
            "computing similarity for multiple choice\n",
            "computing similarity for multiple choice\n",
            "computing perplexity\n",
            "computing throughput\n",
            "mistral_7b_adalora_4bits_norm_nested_linear_final\n"
          ]
        },
        {
          "data": {
            "application/vnd.jupyter.widget-view+json": {
              "model_id": "b2ed527cb0a343bcad95dcd33716e08d",
              "version_major": 2,
              "version_minor": 0
            },
            "text/plain": [
              "Filter:   0%|          | 0/500 [00:00<?, ? examples/s]"
            ]
          },
          "metadata": {},
          "output_type": "display_data"
        },
        {
          "data": {
            "application/vnd.jupyter.widget-view+json": {
              "model_id": "d4a49bf8631d49e281cbe8f9fdcd2175",
              "version_major": 2,
              "version_minor": 0
            },
            "text/plain": [
              "Filter:   0%|          | 0/500 [00:00<?, ? examples/s]"
            ]
          },
          "metadata": {},
          "output_type": "display_data"
        },
        {
          "data": {
            "application/vnd.jupyter.widget-view+json": {
              "model_id": "535ea955575a47168dc01161adaa3375",
              "version_major": 2,
              "version_minor": 0
            },
            "text/plain": [
              "Filter:   0%|          | 0/500 [00:00<?, ? examples/s]"
            ]
          },
          "metadata": {},
          "output_type": "display_data"
        },
        {
          "data": {
            "application/vnd.jupyter.widget-view+json": {
              "model_id": "86e55f6144d24e7f8fc8909edadd33b0",
              "version_major": 2,
              "version_minor": 0
            },
            "text/plain": [
              "Filter:   0%|          | 0/500 [00:00<?, ? examples/s]"
            ]
          },
          "metadata": {},
          "output_type": "display_data"
        },
        {
          "data": {
            "application/vnd.jupyter.widget-view+json": {
              "model_id": "ef9976fa7a40457ab0e8d11887677af1",
              "version_major": 2,
              "version_minor": 0
            },
            "text/plain": [
              "Filter:   0%|          | 0/500 [00:00<?, ? examples/s]"
            ]
          },
          "metadata": {},
          "output_type": "display_data"
        },
        {
          "data": {
            "application/vnd.jupyter.widget-view+json": {
              "model_id": "25c5135a065b4988a492d1e5c449cf6c",
              "version_major": 2,
              "version_minor": 0
            },
            "text/plain": [
              "Filter:   0%|          | 0/500 [00:00<?, ? examples/s]"
            ]
          },
          "metadata": {},
          "output_type": "display_data"
        },
        {
          "data": {
            "application/vnd.jupyter.widget-view+json": {
              "model_id": "81dceb49dc4e46829051e5c00e8cffd3",
              "version_major": 2,
              "version_minor": 0
            },
            "text/plain": [
              "Filter:   0%|          | 0/500 [00:00<?, ? examples/s]"
            ]
          },
          "metadata": {},
          "output_type": "display_data"
        },
        {
          "name": "stdout",
          "output_type": "stream",
          "text": [
            "computing similarity for multiple choice\n",
            "computing similarity for multiple choice\n",
            "computing similarity for multiple choice\n",
            "computing similarity for summarization\n",
            "computing similarity for multiple choice\n",
            "computing similarity for multiple choice\n",
            "computing similarity for multiple choice\n",
            "computing perplexity\n",
            "computing throughput\n",
            "mistral_7b_qlora_4bits_norm_nested_linear_final\n"
          ]
        },
        {
          "data": {
            "application/vnd.jupyter.widget-view+json": {
              "model_id": "5741cff98d9043d9a546b70908b2bc3c",
              "version_major": 2,
              "version_minor": 0
            },
            "text/plain": [
              "Filter:   0%|          | 0/500 [00:00<?, ? examples/s]"
            ]
          },
          "metadata": {},
          "output_type": "display_data"
        },
        {
          "data": {
            "application/vnd.jupyter.widget-view+json": {
              "model_id": "e665dc9fcab34d298ea4006bad5b233e",
              "version_major": 2,
              "version_minor": 0
            },
            "text/plain": [
              "Filter:   0%|          | 0/500 [00:00<?, ? examples/s]"
            ]
          },
          "metadata": {},
          "output_type": "display_data"
        },
        {
          "data": {
            "application/vnd.jupyter.widget-view+json": {
              "model_id": "eb02bd583a2a44cd8b85234e93ae83f9",
              "version_major": 2,
              "version_minor": 0
            },
            "text/plain": [
              "Filter:   0%|          | 0/500 [00:00<?, ? examples/s]"
            ]
          },
          "metadata": {},
          "output_type": "display_data"
        },
        {
          "data": {
            "application/vnd.jupyter.widget-view+json": {
              "model_id": "d3bbcbc0c51e4d8da54bfe4eca97dd34",
              "version_major": 2,
              "version_minor": 0
            },
            "text/plain": [
              "Filter:   0%|          | 0/500 [00:00<?, ? examples/s]"
            ]
          },
          "metadata": {},
          "output_type": "display_data"
        },
        {
          "data": {
            "application/vnd.jupyter.widget-view+json": {
              "model_id": "201f5e8bdda74c81b43d478d932b094f",
              "version_major": 2,
              "version_minor": 0
            },
            "text/plain": [
              "Filter:   0%|          | 0/500 [00:00<?, ? examples/s]"
            ]
          },
          "metadata": {},
          "output_type": "display_data"
        },
        {
          "data": {
            "application/vnd.jupyter.widget-view+json": {
              "model_id": "5db926e2290f40c3a12212a44c70780d",
              "version_major": 2,
              "version_minor": 0
            },
            "text/plain": [
              "Filter:   0%|          | 0/500 [00:00<?, ? examples/s]"
            ]
          },
          "metadata": {},
          "output_type": "display_data"
        },
        {
          "data": {
            "application/vnd.jupyter.widget-view+json": {
              "model_id": "5aa470db59fc4129a936bc29a7cb96a4",
              "version_major": 2,
              "version_minor": 0
            },
            "text/plain": [
              "Filter:   0%|          | 0/500 [00:00<?, ? examples/s]"
            ]
          },
          "metadata": {},
          "output_type": "display_data"
        },
        {
          "name": "stdout",
          "output_type": "stream",
          "text": [
            "computing similarity for multiple choice\n",
            "computing similarity for multiple choice\n",
            "computing similarity for multiple choice\n",
            "computing similarity for summarization\n",
            "computing similarity for multiple choice\n",
            "computing similarity for multiple choice\n",
            "computing similarity for multiple choice\n",
            "computing perplexity\n",
            "computing throughput\n",
            "mistral_7b_ia3_4bits_norm_nested_linear_final\n"
          ]
        },
        {
          "data": {
            "application/vnd.jupyter.widget-view+json": {
              "model_id": "354522bc862a4e57866203e210c59dbb",
              "version_major": 2,
              "version_minor": 0
            },
            "text/plain": [
              "Filter:   0%|          | 0/500 [00:00<?, ? examples/s]"
            ]
          },
          "metadata": {},
          "output_type": "display_data"
        },
        {
          "data": {
            "application/vnd.jupyter.widget-view+json": {
              "model_id": "e37fc67b2ed84cd1a8d48cf16d8a0536",
              "version_major": 2,
              "version_minor": 0
            },
            "text/plain": [
              "Filter:   0%|          | 0/500 [00:00<?, ? examples/s]"
            ]
          },
          "metadata": {},
          "output_type": "display_data"
        },
        {
          "data": {
            "application/vnd.jupyter.widget-view+json": {
              "model_id": "051021b753e149a3ae313ddabc6b2c7b",
              "version_major": 2,
              "version_minor": 0
            },
            "text/plain": [
              "Filter:   0%|          | 0/500 [00:00<?, ? examples/s]"
            ]
          },
          "metadata": {},
          "output_type": "display_data"
        },
        {
          "data": {
            "application/vnd.jupyter.widget-view+json": {
              "model_id": "ae2ce1bfde0b46a8b4dbaf3e7d1fd0bf",
              "version_major": 2,
              "version_minor": 0
            },
            "text/plain": [
              "Filter:   0%|          | 0/500 [00:00<?, ? examples/s]"
            ]
          },
          "metadata": {},
          "output_type": "display_data"
        },
        {
          "data": {
            "application/vnd.jupyter.widget-view+json": {
              "model_id": "a5e8d30a22604b95a505ea2ee875bc41",
              "version_major": 2,
              "version_minor": 0
            },
            "text/plain": [
              "Filter:   0%|          | 0/500 [00:00<?, ? examples/s]"
            ]
          },
          "metadata": {},
          "output_type": "display_data"
        },
        {
          "data": {
            "application/vnd.jupyter.widget-view+json": {
              "model_id": "0c24adb8576a4d3b9559f4fe4c946e5c",
              "version_major": 2,
              "version_minor": 0
            },
            "text/plain": [
              "Filter:   0%|          | 0/500 [00:00<?, ? examples/s]"
            ]
          },
          "metadata": {},
          "output_type": "display_data"
        },
        {
          "data": {
            "application/vnd.jupyter.widget-view+json": {
              "model_id": "2b4af8713a724b8b9e33d678b871274f",
              "version_major": 2,
              "version_minor": 0
            },
            "text/plain": [
              "Filter:   0%|          | 0/500 [00:00<?, ? examples/s]"
            ]
          },
          "metadata": {},
          "output_type": "display_data"
        },
        {
          "name": "stdout",
          "output_type": "stream",
          "text": [
            "computing similarity for multiple choice\n",
            "computing similarity for multiple choice\n",
            "computing similarity for multiple choice\n",
            "computing similarity for summarization\n",
            "computing similarity for multiple choice\n",
            "computing similarity for multiple choice\n",
            "computing similarity for multiple choice\n",
            "computing perplexity\n",
            "computing throughput\n",
            "mistral_7b_prompt_tuning_4bits_norm_nested_linear_final\n"
          ]
        },
        {
          "data": {
            "text/plain": [
              "{'google/gemma-2b': {'gemma_2b_qlora_4bits_norm_nested_linear_final': {'avg_score': 0.1878396775566969,\n",
              "   'accuracy': 0.0,\n",
              "   'throughput': 169.6252416735759},\n",
              "  'gemma_2b_adalora_4bits_norm_nested_linear_final': {'avg_score': 0.21333175247932473,\n",
              "   'accuracy': 0.0,\n",
              "   'throughput': 135.01750960657802},\n",
              "  'gemma_2b_ia3_4bits_norm_nested_linear_final': {'avg_score': 0.2125162886653766,\n",
              "   'accuracy': 0.0,\n",
              "   'throughput': 180.27046684573975},\n",
              "  'gemma_2b_prompt_tuning_4bits_norm_nested_linear_final': {'avg_score': 0.04490500005618935,\n",
              "   'accuracy': 0.0,\n",
              "   'throughput': 190.5249001316942}},\n",
              " 'google/gemma-7b': {'gemma_7b_qlora_4bits_norm_nested_final': {'avg_score': 0.5059944987122345,\n",
              "   'accuracy': 13.714285714285715,\n",
              "   'throughput': 59.367752578065854},\n",
              "  'gemma_7b_prompt_tuning_4bits_norm_nested_linear_final': {'avg_score': 0.013714285714285714,\n",
              "   'accuracy': 1.3714285714285714,\n",
              "   'throughput': 0.0}},\n",
              " 'meta-llama/Llama-2-7b-hf': {'llama2_7b_adalora_4bits_norm_nested_linear_final': {'avg_score': 0.597275194526465,\n",
              "   'accuracy': 41.714285714285715,\n",
              "   'throughput': 39.83315595248976},\n",
              "  'llama2_7b_qlora_4bits_norm_nested_linear_final': {'avg_score': 0.8098475522232081,\n",
              "   'accuracy': 72.42857142857143,\n",
              "   'throughput': 30.84770947555754},\n",
              "  'llama2_7b_ia3_4bits_norm_nested_linear_final': {'avg_score': 0.592964206870935,\n",
              "   'accuracy': 41.457142857142856,\n",
              "   'throughput': 50.92790238044283},\n",
              "  'llama2_7b_prompt_tuning_4bits_norm_nested_linear_final': {'avg_score': 0.011535956909954563,\n",
              "   'accuracy': 0.34285714285714286,\n",
              "   'throughput': 33.72543113292826}},\n",
              " 'mistralai/Mistral-7B-v0.1': {'mistral_7b_adalora_4bits_norm_nested_linear_final': {'avg_score': 0.024164835612995667,\n",
              "   'accuracy': 0.0,\n",
              "   'throughput': 1582.3009044423748},\n",
              "  'mistral_7b_qlora_4bits_norm_nested_linear_final': {'avg_score': 0.024164835612995667,\n",
              "   'accuracy': 0.0,\n",
              "   'throughput': 2702.280640171158},\n",
              "  'mistral_7b_ia3_4bits_norm_nested_linear_final': {'avg_score': 0.024164835612995667,\n",
              "   'accuracy': 0.0,\n",
              "   'throughput': 1936.0535770958425},\n",
              "  'mistral_7b_prompt_tuning_4bits_norm_nested_linear_final': {'avg_score': 0.0492050562633046,\n",
              "   'accuracy': 0.0,\n",
              "   'throughput': 114.55809019172293}}}"
            ]
          },
          "execution_count": 32,
          "metadata": {},
          "output_type": "execute_result"
        }
      ],
      "source": [
        "for gcp_path in base_model_pred_map[base_model_name]:\n",
        "\n",
        "    BATCH_SIZE = 100\n",
        "    pred_ds_list = []\n",
        "    for i in range(0, 500, BATCH_SIZE):\n",
        "        load_path=f'{base_path}/Experiments/predictions/{gcp_path}/predictions_batch_{i}.json'\n",
        "        pred_ds_list.append(load_saved_predictions(load_path))\n",
        "\n",
        "    pred_ds = datasets.concatenate_datasets(pred_ds_list)\n",
        "    m = evaluate_predictions(pred_ds, base_model_name)\n",
        "    method = gcp_path.split('/')[-1]\n",
        "    print(method)\n",
        "    metrics[base_model_name][method] = {}\n",
        "    metrics[base_model_name][method]['avg_score'] = np.mean(m[0])\n",
        "    metrics[base_model_name][method]['accuracy'] = m[1]\n",
        "    metrics[base_model_name][method]['throughput'] = m[2]\n",
        "metrics"
      ]
    },
    {
      "cell_type": "code",
      "execution_count": 33,
      "metadata": {
        "id": "T_ljcT-RgsT1"
      },
      "outputs": [],
      "source": [
        "dir = f'{base_path}/Experiments/metrics'\n",
        "os.makedirs(dir, exist_ok=True)\n",
        "with open(f'{dir}/peft_metrics.json', \"w\") as f:\n",
        "    json.dump(metrics, f)"
      ]
    },
    {
      "cell_type": "code",
      "execution_count": 69,
      "metadata": {
        "id": "o7zY74Ttuxuu"
      },
      "outputs": [],
      "source": []
    },
    {
      "cell_type": "code",
      "execution_count": 123,
      "metadata": {
        "colab": {
          "base_uri": "https://localhost:8080/"
        },
        "id": "lA15pME_t3bs",
        "outputId": "4239bf30-c64b-4fa5-9102-1c9abdc32c76"
      },
      "outputs": [
        {
          "data": {
            "text/plain": [
              "dict_keys(['gemma_7b_qlora_4bits_norm_nested_final_metrics.json', 'llama2_7b_qlora_4bits_norm_nested_final_metrics.json', 'mistral_7b_qlora_4bits_norm_nested_final_metrics.json', 'gemma_2b_adalora_4bits_norm_nested_linear_final_metrics.json', 'gemma_2b_ia3_4bits_norm_nested_linear_final_metrics.json', 'gemma_2b_prompt_tuning_4bits_norm_nested_linear_final_metrics.json', 'gemma_2b_qlora_4bits_norm_nested_linear_final_metrics.json', 'gemma_7b_prompt_tuning_4bits_norm_nested_linear_final_metrics.json', 'llama2_7b_adalora_4bits_norm_nested_linear_final_metrics.json', 'llama2_7b_ia3_4bits_norm_nested_linear_final_metrics.json', 'llama2_7b_prompt_tuning_4bits_norm_nested_linear_final_metrics.json', 'llama2_7b_qlora_4bits_norm_nested_linear_final_metrics.json', 'mistral_7b_adalora_4bits_norm_nested_linear_final_metrics.json', 'mistral_7b_ia3_4bits_norm_nested_linear_final_metrics.json', 'mistral_7b_prompt_tuning_4bits_norm_nested_linear_final_metrics.json', 'mistral_7b_qlora_4bits_norm_nested_linear_final_metrics.json'])"
            ]
          },
          "execution_count": 123,
          "metadata": {},
          "output_type": "execute_result"
        }
      ],
      "source": [
        "data_dict = {}\n",
        "for dir in os.listdir(local_models_path):\n",
        "  fs = os.listdir(f\"{local_models_path}/{dir}\")\n",
        "  for file in fs:\n",
        "      if '_final_metrics.json' in file:\n",
        "        with open(f\"{local_models_path}/{dir}/{file}\", 'r', encoding='utf-8') as fp:\n",
        "            data_dict[file] = fp.readlines()\n",
        "for i, j in data_dict.items():\n",
        "    data_dict[i] = json.loads(j[0])\n",
        "data_dict.keys()"
      ]
    },
    {
      "cell_type": "code",
      "execution_count": 125,
      "metadata": {
        "colab": {
          "base_uri": "https://localhost:8080/"
        },
        "id": "3aajKChVCNM6",
        "outputId": "3791a529-2c99-4d46-b870-790adcfe53b6"
      },
      "outputs": [
        {
          "data": {
            "text/plain": [
              "{'gemma_7b_qlora_4bits_norm_nested_final_metrics.json': [{'loss': 2.7495,\n",
              "   'grad_norm': 16.782007217407227,\n",
              "   'learning_rate': 1.7647058823529414e-05,\n",
              "   'epoch': 0.0010210749877471001,\n",
              "   'step': 50},\n",
              "  {'loss': 2.2949,\n",
              "   'grad_norm': 12.598627090454102,\n",
              "   'learning_rate': 1.1764705882352942e-05,\n",
              "   'epoch': 0.0020421499754942002,\n",
              "   'step': 100},\n",
              "  {'loss': 2.2661,\n",
              "   'grad_norm': 14.374794006347656,\n",
              "   'learning_rate': 5.882352941176471e-06,\n",
              "   'epoch': 0.0030632249632413003,\n",
              "   'step': 150},\n",
              "  {'loss': 2.2124,\n",
              "   'grad_norm': 13.702934265136719,\n",
              "   'learning_rate': 0.0,\n",
              "   'epoch': 0.0040842999509884004,\n",
              "   'step': 200},\n",
              "  {'train_runtime': 1797.4708,\n",
              "   'train_samples_per_second': 0.89,\n",
              "   'train_steps_per_second': 0.111,\n",
              "   'total_flos': 2.588837616554803e+16,\n",
              "   'train_loss': 2.38071720123291,\n",
              "   'epoch': 0.0040842999509884004,\n",
              "   'step': 200}],\n",
              " 'llama2_7b_qlora_4bits_norm_nested_final_metrics.json': [{'loss': 2.1258,\n",
              "   'grad_norm': 2.347311496734619,\n",
              "   'learning_rate': 1.7647058823529414e-05,\n",
              "   'epoch': 0.0010210749877471001,\n",
              "   'step': 50},\n",
              "  {'loss': 1.8563,\n",
              "   'grad_norm': 3.4635798931121826,\n",
              "   'learning_rate': 1.1764705882352942e-05,\n",
              "   'epoch': 0.0020421499754942002,\n",
              "   'step': 100},\n",
              "  {'loss': 1.8193,\n",
              "   'grad_norm': 3.734943151473999,\n",
              "   'learning_rate': 5.882352941176471e-06,\n",
              "   'epoch': 0.0030632249632413003,\n",
              "   'step': 150},\n",
              "  {'loss': 1.7971,\n",
              "   'grad_norm': 4.07161283493042,\n",
              "   'learning_rate': 0.0,\n",
              "   'epoch': 0.0040842999509884004,\n",
              "   'step': 200},\n",
              "  {'train_runtime': 1562.3612,\n",
              "   'train_samples_per_second': 1.024,\n",
              "   'train_steps_per_second': 0.128,\n",
              "   'total_flos': 2.4461647252586496e+16,\n",
              "   'train_loss': 1.8996129989624024,\n",
              "   'epoch': 0.0040842999509884004,\n",
              "   'step': 200}],\n",
              " 'mistral_7b_qlora_4bits_norm_nested_final_metrics.json': [{'loss': 2.1065,\n",
              "   'grad_norm': 10.493399620056152,\n",
              "   'learning_rate': 1.7647058823529414e-05,\n",
              "   'epoch': 0.0010210749877471001,\n",
              "   'step': 50},\n",
              "  {'loss': 1.8799,\n",
              "   'grad_norm': 5.806953430175781,\n",
              "   'learning_rate': 1.1764705882352942e-05,\n",
              "   'epoch': 0.0020421499754942002,\n",
              "   'step': 100},\n",
              "  {'loss': 1.8758,\n",
              "   'grad_norm': 6.388837814331055,\n",
              "   'learning_rate': 5.882352941176471e-06,\n",
              "   'epoch': 0.0030632249632413003,\n",
              "   'step': 150},\n",
              "  {'loss': 1.8528,\n",
              "   'grad_norm': 9.29532241821289,\n",
              "   'learning_rate': 0.0,\n",
              "   'epoch': 0.0040842999509884004,\n",
              "   'step': 200},\n",
              "  {'train_runtime': 1633.0648,\n",
              "   'train_samples_per_second': 0.98,\n",
              "   'train_steps_per_second': 0.122,\n",
              "   'total_flos': 2.5747487804227584e+16,\n",
              "   'train_loss': 1.9287532806396483,\n",
              "   'epoch': 0.0040842999509884004,\n",
              "   'step': 200}],\n",
              " 'gemma_2b_adalora_4bits_norm_nested_linear_final_metrics.json': [{'loss': 6.4589,\n",
              "   'grad_norm': 0.27946195006370544,\n",
              "   'learning_rate': 1.7647058823529414e-05,\n",
              "   'epoch': 0.0010210749877471001,\n",
              "   'step': 50},\n",
              "  {'loss': 6.1497,\n",
              "   'grad_norm': 0.3608894348144531,\n",
              "   'learning_rate': 1.1764705882352942e-05,\n",
              "   'epoch': 0.0020421499754942002,\n",
              "   'step': 100},\n",
              "  {'loss': 6.0096,\n",
              "   'grad_norm': 0.4338527023792267,\n",
              "   'learning_rate': 5.882352941176471e-06,\n",
              "   'epoch': 0.0030632249632413003,\n",
              "   'step': 150},\n",
              "  {'loss': 5.9175,\n",
              "   'grad_norm': 0.5616676211357117,\n",
              "   'learning_rate': 0.0,\n",
              "   'epoch': 0.0040842999509884004,\n",
              "   'step': 200},\n",
              "  {'train_runtime': 582.1355,\n",
              "   'train_samples_per_second': 2.749,\n",
              "   'train_steps_per_second': 0.344,\n",
              "   'total_flos': 6655516825367088.0,\n",
              "   'train_loss': 6.133909301757813,\n",
              "   'epoch': 0.0040842999509884004,\n",
              "   'step': 200}],\n",
              " 'gemma_2b_ia3_4bits_norm_nested_linear_final_metrics.json': [{'loss': 3.3529,\n",
              "   'grad_norm': 3.023913860321045,\n",
              "   'learning_rate': 1.7647058823529414e-05,\n",
              "   'epoch': 0.0010210749877471001,\n",
              "   'step': 50},\n",
              "  {'loss': 3.2664,\n",
              "   'grad_norm': 2.7817976474761963,\n",
              "   'learning_rate': 1.1764705882352942e-05,\n",
              "   'epoch': 0.0020421499754942002,\n",
              "   'step': 100},\n",
              "  {'loss': 3.2916,\n",
              "   'grad_norm': 2.540374755859375,\n",
              "   'learning_rate': 5.882352941176471e-06,\n",
              "   'epoch': 0.0030632249632413003,\n",
              "   'step': 150},\n",
              "  {'loss': 3.2799,\n",
              "   'grad_norm': 2.9931445121765137,\n",
              "   'learning_rate': 0.0,\n",
              "   'epoch': 0.0040842999509884004,\n",
              "   'step': 200},\n",
              "  {'train_runtime': 537.3557,\n",
              "   'train_samples_per_second': 2.978,\n",
              "   'train_steps_per_second': 0.372,\n",
              "   'total_flos': 6600323148890112.0,\n",
              "   'train_loss': 3.2977016448974608,\n",
              "   'epoch': 0.0040842999509884004,\n",
              "   'step': 200}],\n",
              " 'gemma_2b_prompt_tuning_4bits_norm_nested_linear_final_metrics.json': [{'loss': 3.5746,\n",
              "   'grad_norm': 2.8958520889282227,\n",
              "   'learning_rate': 1.7647058823529414e-05,\n",
              "   'epoch': 0.0010210749877471001,\n",
              "   'step': 50},\n",
              "  {'loss': 3.4549,\n",
              "   'grad_norm': 1.9013714790344238,\n",
              "   'learning_rate': 1.1764705882352942e-05,\n",
              "   'epoch': 0.0020421499754942002,\n",
              "   'step': 100},\n",
              "  {'loss': 3.4744,\n",
              "   'grad_norm': 0.9832940697669983,\n",
              "   'learning_rate': 5.882352941176471e-06,\n",
              "   'epoch': 0.0030632249632413003,\n",
              "   'step': 150},\n",
              "  {'loss': 3.4631,\n",
              "   'grad_norm': 1.1274287700653076,\n",
              "   'learning_rate': 0.0,\n",
              "   'epoch': 0.0040842999509884004,\n",
              "   'step': 200},\n",
              "  {'train_runtime': 491.9825,\n",
              "   'train_samples_per_second': 3.252,\n",
              "   'train_steps_per_second': 0.407,\n",
              "   'total_flos': 6596250409009152.0,\n",
              "   'train_loss': 3.49171989440918,\n",
              "   'epoch': 0.0040842999509884004,\n",
              "   'step': 200}],\n",
              " 'gemma_2b_qlora_4bits_norm_nested_linear_final_metrics.json': [{'loss': 3.2044,\n",
              "   'grad_norm': 3.180421829223633,\n",
              "   'learning_rate': 1.7647058823529414e-05,\n",
              "   'epoch': 0.0010210749877471001,\n",
              "   'step': 50},\n",
              "  {'loss': 2.7834,\n",
              "   'grad_norm': 3.4666666984558105,\n",
              "   'learning_rate': 1.1764705882352942e-05,\n",
              "   'epoch': 0.0020421499754942002,\n",
              "   'step': 100},\n",
              "  {'loss': 2.7034,\n",
              "   'grad_norm': 4.209543704986572,\n",
              "   'learning_rate': 5.882352941176471e-06,\n",
              "   'epoch': 0.0030632249632413003,\n",
              "   'step': 150},\n",
              "  {'loss': 2.6435,\n",
              "   'grad_norm': 4.785397052764893,\n",
              "   'learning_rate': 0.0,\n",
              "   'epoch': 0.0040842999509884004,\n",
              "   'step': 200},\n",
              "  {'train_runtime': 562.2319,\n",
              "   'train_samples_per_second': 2.846,\n",
              "   'train_steps_per_second': 0.356,\n",
              "   'total_flos': 6635757689929728.0,\n",
              "   'train_loss': 2.8336760711669924,\n",
              "   'epoch': 0.0040842999509884004,\n",
              "   'step': 200}],\n",
              " 'gemma_7b_prompt_tuning_4bits_norm_nested_linear_final_metrics.json': [{'loss': 19.3197,\n",
              "   'grad_norm': 103.74038696289062,\n",
              "   'learning_rate': 1.7647058823529414e-05,\n",
              "   'epoch': 0.0010210749877471001,\n",
              "   'step': 50},\n",
              "  {'loss': 10.9689,\n",
              "   'grad_norm': 84.94357299804688,\n",
              "   'learning_rate': 1.1764705882352942e-05,\n",
              "   'epoch': 0.0020421499754942002,\n",
              "   'step': 100},\n",
              "  {'loss': 8.007,\n",
              "   'grad_norm': 161.6560821533203,\n",
              "   'learning_rate': 5.882352941176471e-06,\n",
              "   'epoch': 0.0030632249632413003,\n",
              "   'step': 150},\n",
              "  {'loss': 6.945,\n",
              "   'grad_norm': 208.48191833496094,\n",
              "   'learning_rate': 0.0,\n",
              "   'epoch': 0.0040842999509884004,\n",
              "   'step': 200},\n",
              "  {'train_runtime': 1685.2544,\n",
              "   'train_samples_per_second': 0.949,\n",
              "   'train_steps_per_second': 0.119,\n",
              "   'total_flos': 2.579826466558771e+16,\n",
              "   'train_loss': 11.310126495361327,\n",
              "   'epoch': 0.0040842999509884004,\n",
              "   'step': 200}],\n",
              " 'llama2_7b_adalora_4bits_norm_nested_linear_final_metrics.json': [{'loss': 4.3354,\n",
              "   'grad_norm': 0.1521449089050293,\n",
              "   'learning_rate': 1.7647058823529414e-05,\n",
              "   'epoch': 0.0010210749877471001,\n",
              "   'step': 50},\n",
              "  {'loss': 4.0767,\n",
              "   'grad_norm': 0.21333932876586914,\n",
              "   'learning_rate': 1.1764705882352942e-05,\n",
              "   'epoch': 0.0020421499754942002,\n",
              "   'step': 100},\n",
              "  {'loss': 3.932,\n",
              "   'grad_norm': 0.2327251434326172,\n",
              "   'learning_rate': 5.882352941176471e-06,\n",
              "   'epoch': 0.0030632249632413003,\n",
              "   'step': 150},\n",
              "  {'loss': 3.8612,\n",
              "   'grad_norm': 0.2975424826145172,\n",
              "   'learning_rate': 0.0,\n",
              "   'epoch': 0.0040842999509884004,\n",
              "   'step': 200},\n",
              "  {'train_runtime': 1604.1801,\n",
              "   'train_samples_per_second': 0.997,\n",
              "   'train_steps_per_second': 0.125,\n",
              "   'total_flos': 2.449907833069483e+16,\n",
              "   'train_loss': 4.0513166809082035,\n",
              "   'epoch': 0.0040842999509884004,\n",
              "   'step': 200}],\n",
              " 'llama2_7b_ia3_4bits_norm_nested_linear_final_metrics.json': [{'loss': 2.2229,\n",
              "   'grad_norm': 1.0579626560211182,\n",
              "   'learning_rate': 1.7647058823529414e-05,\n",
              "   'epoch': 0.0010210749877471001,\n",
              "   'step': 50},\n",
              "  {'loss': 2.1855,\n",
              "   'grad_norm': 1.0530354976654053,\n",
              "   'learning_rate': 1.1764705882352942e-05,\n",
              "   'epoch': 0.0020421499754942002,\n",
              "   'step': 100},\n",
              "  {'loss': 2.1956,\n",
              "   'grad_norm': 0.9397977590560913,\n",
              "   'learning_rate': 5.882352941176471e-06,\n",
              "   'epoch': 0.0030632249632413003,\n",
              "   'step': 150},\n",
              "  {'loss': 2.2001,\n",
              "   'grad_norm': 1.1101057529449463,\n",
              "   'learning_rate': 0.0,\n",
              "   'epoch': 0.0040842999509884004,\n",
              "   'step': 200},\n",
              "  {'train_runtime': 1506.9403,\n",
              "   'train_samples_per_second': 1.062,\n",
              "   'train_steps_per_second': 0.133,\n",
              "   'total_flos': 2.439276025824461e+16,\n",
              "   'train_loss': 2.2010128021240236,\n",
              "   'epoch': 0.0040842999509884004,\n",
              "   'step': 200}],\n",
              " 'llama2_7b_prompt_tuning_4bits_norm_nested_linear_final_metrics.json': [{'loss': 2.2545,\n",
              "   'grad_norm': 1.885185718536377,\n",
              "   'learning_rate': 1.7647058823529414e-05,\n",
              "   'epoch': 0.0010210749877471001,\n",
              "   'step': 50},\n",
              "  {'loss': 2.2077,\n",
              "   'grad_norm': 1.4738354682922363,\n",
              "   'learning_rate': 1.1764705882352942e-05,\n",
              "   'epoch': 0.0020421499754942002,\n",
              "   'step': 100},\n",
              "  {'loss': 2.21,\n",
              "   'grad_norm': 1.4075095653533936,\n",
              "   'learning_rate': 5.882352941176471e-06,\n",
              "   'epoch': 0.0030632249632413003,\n",
              "   'step': 150},\n",
              "  {'loss': 2.2138,\n",
              "   'grad_norm': 1.896016001701355,\n",
              "   'learning_rate': 0.0,\n",
              "   'epoch': 0.0040842999509884004,\n",
              "   'step': 200},\n",
              "  {'train_runtime': 1501.9755,\n",
              "   'train_samples_per_second': 1.065,\n",
              "   'train_steps_per_second': 0.133,\n",
              "   'total_flos': 2.4386806687924224e+16,\n",
              "   'train_loss': 2.221495590209961,\n",
              "   'epoch': 0.0040842999509884004,\n",
              "   'step': 200}],\n",
              " 'llama2_7b_qlora_4bits_norm_nested_linear_final_metrics.json': [{'loss': 2.126,\n",
              "   'grad_norm': 2.440274715423584,\n",
              "   'learning_rate': 1.7647058823529414e-05,\n",
              "   'epoch': 0.0010210749877471001,\n",
              "   'step': 50},\n",
              "  {'loss': 1.8563,\n",
              "   'grad_norm': 3.3971595764160156,\n",
              "   'learning_rate': 1.1764705882352942e-05,\n",
              "   'epoch': 0.0020421499754942002,\n",
              "   'step': 100},\n",
              "  {'loss': 1.8187,\n",
              "   'grad_norm': 3.8302221298217773,\n",
              "   'learning_rate': 5.882352941176471e-06,\n",
              "   'epoch': 0.0030632249632413003,\n",
              "   'step': 150},\n",
              "  {'loss': 1.7967,\n",
              "   'grad_norm': 4.176032066345215,\n",
              "   'learning_rate': 0.0,\n",
              "   'epoch': 0.0040842999509884004,\n",
              "   'step': 200},\n",
              "  {'train_runtime': 1563.2778,\n",
              "   'train_samples_per_second': 1.023,\n",
              "   'train_steps_per_second': 0.128,\n",
              "   'total_flos': 2.4461647252586496e+16,\n",
              "   'train_loss': 1.8994126510620117,\n",
              "   'epoch': 0.0040842999509884004,\n",
              "   'step': 200}],\n",
              " 'mistral_7b_adalora_4bits_norm_nested_linear_final_metrics.json': [{'loss': 4.9028,\n",
              "   'grad_norm': 0.6023762822151184,\n",
              "   'learning_rate': 1.7647058823529414e-05,\n",
              "   'epoch': 0.0010210749877471001,\n",
              "   'step': 50},\n",
              "  {'loss': 4.6285,\n",
              "   'grad_norm': 0.7018485069274902,\n",
              "   'learning_rate': 1.1764705882352942e-05,\n",
              "   'epoch': 0.0020421499754942002,\n",
              "   'step': 100},\n",
              "  {'loss': 4.4736,\n",
              "   'grad_norm': 0.5933613777160645,\n",
              "   'learning_rate': 5.882352941176471e-06,\n",
              "   'epoch': 0.0030632249632413003,\n",
              "   'step': 150},\n",
              "  {'loss': 4.3903,\n",
              "   'grad_norm': 0.8099698424339294,\n",
              "   'learning_rate': 0.0,\n",
              "   'epoch': 0.0040842999509884004,\n",
              "   'step': 200},\n",
              "  {'train_runtime': 1676.8541,\n",
              "   'train_samples_per_second': 0.954,\n",
              "   'train_steps_per_second': 0.119,\n",
              "   'total_flos': 2.578587505473773e+16,\n",
              "   'train_loss': 4.598781967163086,\n",
              "   'epoch': 0.0040842999509884004,\n",
              "   'step': 200}],\n",
              " 'mistral_7b_ia3_4bits_norm_nested_linear_final_metrics.json': [{'loss': 2.3201,\n",
              "   'grad_norm': 1.2999422550201416,\n",
              "   'learning_rate': 1.7647058823529414e-05,\n",
              "   'epoch': 0.0010210749877471001,\n",
              "   'step': 50},\n",
              "  {'loss': 2.2789,\n",
              "   'grad_norm': 1.1612910032272339,\n",
              "   'learning_rate': 1.1764705882352942e-05,\n",
              "   'epoch': 0.0020421499754942002,\n",
              "   'step': 100},\n",
              "  {'loss': 2.2892,\n",
              "   'grad_norm': 0.8784806728363037,\n",
              "   'learning_rate': 5.882352941176471e-06,\n",
              "   'epoch': 0.0030632249632413003,\n",
              "   'step': 150},\n",
              "  {'loss': 2.2904,\n",
              "   'grad_norm': 1.1304188966751099,\n",
              "   'learning_rate': 0.0,\n",
              "   'epoch': 0.0040842999509884004,\n",
              "   'step': 200},\n",
              "  {'train_runtime': 1575.0243,\n",
              "   'train_samples_per_second': 1.016,\n",
              "   'train_steps_per_second': 0.127,\n",
              "   'total_flos': 2.567700145722163e+16,\n",
              "   'train_loss': 2.2946519470214843,\n",
              "   'epoch': 0.0040842999509884004,\n",
              "   'step': 200}],\n",
              " 'mistral_7b_prompt_tuning_4bits_norm_nested_linear_final_metrics.json': [{'loss': 2.4132,\n",
              "   'grad_norm': 11.320916175842285,\n",
              "   'learning_rate': 1.7647058823529414e-05,\n",
              "   'epoch': 0.0010210749877471001,\n",
              "   'step': 50},\n",
              "  {'loss': 2.2647,\n",
              "   'grad_norm': 20.041786193847656,\n",
              "   'learning_rate': 1.1764705882352942e-05,\n",
              "   'epoch': 0.0020421499754942002,\n",
              "   'step': 100},\n",
              "  {'loss': 2.1796,\n",
              "   'grad_norm': 36.844947814941406,\n",
              "   'learning_rate': 5.882352941176471e-06,\n",
              "   'epoch': 0.0030632249632413003,\n",
              "   'step': 150},\n",
              "  {'loss': 2.1226,\n",
              "   'grad_norm': 39.13370132446289,\n",
              "   'learning_rate': 0.0,\n",
              "   'epoch': 0.0040842999509884004,\n",
              "   'step': 200},\n",
              "  {'train_runtime': 1569.0445,\n",
              "   'train_samples_per_second': 1.02,\n",
              "   'train_steps_per_second': 0.127,\n",
              "   'total_flos': 2.5670734422736896e+16,\n",
              "   'train_loss': 2.2450373458862303,\n",
              "   'epoch': 0.0040842999509884004,\n",
              "   'step': 200}],\n",
              " 'mistral_7b_qlora_4bits_norm_nested_linear_final_metrics.json': [{'loss': 2.1073,\n",
              "   'grad_norm': 10.841377258300781,\n",
              "   'learning_rate': 1.7647058823529414e-05,\n",
              "   'epoch': 0.0010210749877471001,\n",
              "   'step': 50},\n",
              "  {'loss': 1.881,\n",
              "   'grad_norm': 6.26943826675415,\n",
              "   'learning_rate': 1.1764705882352942e-05,\n",
              "   'epoch': 0.0020421499754942002,\n",
              "   'step': 100},\n",
              "  {'loss': 1.8791,\n",
              "   'grad_norm': 6.6393208503723145,\n",
              "   'learning_rate': 5.882352941176471e-06,\n",
              "   'epoch': 0.0030632249632413003,\n",
              "   'step': 150},\n",
              "  {'loss': 1.8565,\n",
              "   'grad_norm': 9.391927719116211,\n",
              "   'learning_rate': 0.0,\n",
              "   'epoch': 0.0040842999509884004,\n",
              "   'step': 200},\n",
              "  {'train_runtime': 1633.2469,\n",
              "   'train_samples_per_second': 0.98,\n",
              "   'train_steps_per_second': 0.122,\n",
              "   'total_flos': 2.5747487804227584e+16,\n",
              "   'train_loss': 1.930981559753418,\n",
              "   'epoch': 0.0040842999509884004,\n",
              "   'step': 200}]}"
            ]
          },
          "execution_count": 125,
          "metadata": {},
          "output_type": "execute_result"
        }
      ],
      "source": [
        "data_dict"
      ]
    },
    {
      "cell_type": "code",
      "execution_count": 122,
      "metadata": {
        "colab": {
          "base_uri": "https://localhost:8080/"
        },
        "id": "fyOGlkuCy49B",
        "outputId": "33dda940-d37e-4e96-b86f-61dc2943ea36"
      },
      "outputs": [
        {
          "name": "stdout",
          "output_type": "stream",
          "text": [
            "gemma_7b_qlora_4bits_norm_nested_final\n",
            "llama2_7b_qlora_4bits_norm_nested_final\n",
            "mistral_7b_qlora_4bits_norm_nested_final\n",
            "gemma_2b_adalora_4bits_norm_nested_linear_final\n",
            "gemma_2b_ia3_4bits_norm_nested_linear_final\n",
            "gemma_2b_prompt_tuning_4bits_norm_nested_linear_final\n",
            "gemma_2b_qlora_4bits_norm_nested_linear_final\n",
            "gemma_7b_prompt_tuning_4bits_norm_nested_linear_final\n",
            "llama2_7b_adalora_4bits_norm_nested_linear_final\n",
            "llama2_7b_ia3_4bits_norm_nested_linear_final\n",
            "llama2_7b_prompt_tuning_4bits_norm_nested_linear_final\n",
            "llama2_7b_qlora_4bits_norm_nested_linear_final\n",
            "mistral_7b_adalora_4bits_norm_nested_linear_final\n",
            "mistral_7b_ia3_4bits_norm_nested_linear_final\n",
            "mistral_7b_prompt_tuning_4bits_norm_nested_linear_final\n",
            "mistral_7b_qlora_4bits_norm_nested_linear_final\n"
          ]
        }
      ],
      "source": [
        "for i, j in data_dict.items():\n",
        "    method = '_'.join(i.split('_')[:-1])\n",
        "    print(method)\n",
        "    if 'gemma' in method:\n",
        "      if '7b' in method:\n",
        "          model = 'google/gemma-7b'\n",
        "\n",
        "      elif '2b' in method:\n",
        "          model = 'google/gemma-2b'\n",
        "\n",
        "    elif 'llama2' in method:\n",
        "      model = 'meta-llama/Llama-2-7b-hf'\n",
        "    elif 'mistral' in method:\n",
        "      model = 'mistralai/Mistral-7B-v0.1'\n",
        "    metrics[model][method]={}\n",
        "    metrics[model][method]['loss'] = j[0]['loss']\n",
        "    metrics[model][method]['perplexity'] = np.exp(j[0]['loss'])"
      ]
    },
    {
      "cell_type": "code",
      "execution_count": 126,
      "metadata": {
        "colab": {
          "base_uri": "https://localhost:8080/"
        },
        "id": "YEi4qv6tCXWJ",
        "outputId": "7e84c4e3-6c3a-4914-d010-d70f3873d410"
      },
      "outputs": [
        {
          "data": {
            "text/plain": [
              "{'google/gemma-2b': {'gemma_2b_adalora_4bits_norm_nested_linear_final': {'loss': 6.4589,\n",
              "   'perplexity': 638.3584758975394},\n",
              "  'gemma_2b_ia3_4bits_norm_nested_linear_final': {'loss': 3.3529,\n",
              "   'perplexity': 28.585511541272083},\n",
              "  'gemma_2b_prompt_tuning_4bits_norm_nested_linear_final': {'loss': 3.5746,\n",
              "   'perplexity': 35.68034582251858},\n",
              "  'gemma_2b_qlora_4bits_norm_nested_linear_final': {'loss': 3.2044,\n",
              "   'perplexity': 24.640711153548914}},\n",
              " 'google/gemma-7b': {'gemma_7b_qlora_4bits_norm_nested_final': {'loss': 2.7495,\n",
              "   'perplexity': 15.634812523249213},\n",
              "  'gemma_7b_prompt_tuning_4bits_norm_nested_linear_final': {'loss': 19.3197,\n",
              "   'perplexity': 245719205.27891803}},\n",
              " 'meta-llama/Llama-2-7b-hf': {'llama2_7b_qlora_4bits_norm_nested_final': {'loss': 2.1258,\n",
              "   'perplexity': 8.379598486159592},\n",
              "  'llama2_7b_adalora_4bits_norm_nested_linear_final': {'loss': 4.3354,\n",
              "   'perplexity': 76.35549498013454},\n",
              "  'llama2_7b_ia3_4bits_norm_nested_linear_final': {'loss': 2.2229,\n",
              "   'perplexity': 9.234070879673016},\n",
              "  'llama2_7b_prompt_tuning_4bits_norm_nested_linear_final': {'loss': 2.2545,\n",
              "   'perplexity': 9.530526855204725},\n",
              "  'llama2_7b_qlora_4bits_norm_nested_linear_final': {'loss': 2.126,\n",
              "   'perplexity': 8.381274573459967}},\n",
              " 'mistralai/Mistral-7B-v0.1': {'mistral_7b_qlora_4bits_norm_nested_final': {'loss': 2.1065,\n",
              "   'perplexity': 8.219422901719316},\n",
              "  'mistral_7b_adalora_4bits_norm_nested_linear_final': {'loss': 4.9028,\n",
              "   'perplexity': 134.66631797565535},\n",
              "  'mistral_7b_ia3_4bits_norm_nested_linear_final': {'loss': 2.3201,\n",
              "   'perplexity': 10.176691924384011},\n",
              "  'mistral_7b_prompt_tuning_4bits_norm_nested_linear_final': {'loss': 2.4132,\n",
              "   'perplexity': 11.169646887465523},\n",
              "  'mistral_7b_qlora_4bits_norm_nested_linear_final': {'loss': 2.1073,\n",
              "   'perplexity': 8.22600107095755}}}"
            ]
          },
          "execution_count": 126,
          "metadata": {},
          "output_type": "execute_result"
        }
      ],
      "source": [
        "metrics"
      ]
    },
    {
      "cell_type": "code",
      "execution_count": 124,
      "metadata": {
        "colab": {
          "base_uri": "https://localhost:8080/"
        },
        "id": "avcjv8Mz1Njh",
        "outputId": "3d8d5a73-b3d8-4f57-d771-b102c23d06f6"
      },
      "outputs": [
        {
          "data": {
            "text/plain": [
              "{'gemma_7b_qlora_4bits_norm_nested_final_metrics.json': [{'loss': 2.7495,\n",
              "   'grad_norm': 16.782007217407227,\n",
              "   'learning_rate': 1.7647058823529414e-05,\n",
              "   'epoch': 0.0010210749877471001,\n",
              "   'step': 50},\n",
              "  {'loss': 2.2949,\n",
              "   'grad_norm': 12.598627090454102,\n",
              "   'learning_rate': 1.1764705882352942e-05,\n",
              "   'epoch': 0.0020421499754942002,\n",
              "   'step': 100},\n",
              "  {'loss': 2.2661,\n",
              "   'grad_norm': 14.374794006347656,\n",
              "   'learning_rate': 5.882352941176471e-06,\n",
              "   'epoch': 0.0030632249632413003,\n",
              "   'step': 150},\n",
              "  {'loss': 2.2124,\n",
              "   'grad_norm': 13.702934265136719,\n",
              "   'learning_rate': 0.0,\n",
              "   'epoch': 0.0040842999509884004,\n",
              "   'step': 200},\n",
              "  {'train_runtime': 1797.4708,\n",
              "   'train_samples_per_second': 0.89,\n",
              "   'train_steps_per_second': 0.111,\n",
              "   'total_flos': 2.588837616554803e+16,\n",
              "   'train_loss': 2.38071720123291,\n",
              "   'epoch': 0.0040842999509884004,\n",
              "   'step': 200}],\n",
              " 'llama2_7b_qlora_4bits_norm_nested_final_metrics.json': [{'loss': 2.1258,\n",
              "   'grad_norm': 2.347311496734619,\n",
              "   'learning_rate': 1.7647058823529414e-05,\n",
              "   'epoch': 0.0010210749877471001,\n",
              "   'step': 50},\n",
              "  {'loss': 1.8563,\n",
              "   'grad_norm': 3.4635798931121826,\n",
              "   'learning_rate': 1.1764705882352942e-05,\n",
              "   'epoch': 0.0020421499754942002,\n",
              "   'step': 100},\n",
              "  {'loss': 1.8193,\n",
              "   'grad_norm': 3.734943151473999,\n",
              "   'learning_rate': 5.882352941176471e-06,\n",
              "   'epoch': 0.0030632249632413003,\n",
              "   'step': 150},\n",
              "  {'loss': 1.7971,\n",
              "   'grad_norm': 4.07161283493042,\n",
              "   'learning_rate': 0.0,\n",
              "   'epoch': 0.0040842999509884004,\n",
              "   'step': 200},\n",
              "  {'train_runtime': 1562.3612,\n",
              "   'train_samples_per_second': 1.024,\n",
              "   'train_steps_per_second': 0.128,\n",
              "   'total_flos': 2.4461647252586496e+16,\n",
              "   'train_loss': 1.8996129989624024,\n",
              "   'epoch': 0.0040842999509884004,\n",
              "   'step': 200}],\n",
              " 'mistral_7b_qlora_4bits_norm_nested_final_metrics.json': [{'loss': 2.1065,\n",
              "   'grad_norm': 10.493399620056152,\n",
              "   'learning_rate': 1.7647058823529414e-05,\n",
              "   'epoch': 0.0010210749877471001,\n",
              "   'step': 50},\n",
              "  {'loss': 1.8799,\n",
              "   'grad_norm': 5.806953430175781,\n",
              "   'learning_rate': 1.1764705882352942e-05,\n",
              "   'epoch': 0.0020421499754942002,\n",
              "   'step': 100},\n",
              "  {'loss': 1.8758,\n",
              "   'grad_norm': 6.388837814331055,\n",
              "   'learning_rate': 5.882352941176471e-06,\n",
              "   'epoch': 0.0030632249632413003,\n",
              "   'step': 150},\n",
              "  {'loss': 1.8528,\n",
              "   'grad_norm': 9.29532241821289,\n",
              "   'learning_rate': 0.0,\n",
              "   'epoch': 0.0040842999509884004,\n",
              "   'step': 200},\n",
              "  {'train_runtime': 1633.0648,\n",
              "   'train_samples_per_second': 0.98,\n",
              "   'train_steps_per_second': 0.122,\n",
              "   'total_flos': 2.5747487804227584e+16,\n",
              "   'train_loss': 1.9287532806396483,\n",
              "   'epoch': 0.0040842999509884004,\n",
              "   'step': 200}],\n",
              " 'gemma_2b_adalora_4bits_norm_nested_linear_final_metrics.json': [{'loss': 6.4589,\n",
              "   'grad_norm': 0.27946195006370544,\n",
              "   'learning_rate': 1.7647058823529414e-05,\n",
              "   'epoch': 0.0010210749877471001,\n",
              "   'step': 50},\n",
              "  {'loss': 6.1497,\n",
              "   'grad_norm': 0.3608894348144531,\n",
              "   'learning_rate': 1.1764705882352942e-05,\n",
              "   'epoch': 0.0020421499754942002,\n",
              "   'step': 100},\n",
              "  {'loss': 6.0096,\n",
              "   'grad_norm': 0.4338527023792267,\n",
              "   'learning_rate': 5.882352941176471e-06,\n",
              "   'epoch': 0.0030632249632413003,\n",
              "   'step': 150},\n",
              "  {'loss': 5.9175,\n",
              "   'grad_norm': 0.5616676211357117,\n",
              "   'learning_rate': 0.0,\n",
              "   'epoch': 0.0040842999509884004,\n",
              "   'step': 200},\n",
              "  {'train_runtime': 582.1355,\n",
              "   'train_samples_per_second': 2.749,\n",
              "   'train_steps_per_second': 0.344,\n",
              "   'total_flos': 6655516825367088.0,\n",
              "   'train_loss': 6.133909301757813,\n",
              "   'epoch': 0.0040842999509884004,\n",
              "   'step': 200}],\n",
              " 'gemma_2b_ia3_4bits_norm_nested_linear_final_metrics.json': [{'loss': 3.3529,\n",
              "   'grad_norm': 3.023913860321045,\n",
              "   'learning_rate': 1.7647058823529414e-05,\n",
              "   'epoch': 0.0010210749877471001,\n",
              "   'step': 50},\n",
              "  {'loss': 3.2664,\n",
              "   'grad_norm': 2.7817976474761963,\n",
              "   'learning_rate': 1.1764705882352942e-05,\n",
              "   'epoch': 0.0020421499754942002,\n",
              "   'step': 100},\n",
              "  {'loss': 3.2916,\n",
              "   'grad_norm': 2.540374755859375,\n",
              "   'learning_rate': 5.882352941176471e-06,\n",
              "   'epoch': 0.0030632249632413003,\n",
              "   'step': 150},\n",
              "  {'loss': 3.2799,\n",
              "   'grad_norm': 2.9931445121765137,\n",
              "   'learning_rate': 0.0,\n",
              "   'epoch': 0.0040842999509884004,\n",
              "   'step': 200},\n",
              "  {'train_runtime': 537.3557,\n",
              "   'train_samples_per_second': 2.978,\n",
              "   'train_steps_per_second': 0.372,\n",
              "   'total_flos': 6600323148890112.0,\n",
              "   'train_loss': 3.2977016448974608,\n",
              "   'epoch': 0.0040842999509884004,\n",
              "   'step': 200}],\n",
              " 'gemma_2b_prompt_tuning_4bits_norm_nested_linear_final_metrics.json': [{'loss': 3.5746,\n",
              "   'grad_norm': 2.8958520889282227,\n",
              "   'learning_rate': 1.7647058823529414e-05,\n",
              "   'epoch': 0.0010210749877471001,\n",
              "   'step': 50},\n",
              "  {'loss': 3.4549,\n",
              "   'grad_norm': 1.9013714790344238,\n",
              "   'learning_rate': 1.1764705882352942e-05,\n",
              "   'epoch': 0.0020421499754942002,\n",
              "   'step': 100},\n",
              "  {'loss': 3.4744,\n",
              "   'grad_norm': 0.9832940697669983,\n",
              "   'learning_rate': 5.882352941176471e-06,\n",
              "   'epoch': 0.0030632249632413003,\n",
              "   'step': 150},\n",
              "  {'loss': 3.4631,\n",
              "   'grad_norm': 1.1274287700653076,\n",
              "   'learning_rate': 0.0,\n",
              "   'epoch': 0.0040842999509884004,\n",
              "   'step': 200},\n",
              "  {'train_runtime': 491.9825,\n",
              "   'train_samples_per_second': 3.252,\n",
              "   'train_steps_per_second': 0.407,\n",
              "   'total_flos': 6596250409009152.0,\n",
              "   'train_loss': 3.49171989440918,\n",
              "   'epoch': 0.0040842999509884004,\n",
              "   'step': 200}],\n",
              " 'gemma_2b_qlora_4bits_norm_nested_linear_final_metrics.json': [{'loss': 3.2044,\n",
              "   'grad_norm': 3.180421829223633,\n",
              "   'learning_rate': 1.7647058823529414e-05,\n",
              "   'epoch': 0.0010210749877471001,\n",
              "   'step': 50},\n",
              "  {'loss': 2.7834,\n",
              "   'grad_norm': 3.4666666984558105,\n",
              "   'learning_rate': 1.1764705882352942e-05,\n",
              "   'epoch': 0.0020421499754942002,\n",
              "   'step': 100},\n",
              "  {'loss': 2.7034,\n",
              "   'grad_norm': 4.209543704986572,\n",
              "   'learning_rate': 5.882352941176471e-06,\n",
              "   'epoch': 0.0030632249632413003,\n",
              "   'step': 150},\n",
              "  {'loss': 2.6435,\n",
              "   'grad_norm': 4.785397052764893,\n",
              "   'learning_rate': 0.0,\n",
              "   'epoch': 0.0040842999509884004,\n",
              "   'step': 200},\n",
              "  {'train_runtime': 562.2319,\n",
              "   'train_samples_per_second': 2.846,\n",
              "   'train_steps_per_second': 0.356,\n",
              "   'total_flos': 6635757689929728.0,\n",
              "   'train_loss': 2.8336760711669924,\n",
              "   'epoch': 0.0040842999509884004,\n",
              "   'step': 200}],\n",
              " 'gemma_7b_prompt_tuning_4bits_norm_nested_linear_final_metrics.json': [{'loss': 19.3197,\n",
              "   'grad_norm': 103.74038696289062,\n",
              "   'learning_rate': 1.7647058823529414e-05,\n",
              "   'epoch': 0.0010210749877471001,\n",
              "   'step': 50},\n",
              "  {'loss': 10.9689,\n",
              "   'grad_norm': 84.94357299804688,\n",
              "   'learning_rate': 1.1764705882352942e-05,\n",
              "   'epoch': 0.0020421499754942002,\n",
              "   'step': 100},\n",
              "  {'loss': 8.007,\n",
              "   'grad_norm': 161.6560821533203,\n",
              "   'learning_rate': 5.882352941176471e-06,\n",
              "   'epoch': 0.0030632249632413003,\n",
              "   'step': 150},\n",
              "  {'loss': 6.945,\n",
              "   'grad_norm': 208.48191833496094,\n",
              "   'learning_rate': 0.0,\n",
              "   'epoch': 0.0040842999509884004,\n",
              "   'step': 200},\n",
              "  {'train_runtime': 1685.2544,\n",
              "   'train_samples_per_second': 0.949,\n",
              "   'train_steps_per_second': 0.119,\n",
              "   'total_flos': 2.579826466558771e+16,\n",
              "   'train_loss': 11.310126495361327,\n",
              "   'epoch': 0.0040842999509884004,\n",
              "   'step': 200}],\n",
              " 'llama2_7b_adalora_4bits_norm_nested_linear_final_metrics.json': [{'loss': 4.3354,\n",
              "   'grad_norm': 0.1521449089050293,\n",
              "   'learning_rate': 1.7647058823529414e-05,\n",
              "   'epoch': 0.0010210749877471001,\n",
              "   'step': 50},\n",
              "  {'loss': 4.0767,\n",
              "   'grad_norm': 0.21333932876586914,\n",
              "   'learning_rate': 1.1764705882352942e-05,\n",
              "   'epoch': 0.0020421499754942002,\n",
              "   'step': 100},\n",
              "  {'loss': 3.932,\n",
              "   'grad_norm': 0.2327251434326172,\n",
              "   'learning_rate': 5.882352941176471e-06,\n",
              "   'epoch': 0.0030632249632413003,\n",
              "   'step': 150},\n",
              "  {'loss': 3.8612,\n",
              "   'grad_norm': 0.2975424826145172,\n",
              "   'learning_rate': 0.0,\n",
              "   'epoch': 0.0040842999509884004,\n",
              "   'step': 200},\n",
              "  {'train_runtime': 1604.1801,\n",
              "   'train_samples_per_second': 0.997,\n",
              "   'train_steps_per_second': 0.125,\n",
              "   'total_flos': 2.449907833069483e+16,\n",
              "   'train_loss': 4.0513166809082035,\n",
              "   'epoch': 0.0040842999509884004,\n",
              "   'step': 200}],\n",
              " 'llama2_7b_ia3_4bits_norm_nested_linear_final_metrics.json': [{'loss': 2.2229,\n",
              "   'grad_norm': 1.0579626560211182,\n",
              "   'learning_rate': 1.7647058823529414e-05,\n",
              "   'epoch': 0.0010210749877471001,\n",
              "   'step': 50},\n",
              "  {'loss': 2.1855,\n",
              "   'grad_norm': 1.0530354976654053,\n",
              "   'learning_rate': 1.1764705882352942e-05,\n",
              "   'epoch': 0.0020421499754942002,\n",
              "   'step': 100},\n",
              "  {'loss': 2.1956,\n",
              "   'grad_norm': 0.9397977590560913,\n",
              "   'learning_rate': 5.882352941176471e-06,\n",
              "   'epoch': 0.0030632249632413003,\n",
              "   'step': 150},\n",
              "  {'loss': 2.2001,\n",
              "   'grad_norm': 1.1101057529449463,\n",
              "   'learning_rate': 0.0,\n",
              "   'epoch': 0.0040842999509884004,\n",
              "   'step': 200},\n",
              "  {'train_runtime': 1506.9403,\n",
              "   'train_samples_per_second': 1.062,\n",
              "   'train_steps_per_second': 0.133,\n",
              "   'total_flos': 2.439276025824461e+16,\n",
              "   'train_loss': 2.2010128021240236,\n",
              "   'epoch': 0.0040842999509884004,\n",
              "   'step': 200}],\n",
              " 'llama2_7b_prompt_tuning_4bits_norm_nested_linear_final_metrics.json': [{'loss': 2.2545,\n",
              "   'grad_norm': 1.885185718536377,\n",
              "   'learning_rate': 1.7647058823529414e-05,\n",
              "   'epoch': 0.0010210749877471001,\n",
              "   'step': 50},\n",
              "  {'loss': 2.2077,\n",
              "   'grad_norm': 1.4738354682922363,\n",
              "   'learning_rate': 1.1764705882352942e-05,\n",
              "   'epoch': 0.0020421499754942002,\n",
              "   'step': 100},\n",
              "  {'loss': 2.21,\n",
              "   'grad_norm': 1.4075095653533936,\n",
              "   'learning_rate': 5.882352941176471e-06,\n",
              "   'epoch': 0.0030632249632413003,\n",
              "   'step': 150},\n",
              "  {'loss': 2.2138,\n",
              "   'grad_norm': 1.896016001701355,\n",
              "   'learning_rate': 0.0,\n",
              "   'epoch': 0.0040842999509884004,\n",
              "   'step': 200},\n",
              "  {'train_runtime': 1501.9755,\n",
              "   'train_samples_per_second': 1.065,\n",
              "   'train_steps_per_second': 0.133,\n",
              "   'total_flos': 2.4386806687924224e+16,\n",
              "   'train_loss': 2.221495590209961,\n",
              "   'epoch': 0.0040842999509884004,\n",
              "   'step': 200}],\n",
              " 'llama2_7b_qlora_4bits_norm_nested_linear_final_metrics.json': [{'loss': 2.126,\n",
              "   'grad_norm': 2.440274715423584,\n",
              "   'learning_rate': 1.7647058823529414e-05,\n",
              "   'epoch': 0.0010210749877471001,\n",
              "   'step': 50},\n",
              "  {'loss': 1.8563,\n",
              "   'grad_norm': 3.3971595764160156,\n",
              "   'learning_rate': 1.1764705882352942e-05,\n",
              "   'epoch': 0.0020421499754942002,\n",
              "   'step': 100},\n",
              "  {'loss': 1.8187,\n",
              "   'grad_norm': 3.8302221298217773,\n",
              "   'learning_rate': 5.882352941176471e-06,\n",
              "   'epoch': 0.0030632249632413003,\n",
              "   'step': 150},\n",
              "  {'loss': 1.7967,\n",
              "   'grad_norm': 4.176032066345215,\n",
              "   'learning_rate': 0.0,\n",
              "   'epoch': 0.0040842999509884004,\n",
              "   'step': 200},\n",
              "  {'train_runtime': 1563.2778,\n",
              "   'train_samples_per_second': 1.023,\n",
              "   'train_steps_per_second': 0.128,\n",
              "   'total_flos': 2.4461647252586496e+16,\n",
              "   'train_loss': 1.8994126510620117,\n",
              "   'epoch': 0.0040842999509884004,\n",
              "   'step': 200}],\n",
              " 'mistral_7b_adalora_4bits_norm_nested_linear_final_metrics.json': [{'loss': 4.9028,\n",
              "   'grad_norm': 0.6023762822151184,\n",
              "   'learning_rate': 1.7647058823529414e-05,\n",
              "   'epoch': 0.0010210749877471001,\n",
              "   'step': 50},\n",
              "  {'loss': 4.6285,\n",
              "   'grad_norm': 0.7018485069274902,\n",
              "   'learning_rate': 1.1764705882352942e-05,\n",
              "   'epoch': 0.0020421499754942002,\n",
              "   'step': 100},\n",
              "  {'loss': 4.4736,\n",
              "   'grad_norm': 0.5933613777160645,\n",
              "   'learning_rate': 5.882352941176471e-06,\n",
              "   'epoch': 0.0030632249632413003,\n",
              "   'step': 150},\n",
              "  {'loss': 4.3903,\n",
              "   'grad_norm': 0.8099698424339294,\n",
              "   'learning_rate': 0.0,\n",
              "   'epoch': 0.0040842999509884004,\n",
              "   'step': 200},\n",
              "  {'train_runtime': 1676.8541,\n",
              "   'train_samples_per_second': 0.954,\n",
              "   'train_steps_per_second': 0.119,\n",
              "   'total_flos': 2.578587505473773e+16,\n",
              "   'train_loss': 4.598781967163086,\n",
              "   'epoch': 0.0040842999509884004,\n",
              "   'step': 200}],\n",
              " 'mistral_7b_ia3_4bits_norm_nested_linear_final_metrics.json': [{'loss': 2.3201,\n",
              "   'grad_norm': 1.2999422550201416,\n",
              "   'learning_rate': 1.7647058823529414e-05,\n",
              "   'epoch': 0.0010210749877471001,\n",
              "   'step': 50},\n",
              "  {'loss': 2.2789,\n",
              "   'grad_norm': 1.1612910032272339,\n",
              "   'learning_rate': 1.1764705882352942e-05,\n",
              "   'epoch': 0.0020421499754942002,\n",
              "   'step': 100},\n",
              "  {'loss': 2.2892,\n",
              "   'grad_norm': 0.8784806728363037,\n",
              "   'learning_rate': 5.882352941176471e-06,\n",
              "   'epoch': 0.0030632249632413003,\n",
              "   'step': 150},\n",
              "  {'loss': 2.2904,\n",
              "   'grad_norm': 1.1304188966751099,\n",
              "   'learning_rate': 0.0,\n",
              "   'epoch': 0.0040842999509884004,\n",
              "   'step': 200},\n",
              "  {'train_runtime': 1575.0243,\n",
              "   'train_samples_per_second': 1.016,\n",
              "   'train_steps_per_second': 0.127,\n",
              "   'total_flos': 2.567700145722163e+16,\n",
              "   'train_loss': 2.2946519470214843,\n",
              "   'epoch': 0.0040842999509884004,\n",
              "   'step': 200}],\n",
              " 'mistral_7b_prompt_tuning_4bits_norm_nested_linear_final_metrics.json': [{'loss': 2.4132,\n",
              "   'grad_norm': 11.320916175842285,\n",
              "   'learning_rate': 1.7647058823529414e-05,\n",
              "   'epoch': 0.0010210749877471001,\n",
              "   'step': 50},\n",
              "  {'loss': 2.2647,\n",
              "   'grad_norm': 20.041786193847656,\n",
              "   'learning_rate': 1.1764705882352942e-05,\n",
              "   'epoch': 0.0020421499754942002,\n",
              "   'step': 100},\n",
              "  {'loss': 2.1796,\n",
              "   'grad_norm': 36.844947814941406,\n",
              "   'learning_rate': 5.882352941176471e-06,\n",
              "   'epoch': 0.0030632249632413003,\n",
              "   'step': 150},\n",
              "  {'loss': 2.1226,\n",
              "   'grad_norm': 39.13370132446289,\n",
              "   'learning_rate': 0.0,\n",
              "   'epoch': 0.0040842999509884004,\n",
              "   'step': 200},\n",
              "  {'train_runtime': 1569.0445,\n",
              "   'train_samples_per_second': 1.02,\n",
              "   'train_steps_per_second': 0.127,\n",
              "   'total_flos': 2.5670734422736896e+16,\n",
              "   'train_loss': 2.2450373458862303,\n",
              "   'epoch': 0.0040842999509884004,\n",
              "   'step': 200}],\n",
              " 'mistral_7b_qlora_4bits_norm_nested_linear_final_metrics.json': [{'loss': 2.1073,\n",
              "   'grad_norm': 10.841377258300781,\n",
              "   'learning_rate': 1.7647058823529414e-05,\n",
              "   'epoch': 0.0010210749877471001,\n",
              "   'step': 50},\n",
              "  {'loss': 1.881,\n",
              "   'grad_norm': 6.26943826675415,\n",
              "   'learning_rate': 1.1764705882352942e-05,\n",
              "   'epoch': 0.0020421499754942002,\n",
              "   'step': 100},\n",
              "  {'loss': 1.8791,\n",
              "   'grad_norm': 6.6393208503723145,\n",
              "   'learning_rate': 5.882352941176471e-06,\n",
              "   'epoch': 0.0030632249632413003,\n",
              "   'step': 150},\n",
              "  {'loss': 1.8565,\n",
              "   'grad_norm': 9.391927719116211,\n",
              "   'learning_rate': 0.0,\n",
              "   'epoch': 0.0040842999509884004,\n",
              "   'step': 200},\n",
              "  {'train_runtime': 1633.2469,\n",
              "   'train_samples_per_second': 0.98,\n",
              "   'train_steps_per_second': 0.122,\n",
              "   'total_flos': 2.5747487804227584e+16,\n",
              "   'train_loss': 1.930981559753418,\n",
              "   'epoch': 0.0040842999509884004,\n",
              "   'step': 200}]}"
            ]
          },
          "execution_count": 124,
          "metadata": {},
          "output_type": "execute_result"
        }
      ],
      "source": [
        "data_dict"
      ]
    },
    {
      "cell_type": "code",
      "execution_count": null,
      "metadata": {
        "id": "K_wkgMBQB_wa"
      },
      "outputs": [],
      "source": []
    }
  ],
  "metadata": {
    "colab": {
      "provenance": []
    },
    "kernelspec": {
      "display_name": "Python 3",
      "name": "python3"
    },
    "language_info": {
      "codemirror_mode": {
        "name": "ipython",
        "version": 3
      },
      "file_extension": ".py",
      "mimetype": "text/x-python",
      "name": "python",
      "nbconvert_exporter": "python",
      "pygments_lexer": "ipython3",
      "version": "3.10.14"
    },
    "widgets": {
      "application/vnd.jupyter.widget-state+json": {
        "040b47ea0b4745c0a11d8f4256cab40d": {
          "model_module": "@jupyter-widgets/controls",
          "model_module_version": "1.5.0",
          "model_name": "HTMLModel",
          "state": {
            "_dom_classes": [],
            "_model_module": "@jupyter-widgets/controls",
            "_model_module_version": "1.5.0",
            "_model_name": "HTMLModel",
            "_view_count": null,
            "_view_module": "@jupyter-widgets/controls",
            "_view_module_version": "1.5.0",
            "_view_name": "HTMLView",
            "description": "",
            "description_tooltip": null,
            "layout": "IPY_MODEL_d808856716e547098e70980305755912",
            "placeholder": "​",
            "style": "IPY_MODEL_499de87d72a84106883219f601d1b7d8",
            "value": " 500/500 [00:00&lt;00:00, 17850.38 examples/s]"
          }
        },
        "0ef5fadba23c4c1aa57c38abc070ea31": {
          "model_module": "@jupyter-widgets/controls",
          "model_module_version": "1.5.0",
          "model_name": "FloatProgressModel",
          "state": {
            "_dom_classes": [],
            "_model_module": "@jupyter-widgets/controls",
            "_model_module_version": "1.5.0",
            "_model_name": "FloatProgressModel",
            "_view_count": null,
            "_view_module": "@jupyter-widgets/controls",
            "_view_module_version": "1.5.0",
            "_view_name": "ProgressView",
            "bar_style": "success",
            "description": "",
            "description_tooltip": null,
            "layout": "IPY_MODEL_51181fd26f4646a186220b174d5a8471",
            "max": 500,
            "min": 0,
            "orientation": "horizontal",
            "style": "IPY_MODEL_a8f16164b1764da8a4874af852603f81",
            "value": 500
          }
        },
        "499de87d72a84106883219f601d1b7d8": {
          "model_module": "@jupyter-widgets/controls",
          "model_module_version": "1.5.0",
          "model_name": "DescriptionStyleModel",
          "state": {
            "_model_module": "@jupyter-widgets/controls",
            "_model_module_version": "1.5.0",
            "_model_name": "DescriptionStyleModel",
            "_view_count": null,
            "_view_module": "@jupyter-widgets/base",
            "_view_module_version": "1.2.0",
            "_view_name": "StyleView",
            "description_width": ""
          }
        },
        "4b7ad8f2ff654f778b549e1db7cac17b": {
          "model_module": "@jupyter-widgets/base",
          "model_module_version": "1.2.0",
          "model_name": "LayoutModel",
          "state": {
            "_model_module": "@jupyter-widgets/base",
            "_model_module_version": "1.2.0",
            "_model_name": "LayoutModel",
            "_view_count": null,
            "_view_module": "@jupyter-widgets/base",
            "_view_module_version": "1.2.0",
            "_view_name": "LayoutView",
            "align_content": null,
            "align_items": null,
            "align_self": null,
            "border": null,
            "bottom": null,
            "display": null,
            "flex": null,
            "flex_flow": null,
            "grid_area": null,
            "grid_auto_columns": null,
            "grid_auto_flow": null,
            "grid_auto_rows": null,
            "grid_column": null,
            "grid_gap": null,
            "grid_row": null,
            "grid_template_areas": null,
            "grid_template_columns": null,
            "grid_template_rows": null,
            "height": null,
            "justify_content": null,
            "justify_items": null,
            "left": null,
            "margin": null,
            "max_height": null,
            "max_width": null,
            "min_height": null,
            "min_width": null,
            "object_fit": null,
            "object_position": null,
            "order": null,
            "overflow": null,
            "overflow_x": null,
            "overflow_y": null,
            "padding": null,
            "right": null,
            "top": null,
            "visibility": null,
            "width": null
          }
        },
        "51181fd26f4646a186220b174d5a8471": {
          "model_module": "@jupyter-widgets/base",
          "model_module_version": "1.2.0",
          "model_name": "LayoutModel",
          "state": {
            "_model_module": "@jupyter-widgets/base",
            "_model_module_version": "1.2.0",
            "_model_name": "LayoutModel",
            "_view_count": null,
            "_view_module": "@jupyter-widgets/base",
            "_view_module_version": "1.2.0",
            "_view_name": "LayoutView",
            "align_content": null,
            "align_items": null,
            "align_self": null,
            "border": null,
            "bottom": null,
            "display": null,
            "flex": null,
            "flex_flow": null,
            "grid_area": null,
            "grid_auto_columns": null,
            "grid_auto_flow": null,
            "grid_auto_rows": null,
            "grid_column": null,
            "grid_gap": null,
            "grid_row": null,
            "grid_template_areas": null,
            "grid_template_columns": null,
            "grid_template_rows": null,
            "height": null,
            "justify_content": null,
            "justify_items": null,
            "left": null,
            "margin": null,
            "max_height": null,
            "max_width": null,
            "min_height": null,
            "min_width": null,
            "object_fit": null,
            "object_position": null,
            "order": null,
            "overflow": null,
            "overflow_x": null,
            "overflow_y": null,
            "padding": null,
            "right": null,
            "top": null,
            "visibility": null,
            "width": null
          }
        },
        "52f5ed1d00404af5a6f3a034b4620ca2": {
          "model_module": "@jupyter-widgets/controls",
          "model_module_version": "1.5.0",
          "model_name": "HTMLModel",
          "state": {
            "_dom_classes": [],
            "_model_module": "@jupyter-widgets/controls",
            "_model_module_version": "1.5.0",
            "_model_name": "HTMLModel",
            "_view_count": null,
            "_view_module": "@jupyter-widgets/controls",
            "_view_module_version": "1.5.0",
            "_view_name": "HTMLView",
            "description": "",
            "description_tooltip": null,
            "layout": "IPY_MODEL_4b7ad8f2ff654f778b549e1db7cac17b",
            "placeholder": "​",
            "style": "IPY_MODEL_ce8add466d744d4bb396963df1f3c9fa",
            "value": "Filter: 100%"
          }
        },
        "932ce07e46b24e5f9b67257f60022209": {
          "model_module": "@jupyter-widgets/controls",
          "model_module_version": "1.5.0",
          "model_name": "HBoxModel",
          "state": {
            "_dom_classes": [],
            "_model_module": "@jupyter-widgets/controls",
            "_model_module_version": "1.5.0",
            "_model_name": "HBoxModel",
            "_view_count": null,
            "_view_module": "@jupyter-widgets/controls",
            "_view_module_version": "1.5.0",
            "_view_name": "HBoxView",
            "box_style": "",
            "children": [
              "IPY_MODEL_52f5ed1d00404af5a6f3a034b4620ca2",
              "IPY_MODEL_0ef5fadba23c4c1aa57c38abc070ea31",
              "IPY_MODEL_040b47ea0b4745c0a11d8f4256cab40d"
            ],
            "layout": "IPY_MODEL_c6925946c6fc4b999563cfb4190048f8"
          }
        },
        "a8f16164b1764da8a4874af852603f81": {
          "model_module": "@jupyter-widgets/controls",
          "model_module_version": "1.5.0",
          "model_name": "ProgressStyleModel",
          "state": {
            "_model_module": "@jupyter-widgets/controls",
            "_model_module_version": "1.5.0",
            "_model_name": "ProgressStyleModel",
            "_view_count": null,
            "_view_module": "@jupyter-widgets/base",
            "_view_module_version": "1.2.0",
            "_view_name": "StyleView",
            "bar_color": null,
            "description_width": ""
          }
        },
        "c6925946c6fc4b999563cfb4190048f8": {
          "model_module": "@jupyter-widgets/base",
          "model_module_version": "1.2.0",
          "model_name": "LayoutModel",
          "state": {
            "_model_module": "@jupyter-widgets/base",
            "_model_module_version": "1.2.0",
            "_model_name": "LayoutModel",
            "_view_count": null,
            "_view_module": "@jupyter-widgets/base",
            "_view_module_version": "1.2.0",
            "_view_name": "LayoutView",
            "align_content": null,
            "align_items": null,
            "align_self": null,
            "border": null,
            "bottom": null,
            "display": null,
            "flex": null,
            "flex_flow": null,
            "grid_area": null,
            "grid_auto_columns": null,
            "grid_auto_flow": null,
            "grid_auto_rows": null,
            "grid_column": null,
            "grid_gap": null,
            "grid_row": null,
            "grid_template_areas": null,
            "grid_template_columns": null,
            "grid_template_rows": null,
            "height": null,
            "justify_content": null,
            "justify_items": null,
            "left": null,
            "margin": null,
            "max_height": null,
            "max_width": null,
            "min_height": null,
            "min_width": null,
            "object_fit": null,
            "object_position": null,
            "order": null,
            "overflow": null,
            "overflow_x": null,
            "overflow_y": null,
            "padding": null,
            "right": null,
            "top": null,
            "visibility": null,
            "width": null
          }
        },
        "ce8add466d744d4bb396963df1f3c9fa": {
          "model_module": "@jupyter-widgets/controls",
          "model_module_version": "1.5.0",
          "model_name": "DescriptionStyleModel",
          "state": {
            "_model_module": "@jupyter-widgets/controls",
            "_model_module_version": "1.5.0",
            "_model_name": "DescriptionStyleModel",
            "_view_count": null,
            "_view_module": "@jupyter-widgets/base",
            "_view_module_version": "1.2.0",
            "_view_name": "StyleView",
            "description_width": ""
          }
        },
        "d808856716e547098e70980305755912": {
          "model_module": "@jupyter-widgets/base",
          "model_module_version": "1.2.0",
          "model_name": "LayoutModel",
          "state": {
            "_model_module": "@jupyter-widgets/base",
            "_model_module_version": "1.2.0",
            "_model_name": "LayoutModel",
            "_view_count": null,
            "_view_module": "@jupyter-widgets/base",
            "_view_module_version": "1.2.0",
            "_view_name": "LayoutView",
            "align_content": null,
            "align_items": null,
            "align_self": null,
            "border": null,
            "bottom": null,
            "display": null,
            "flex": null,
            "flex_flow": null,
            "grid_area": null,
            "grid_auto_columns": null,
            "grid_auto_flow": null,
            "grid_auto_rows": null,
            "grid_column": null,
            "grid_gap": null,
            "grid_row": null,
            "grid_template_areas": null,
            "grid_template_columns": null,
            "grid_template_rows": null,
            "height": null,
            "justify_content": null,
            "justify_items": null,
            "left": null,
            "margin": null,
            "max_height": null,
            "max_width": null,
            "min_height": null,
            "min_width": null,
            "object_fit": null,
            "object_position": null,
            "order": null,
            "overflow": null,
            "overflow_x": null,
            "overflow_y": null,
            "padding": null,
            "right": null,
            "top": null,
            "visibility": null,
            "width": null
          }
        }
      }
    }
  },
  "nbformat": 4,
  "nbformat_minor": 0
}
