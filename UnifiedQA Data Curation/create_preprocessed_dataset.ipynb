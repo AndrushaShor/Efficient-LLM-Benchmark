{
 "cells": [
  {
   "cell_type": "code",
   "execution_count": 1,
   "metadata": {},
   "outputs": [],
   "source": [
    "from preprocess import *\n",
    "import os"
   ]
  },
  {
   "cell_type": "code",
   "execution_count": 2,
   "metadata": {},
   "outputs": [],
   "source": [
    "# Dataset used for training\n",
    "DATASETS = [\n",
    "    \"ai2_science_middle\",\n",
    "    \"ai2_science_elementary\",\n",
    "    \"arc_hard\",\n",
    "    \"arc_easy\",\n",
    "    \"mctest\",\n",
    "    \"mctest_corrected_the_separator\",\n",
    "    \"natural_questions\",\n",
    "    \"quoref\",\n",
    "    \"squad1_1\",\n",
    "    \"squad2\",\n",
    "    \"boolq\",\n",
    "    \"multirc\",\n",
    "    \"newsqa\",\n",
    "    \"race_string\",\n",
    "    \"ropes\",\n",
    "    \"drop\",\n",
    "    \"narrativeqa\",\n",
    "    \"openbookqa\",\n",
    "    \"qasc\",\n",
    "    \"boolq_np\",\n",
    "    \"contrast_sets_boolq\",\n",
    "    \"contrast_sets_drop\",\n",
    "    \"contrast_sets_quoref\",\n",
    "    \"contrast_sets_ropes\",\n",
    "    \"commonsenseqa\",\n",
    "    \"qasc_with_ir\",\n",
    "    \"openbookqa_with_ir\",\n",
    "    \"arc_easy_with_ir\",\n",
    "    \"arc_hard_with_ir\",\n",
    "    \"ambigqa\",\n",
    "    \"natural_questions_direct_ans\",\n",
    "    \"natural_questions_with_dpr_para\",\n",
    "    \"winogrande_xs\",\n",
    "    \"winogrande_s\",\n",
    "    \"winogrande_m\",\n",
    "    \"winogrande_l\",\n",
    "    \"winogrande_xl\",\n",
    "    \"social_iqa\",\n",
    "    \"physical_iqa\",\n",
    "]\n",
    "\n",
    "UNIFIED_DATASETS = [ \n",
    "            \"narrativeqa\",\n",
    "            \"ai2_science_middle\", \"ai2_science_elementary\",\n",
    "            \"arc_hard\", \"arc_easy\",\n",
    "            \"mctest_corrected_the_separator\",\n",
    "            \"squad1_1\", \"squad2\",\n",
    "            \"boolq\",\n",
    "            \"race_string\",\n",
    "            \"openbookqa\"]\n",
    "\n",
    "# Unseen Data\n",
    "EVAL_DATA = list(set(DATASETS) - set(UNIFIED_DATASETS))\n"
   ]
  },
  {
   "cell_type": "code",
   "execution_count": 3,
   "metadata": {},
   "outputs": [
    {
     "name": "stdout",
     "output_type": "stream",
     "text": [
      "Making UnifiedQA Train Dataset\n",
      "Making UnifiedQA Dev Dataset\n",
      "Making UnifiedQA Test Dataset\n"
     ]
    }
   ],
   "source": [
    "print(\"Making UnifiedQA Train Dataset\")\n",
    "unified_qa_train = make_unified_qa_dataset(UNIFIED_DATASETS, r\"C:\\Programming\\DL Research\\Efficient-LLM-Benchmark\\UnifiedQA Data Curation\\data\", \"train\", True, file_path=r\"C:\\Programming\\DL Research\\Efficient-LLM-Benchmark\\UnifiedQA Data Curation\\unprocessed\")\n",
    "\n",
    "print(\"Making UnifiedQA Dev Dataset\")\n",
    "unified_qa_dev = make_unified_qa_dataset(UNIFIED_DATASETS, r\"C:\\Programming\\DL Research\\Efficient-LLM-Benchmark\\UnifiedQA Data Curation\\data\", \"dev\", True, file_path=r\"C:\\Programming\\DL Research\\Efficient-LLM-Benchmark\\UnifiedQA Data Curation\\unprocessed\")\n",
    "\n",
    "print(\"Making UnifiedQA Test Dataset\")\n",
    "unified_qa_test = make_unified_qa_dataset(UNIFIED_DATASETS, r\"C:\\Programming\\DL Research\\Efficient-LLM-Benchmark\\UnifiedQA Data Curation\\data\", \"test\", True, file_path=r\"C:\\Programming\\DL Research\\Efficient-LLM-Benchmark\\UnifiedQA Data Curation\\unprocessed\")\n",
    "\n",
    "\n"
   ]
  },
  {
   "cell_type": "code",
   "execution_count": 4,
   "metadata": {},
   "outputs": [
    {
     "name": "stdout",
     "output_type": "stream",
     "text": [
      "SANITY CHECK FOR READING TRAIN DATASET\n",
      "65494\n",
      "---------------------------------------------------------------\n",
      "SANITY CHECK FOR READING DEV DATASET\n",
      "6922\n",
      "---------------------------------------------------------------\n",
      "SANITY CHECK FOR READING TEST DATASET\n",
      "21114\n",
      "---------------------------------------------------------------\n"
     ]
    }
   ],
   "source": [
    "print('SANITY CHECK FOR READING TRAIN DATASET')\n",
    "print(len(unified_qa_train['narrativeqa']['question']))\n",
    "print('---------------------------------------------------------------')\n",
    "\n",
    "print('SANITY CHECK FOR READING DEV DATASET')\n",
    "print(len(unified_qa_dev['narrativeqa']['question']))\n",
    "print('---------------------------------------------------------------')\n",
    "\n",
    "print('SANITY CHECK FOR READING TEST DATASET')\n",
    "print(len(unified_qa_test['narrativeqa']['question']))\n",
    "print('---------------------------------------------------------------')"
   ]
  },
  {
   "cell_type": "code",
   "execution_count": 5,
   "metadata": {},
   "outputs": [
    {
     "name": "stdout",
     "output_type": "stream",
     "text": [
      "C:\\Programming\\DL Research\\Efficient-LLM-Benchmark\\UnifiedQA Data Curation\\preprocessed\\Gemma\\train.json\n",
      "C:\\Programming\\DL Research\\Efficient-LLM-Benchmark\\UnifiedQA Data Curation\\preprocessed\\Gemma\\dev.json\n",
      "C:\\Programming\\DL Research\\Efficient-LLM-Benchmark\\UnifiedQA Data Curation\\preprocessed\\Gemma\\test.json\n",
      "C:\\Programming\\DL Research\\Efficient-LLM-Benchmark\\UnifiedQA Data Curation\\preprocessed\\Llama\\train.json\n",
      "C:\\Programming\\DL Research\\Efficient-LLM-Benchmark\\UnifiedQA Data Curation\\preprocessed\\Llama\\dev.json\n",
      "C:\\Programming\\DL Research\\Efficient-LLM-Benchmark\\UnifiedQA Data Curation\\preprocessed\\Llama\\test.json\n",
      "C:\\Programming\\DL Research\\Efficient-LLM-Benchmark\\UnifiedQA Data Curation\\preprocessed\\Mistral\\train.json\n",
      "C:\\Programming\\DL Research\\Efficient-LLM-Benchmark\\UnifiedQA Data Curation\\preprocessed\\Mistral\\dev.json\n",
      "C:\\Programming\\DL Research\\Efficient-LLM-Benchmark\\UnifiedQA Data Curation\\preprocessed\\Mistral\\test.json\n"
     ]
    }
   ],
   "source": [
    "gemma_chat_preprocess_train = preprocess_unified_qa_dataset(datasets=unified_qa_train, append_instruction_gemma=True, append_instruction_llama=False, append_instruction_mistral=False, append_s=False, append_bos=True, file_path=r\"C:\\Programming\\DL Research\\Efficient-LLM-Benchmark\\UnifiedQA Data Curation\\preprocessed\\Gemma\", file_name='train',enable_load=True)\n",
    "gemma_chat_preprocess_dev = preprocess_unified_qa_dataset(datasets=unified_qa_dev, append_instruction_gemma=True, append_instruction_llama=False, append_instruction_mistral=False, append_s=False, append_bos=True, file_path=r\"C:\\Programming\\DL Research\\Efficient-LLM-Benchmark\\UnifiedQA Data Curation\\preprocessed\\Gemma\", file_name='dev',enable_load=True)\n",
    "gemma_chat_preprocess_test = preprocess_unified_qa_dataset(datasets=unified_qa_test, append_instruction_gemma=True, append_instruction_llama=False, append_instruction_mistral=False, append_s=False, append_bos=True, file_path=r\"C:\\Programming\\DL Research\\Efficient-LLM-Benchmark\\UnifiedQA Data Curation\\preprocessed\\Gemma\", file_name='test',enable_load=True)\n",
    "\n",
    "llama_chat_preprocess_train = preprocess_unified_qa_dataset(datasets=unified_qa_train, append_instruction_gemma=False, append_instruction_llama=True, append_instruction_mistral=False, append_s=True, append_bos=False, file_path=r\"C:\\Programming\\DL Research\\Efficient-LLM-Benchmark\\UnifiedQA Data Curation\\preprocessed\\Llama\", file_name='train',enable_load=True)\n",
    "llama_chat_preprocess_dev = preprocess_unified_qa_dataset(datasets=unified_qa_dev, append_instruction_gemma=False, append_instruction_llama=True, append_instruction_mistral=False, append_s=True, append_bos=False, file_path=r\"C:\\Programming\\DL Research\\Efficient-LLM-Benchmark\\UnifiedQA Data Curation\\preprocessed\\Llama\", file_name='dev',enable_load=True)\n",
    "llama_chat_preprocess_test = preprocess_unified_qa_dataset(datasets=unified_qa_test, append_instruction_gemma=False, append_instruction_llama=True, append_instruction_mistral=False, append_s=True, append_bos=False, file_path=r\"C:\\Programming\\DL Research\\Efficient-LLM-Benchmark\\UnifiedQA Data Curation\\preprocessed\\Llama\", file_name='test',enable_load=True)\n",
    "\n",
    "mistral_chat_preprocess_train = preprocess_unified_qa_dataset(datasets=unified_qa_train, append_instruction_gemma=False, append_instruction_llama=False, append_instruction_mistral=True, append_s=True, append_bos=False, file_path=r\"C:\\Programming\\DL Research\\Efficient-LLM-Benchmark\\UnifiedQA Data Curation\\preprocessed\\Mistral\", file_name='train',enable_load=True)\n",
    "mistral_chat_preprocess_dev = preprocess_unified_qa_dataset(datasets=unified_qa_dev, append_instruction_gemma=False, append_instruction_llama=False, append_instruction_mistral=True, append_s=True, append_bos=False, file_path=r\"C:\\Programming\\DL Research\\Efficient-LLM-Benchmark\\UnifiedQA Data Curation\\preprocessed\\Mistral\", file_name='dev',enable_load=True)\n",
    "mistral_chat_preprocess_test = preprocess_unified_qa_dataset(datasets=unified_qa_test, append_instruction_gemma=False, append_instruction_llama=False, append_instruction_mistral=True, append_s=True, append_bos=False, file_path=r\"C:\\Programming\\DL Research\\Efficient-LLM-Benchmark\\UnifiedQA Data Curation\\preprocessed\\Mistral\", file_name='test',enable_load=True)\n",
    "\n"
   ]
  },
  {
   "cell_type": "code",
   "execution_count": 6,
   "metadata": {},
   "outputs": [
    {
     "name": "stdout",
     "output_type": "stream",
     "text": [
      "SANITY CHECK FOR PREPROCESSING TRAIN DATASET\n",
      "<bos><start_of_turn>user\n",
      "who is miss delmer? \\n  at madeline hall, an old mansion-house near southampton belonging to the wealthy de versely family, lives an elderly spinster miss delmar, the aunt of the earl de versely and captain delmar. miss delmar invites arabella mason, the daughter of a deceased, well-liked steward to stay with her as a lower-class guest in the house. captain delmar is known to visit his aunt at madeline hall frequently, accompanied by his valet ben keene, who is also a private marine. captain delmar eventually suggests that ben should propose to arabella, and the two marry in secret, to the frustration of miss delmar and arabella's mother. the captain is able to smooth over the situation with his aunt, even after it is discovered that arabella was six months pregnant at the time of the marriage. she later gives birth to a boy, who takes the captain's christian name and ben's surname--the titular percival keene.the family moves to chatham, after ben is ordered back with his detachment. arabella opens up a successful shop and circulating library below her house, enlisting the help of her mother and sister, amelia. percival becomes well known in town from his mischievous pranks on officers and other strangers, often encouraged by his aunt amelia. however, percival's mother and grandmother are less fond of his disregard for manners, and insist on sending him to school after an episode in which he bites his grandmother. percival reports to the school house of mr. o'gallagher, a poor irish scholar, who rules his class with a system of severe corporal punishment. mr. o'gallagher routinely bullies percival by stealing his lunch, leading percival to seek revenge by poisoning his sandwiches with calomel. on guy fawkes day the schoolteacher confiscates all the schoolboys' fireworks, for which percival retaliates by setting off the collected fireworks while the teacher sits above them, leading to the total destruction of the schoolhouse and near death of the schoolmaster.when percival is a young teenager, captain delmar reappears and offers him a position aboard his new navy ship, the h.m. calliope. while preparing to enter service, percival overhears gossip of his illegitimate birth, introducing the idea that captain delmar may be his father. he confronts his mother about his parentage, which she at first harshly denies but later tearfully explains the truth of her affair. early in his service in the navy, percival is captured during a pirate raid along with others. the pirate crew is entirely black, and the captain explains that they are primarily escaped slaves from the americas. percival is taken in as a cabin boy, and later dyes his skin tan in the appearance of a mulatto to please the captain who doesn't approve of white skin. the pirates often seek to take over slave trading vessels, killing every white person on board. during the taking of one such vessel, percival is able is convince the captain to spare the lives of a wealthy dutch merchant and his young daughter, minnie. eventually the h.m. calliope takes the pirate ship, and percival--unrecognizable with his dyed skin--is taken as a prisoner, later to convince his fellow shipman of his true identity.after his reappearance aboard the ship, percival gains esteem among the crew and is welcomed back by the emotional captain delmar. his reputation continues to grow over the course of his service in conflicts with dutch and french vessels around the island of curacao. he also stands in for an ill captain delmar in a duel with a french officer, effectively saving the captain's life. at this point, the captain receives news that his older brother has died, making him the new lord de versely, and before returning to england he grants perceval command of his own schooner. after another intense but successful battle with a french war ship, percival is promoted to captain. during his service in the navy, percival still partakes in the merry pranks of his youth, and at one point teams up with a mulatto hotel owner in curaรงao to convince his fellow officers they've been poisoned. he also keeps correspondence with minnie, developing a romance with the beautiful heiress.near the end of the story, percival guides his crew through a terrible storm in which many of the crew are killed and the ship is heavily damaged. after being saved by another english vessel, he receives a letter informing him of lord de versely's sudden death from heart complications and learns that he has been left all of his personal property. percival is still disappointed that he can not take his father's name. he later journey's with his friend bob cross to hamburg to reunite with minnie, but is captured by french troops on the road and sentenced to execution for spying. during a skirmish between the french and the cossacks, percival and cross are able to escape and continue on the road. at the end of the novel, percival proposes to minnie, and stands to inherit a great fortune through her father. he also receives a letter from the de versely attorney letting him know he has been granted the arms and name of delmar.<end_of_turn>\n",
      "\n",
      "\n",
      "---------------------------------------------------------------\n",
      "SANITY CHECK FOR PREPROCESSING DEV DATASET\n",
      "<start_of_turn>model\n",
      "the elderly spinster aunt of the earl de verseley and captain delmar<end_of_turn>\n",
      "---------------------------------------------------------------\n",
      "SANITY CHECK FOR PREPROCESSING TEST DATASET\n",
      "<bos><start_of_turn>user\n",
      "who is miss delmer? \\n  at madeline hall, an old mansion-house near southampton belonging to the wealthy de versely family, lives an elderly spinster miss delmar, the aunt of the earl de versely and captain delmar. miss delmar invites arabella mason, the daughter of a deceased, well-liked steward to stay with her as a lower-class guest in the house. captain delmar is known to visit his aunt at madeline hall frequently, accompanied by his valet ben keene, who is also a private marine. captain delmar eventually suggests that ben should propose to arabella, and the two marry in secret, to the frustration of miss delmar and arabella's mother. the captain is able to smooth over the situation with his aunt, even after it is discovered that arabella was six months pregnant at the time of the marriage. she later gives birth to a boy, who takes the captain's christian name and ben's surname--the titular percival keene.the family moves to chatham, after ben is ordered back with his detachment. arabella opens up a successful shop and circulating library below her house, enlisting the help of her mother and sister, amelia. percival becomes well known in town from his mischievous pranks on officers and other strangers, often encouraged by his aunt amelia. however, percival's mother and grandmother are less fond of his disregard for manners, and insist on sending him to school after an episode in which he bites his grandmother. percival reports to the school house of mr. o'gallagher, a poor irish scholar, who rules his class with a system of severe corporal punishment. mr. o'gallagher routinely bullies percival by stealing his lunch, leading percival to seek revenge by poisoning his sandwiches with calomel. on guy fawkes day the schoolteacher confiscates all the schoolboys' fireworks, for which percival retaliates by setting off the collected fireworks while the teacher sits above them, leading to the total destruction of the schoolhouse and near death of the schoolmaster.when percival is a young teenager, captain delmar reappears and offers him a position aboard his new navy ship, the h.m. calliope. while preparing to enter service, percival overhears gossip of his illegitimate birth, introducing the idea that captain delmar may be his father. he confronts his mother about his parentage, which she at first harshly denies but later tearfully explains the truth of her affair. early in his service in the navy, percival is captured during a pirate raid along with others. the pirate crew is entirely black, and the captain explains that they are primarily escaped slaves from the americas. percival is taken in as a cabin boy, and later dyes his skin tan in the appearance of a mulatto to please the captain who doesn't approve of white skin. the pirates often seek to take over slave trading vessels, killing every white person on board. during the taking of one such vessel, percival is able is convince the captain to spare the lives of a wealthy dutch merchant and his young daughter, minnie. eventually the h.m. calliope takes the pirate ship, and percival--unrecognizable with his dyed skin--is taken as a prisoner, later to convince his fellow shipman of his true identity.after his reappearance aboard the ship, percival gains esteem among the crew and is welcomed back by the emotional captain delmar. his reputation continues to grow over the course of his service in conflicts with dutch and french vessels around the island of curacao. he also stands in for an ill captain delmar in a duel with a french officer, effectively saving the captain's life. at this point, the captain receives news that his older brother has died, making him the new lord de versely, and before returning to england he grants perceval command of his own schooner. after another intense but successful battle with a french war ship, percival is promoted to captain. during his service in the navy, percival still partakes in the merry pranks of his youth, and at one point teams up with a mulatto hotel owner in curaรงao to convince his fellow officers they've been poisoned. he also keeps correspondence with minnie, developing a romance with the beautiful heiress.near the end of the story, percival guides his crew through a terrible storm in which many of the crew are killed and the ship is heavily damaged. after being saved by another english vessel, he receives a letter informing him of lord de versely's sudden death from heart complications and learns that he has been left all of his personal property. percival is still disappointed that he can not take his father's name. he later journey's with his friend bob cross to hamburg to reunite with minnie, but is captured by french troops on the road and sentenced to execution for spying. during a skirmish between the french and the cossacks, percival and cross are able to escape and continue on the road. at the end of the novel, percival proposes to minnie, and stands to inherit a great fortune through her father. he also receives a letter from the de versely attorney letting him know he has been granted the arms and name of delmar.<end_of_turn>\n",
      "\n",
      " <start_of_turn>model\n",
      "the elderly spinster aunt of the earl de verseley and captain delmar<end_of_turn>\n",
      "---------------------------------------------------------------\n"
     ]
    }
   ],
   "source": [
    "print('SANITY CHECK FOR PREPROCESSING TRAIN DATASET')\n",
    "print(gemma_chat_preprocess_train['narrativeqa']['question'][0])\n",
    "print('---------------------------------------------------------------')\n",
    "\n",
    "print('SANITY CHECK FOR PREPROCESSING DEV DATASET')\n",
    "print(gemma_chat_preprocess_train['narrativeqa']['answer'][0])\n",
    "print('---------------------------------------------------------------')\n",
    "\n",
    "print('SANITY CHECK FOR PREPROCESSING TEST DATASET')\n",
    "print(gemma_chat_preprocess_train['narrativeqa']['text'][0])\n",
    "print('---------------------------------------------------------------')"
   ]
  },
  {
   "cell_type": "code",
   "execution_count": 7,
   "metadata": {},
   "outputs": [
    {
     "name": "stdout",
     "output_type": "stream",
     "text": [
      "SANITY CHECK FOR PREPROCESSING TRAIN DATASET\n",
      "<s>who is miss delmer? \\n  at madeline hall, an old mansion-house near southampton belonging to the wealthy de versely family, lives an elderly spinster miss delmar, the aunt of the earl de versely and captain delmar. miss delmar invites arabella mason, the daughter of a deceased, well-liked steward to stay with her as a lower-class guest in the house. captain delmar is known to visit his aunt at madeline hall frequently, accompanied by his valet ben keene, who is also a private marine. captain delmar eventually suggests that ben should propose to arabella, and the two marry in secret, to the frustration of miss delmar and arabella's mother. the captain is able to smooth over the situation with his aunt, even after it is discovered that arabella was six months pregnant at the time of the marriage. she later gives birth to a boy, who takes the captain's christian name and ben's surname--the titular percival keene.the family moves to chatham, after ben is ordered back with his detachment. arabella opens up a successful shop and circulating library below her house, enlisting the help of her mother and sister, amelia. percival becomes well known in town from his mischievous pranks on officers and other strangers, often encouraged by his aunt amelia. however, percival's mother and grandmother are less fond of his disregard for manners, and insist on sending him to school after an episode in which he bites his grandmother. percival reports to the school house of mr. o'gallagher, a poor irish scholar, who rules his class with a system of severe corporal punishment. mr. o'gallagher routinely bullies percival by stealing his lunch, leading percival to seek revenge by poisoning his sandwiches with calomel. on guy fawkes day the schoolteacher confiscates all the schoolboys' fireworks, for which percival retaliates by setting off the collected fireworks while the teacher sits above them, leading to the total destruction of the schoolhouse and near death of the schoolmaster.when percival is a young teenager, captain delmar reappears and offers him a position aboard his new navy ship, the h.m. calliope. while preparing to enter service, percival overhears gossip of his illegitimate birth, introducing the idea that captain delmar may be his father. he confronts his mother about his parentage, which she at first harshly denies but later tearfully explains the truth of her affair. early in his service in the navy, percival is captured during a pirate raid along with others. the pirate crew is entirely black, and the captain explains that they are primarily escaped slaves from the americas. percival is taken in as a cabin boy, and later dyes his skin tan in the appearance of a mulatto to please the captain who doesn't approve of white skin. the pirates often seek to take over slave trading vessels, killing every white person on board. during the taking of one such vessel, percival is able is convince the captain to spare the lives of a wealthy dutch merchant and his young daughter, minnie. eventually the h.m. calliope takes the pirate ship, and percival--unrecognizable with his dyed skin--is taken as a prisoner, later to convince his fellow shipman of his true identity.after his reappearance aboard the ship, percival gains esteem among the crew and is welcomed back by the emotional captain delmar. his reputation continues to grow over the course of his service in conflicts with dutch and french vessels around the island of curacao. he also stands in for an ill captain delmar in a duel with a french officer, effectively saving the captain's life. at this point, the captain receives news that his older brother has died, making him the new lord de versely, and before returning to england he grants perceval command of his own schooner. after another intense but successful battle with a french war ship, percival is promoted to captain. during his service in the navy, percival still partakes in the merry pranks of his youth, and at one point teams up with a mulatto hotel owner in curaรงao to convince his fellow officers they've been poisoned. he also keeps correspondence with minnie, developing a romance with the beautiful heiress.near the end of the story, percival guides his crew through a terrible storm in which many of the crew are killed and the ship is heavily damaged. after being saved by another english vessel, he receives a letter informing him of lord de versely's sudden death from heart complications and learns that he has been left all of his personal property. percival is still disappointed that he can not take his father's name. he later journey's with his friend bob cross to hamburg to reunite with minnie, but is captured by french troops on the road and sentenced to execution for spying. during a skirmish between the french and the cossacks, percival and cross are able to escape and continue on the road. at the end of the novel, percival proposes to minnie, and stands to inherit a great fortune through her father. he also receives a letter from the de versely attorney letting him know he has been granted the arms and name of delmar.\n",
      "\n",
      "\n",
      "---------------------------------------------------------------\n",
      "SANITY CHECK FOR PREPROCESSING DEV DATASET\n",
      "Output:\n",
      "the elderly spinster aunt of the earl de verseley and captain delmar\n",
      "---------------------------------------------------------------\n",
      "SANITY CHECK FOR PREPROCESSING TEST DATASET\n",
      "<s>who is miss delmer? \\n  at madeline hall, an old mansion-house near southampton belonging to the wealthy de versely family, lives an elderly spinster miss delmar, the aunt of the earl de versely and captain delmar. miss delmar invites arabella mason, the daughter of a deceased, well-liked steward to stay with her as a lower-class guest in the house. captain delmar is known to visit his aunt at madeline hall frequently, accompanied by his valet ben keene, who is also a private marine. captain delmar eventually suggests that ben should propose to arabella, and the two marry in secret, to the frustration of miss delmar and arabella's mother. the captain is able to smooth over the situation with his aunt, even after it is discovered that arabella was six months pregnant at the time of the marriage. she later gives birth to a boy, who takes the captain's christian name and ben's surname--the titular percival keene.the family moves to chatham, after ben is ordered back with his detachment. arabella opens up a successful shop and circulating library below her house, enlisting the help of her mother and sister, amelia. percival becomes well known in town from his mischievous pranks on officers and other strangers, often encouraged by his aunt amelia. however, percival's mother and grandmother are less fond of his disregard for manners, and insist on sending him to school after an episode in which he bites his grandmother. percival reports to the school house of mr. o'gallagher, a poor irish scholar, who rules his class with a system of severe corporal punishment. mr. o'gallagher routinely bullies percival by stealing his lunch, leading percival to seek revenge by poisoning his sandwiches with calomel. on guy fawkes day the schoolteacher confiscates all the schoolboys' fireworks, for which percival retaliates by setting off the collected fireworks while the teacher sits above them, leading to the total destruction of the schoolhouse and near death of the schoolmaster.when percival is a young teenager, captain delmar reappears and offers him a position aboard his new navy ship, the h.m. calliope. while preparing to enter service, percival overhears gossip of his illegitimate birth, introducing the idea that captain delmar may be his father. he confronts his mother about his parentage, which she at first harshly denies but later tearfully explains the truth of her affair. early in his service in the navy, percival is captured during a pirate raid along with others. the pirate crew is entirely black, and the captain explains that they are primarily escaped slaves from the americas. percival is taken in as a cabin boy, and later dyes his skin tan in the appearance of a mulatto to please the captain who doesn't approve of white skin. the pirates often seek to take over slave trading vessels, killing every white person on board. during the taking of one such vessel, percival is able is convince the captain to spare the lives of a wealthy dutch merchant and his young daughter, minnie. eventually the h.m. calliope takes the pirate ship, and percival--unrecognizable with his dyed skin--is taken as a prisoner, later to convince his fellow shipman of his true identity.after his reappearance aboard the ship, percival gains esteem among the crew and is welcomed back by the emotional captain delmar. his reputation continues to grow over the course of his service in conflicts with dutch and french vessels around the island of curacao. he also stands in for an ill captain delmar in a duel with a french officer, effectively saving the captain's life. at this point, the captain receives news that his older brother has died, making him the new lord de versely, and before returning to england he grants perceval command of his own schooner. after another intense but successful battle with a french war ship, percival is promoted to captain. during his service in the navy, percival still partakes in the merry pranks of his youth, and at one point teams up with a mulatto hotel owner in curaรงao to convince his fellow officers they've been poisoned. he also keeps correspondence with minnie, developing a romance with the beautiful heiress.near the end of the story, percival guides his crew through a terrible storm in which many of the crew are killed and the ship is heavily damaged. after being saved by another english vessel, he receives a letter informing him of lord de versely's sudden death from heart complications and learns that he has been left all of his personal property. percival is still disappointed that he can not take his father's name. he later journey's with his friend bob cross to hamburg to reunite with minnie, but is captured by french troops on the road and sentenced to execution for spying. during a skirmish between the french and the cossacks, percival and cross are able to escape and continue on the road. at the end of the novel, percival proposes to minnie, and stands to inherit a great fortune through her father. he also receives a letter from the de versely attorney letting him know he has been granted the arms and name of delmar.\n",
      "\n",
      " Output:\n",
      "the elderly spinster aunt of the earl de verseley and captain delmar\n",
      "---------------------------------------------------------------\n"
     ]
    }
   ],
   "source": [
    "print('SANITY CHECK FOR PREPROCESSING TRAIN DATASET')\n",
    "print(llama_chat_preprocess_train['narrativeqa']['question'][0])\n",
    "print('---------------------------------------------------------------')\n",
    "\n",
    "print('SANITY CHECK FOR PREPROCESSING DEV DATASET')\n",
    "print(llama_chat_preprocess_train['narrativeqa']['answer'][0])\n",
    "print('---------------------------------------------------------------')\n",
    "\n",
    "print('SANITY CHECK FOR PREPROCESSING TEST DATASET')\n",
    "print(llama_chat_preprocess_train['narrativeqa']['text'][0])\n",
    "print('---------------------------------------------------------------')"
   ]
  },
  {
   "cell_type": "code",
   "execution_count": 8,
   "metadata": {},
   "outputs": [
    {
     "name": "stdout",
     "output_type": "stream",
     "text": [
      "SANITY CHECK FOR PREPROCESSING TRAIN DATASET\n",
      "<s>who is miss delmer? \\n  at madeline hall, an old mansion-house near southampton belonging to the wealthy de versely family, lives an elderly spinster miss delmar, the aunt of the earl de versely and captain delmar. miss delmar invites arabella mason, the daughter of a deceased, well-liked steward to stay with her as a lower-class guest in the house. captain delmar is known to visit his aunt at madeline hall frequently, accompanied by his valet ben keene, who is also a private marine. captain delmar eventually suggests that ben should propose to arabella, and the two marry in secret, to the frustration of miss delmar and arabella's mother. the captain is able to smooth over the situation with his aunt, even after it is discovered that arabella was six months pregnant at the time of the marriage. she later gives birth to a boy, who takes the captain's christian name and ben's surname--the titular percival keene.the family moves to chatham, after ben is ordered back with his detachment. arabella opens up a successful shop and circulating library below her house, enlisting the help of her mother and sister, amelia. percival becomes well known in town from his mischievous pranks on officers and other strangers, often encouraged by his aunt amelia. however, percival's mother and grandmother are less fond of his disregard for manners, and insist on sending him to school after an episode in which he bites his grandmother. percival reports to the school house of mr. o'gallagher, a poor irish scholar, who rules his class with a system of severe corporal punishment. mr. o'gallagher routinely bullies percival by stealing his lunch, leading percival to seek revenge by poisoning his sandwiches with calomel. on guy fawkes day the schoolteacher confiscates all the schoolboys' fireworks, for which percival retaliates by setting off the collected fireworks while the teacher sits above them, leading to the total destruction of the schoolhouse and near death of the schoolmaster.when percival is a young teenager, captain delmar reappears and offers him a position aboard his new navy ship, the h.m. calliope. while preparing to enter service, percival overhears gossip of his illegitimate birth, introducing the idea that captain delmar may be his father. he confronts his mother about his parentage, which she at first harshly denies but later tearfully explains the truth of her affair. early in his service in the navy, percival is captured during a pirate raid along with others. the pirate crew is entirely black, and the captain explains that they are primarily escaped slaves from the americas. percival is taken in as a cabin boy, and later dyes his skin tan in the appearance of a mulatto to please the captain who doesn't approve of white skin. the pirates often seek to take over slave trading vessels, killing every white person on board. during the taking of one such vessel, percival is able is convince the captain to spare the lives of a wealthy dutch merchant and his young daughter, minnie. eventually the h.m. calliope takes the pirate ship, and percival--unrecognizable with his dyed skin--is taken as a prisoner, later to convince his fellow shipman of his true identity.after his reappearance aboard the ship, percival gains esteem among the crew and is welcomed back by the emotional captain delmar. his reputation continues to grow over the course of his service in conflicts with dutch and french vessels around the island of curacao. he also stands in for an ill captain delmar in a duel with a french officer, effectively saving the captain's life. at this point, the captain receives news that his older brother has died, making him the new lord de versely, and before returning to england he grants perceval command of his own schooner. after another intense but successful battle with a french war ship, percival is promoted to captain. during his service in the navy, percival still partakes in the merry pranks of his youth, and at one point teams up with a mulatto hotel owner in curaรงao to convince his fellow officers they've been poisoned. he also keeps correspondence with minnie, developing a romance with the beautiful heiress.near the end of the story, percival guides his crew through a terrible storm in which many of the crew are killed and the ship is heavily damaged. after being saved by another english vessel, he receives a letter informing him of lord de versely's sudden death from heart complications and learns that he has been left all of his personal property. percival is still disappointed that he can not take his father's name. he later journey's with his friend bob cross to hamburg to reunite with minnie, but is captured by french troops on the road and sentenced to execution for spying. during a skirmish between the french and the cossacks, percival and cross are able to escape and continue on the road. at the end of the novel, percival proposes to minnie, and stands to inherit a great fortune through her father. he also receives a letter from the de versely attorney letting him know he has been granted the arms and name of delmar.\n",
      "\n",
      "\n",
      "---------------------------------------------------------------\n",
      "SANITY CHECK FOR PREPROCESSING DEV DATASET\n",
      "Output:\n",
      "the elderly spinster aunt of the earl de verseley and captain delmar\n",
      "---------------------------------------------------------------\n",
      "SANITY CHECK FOR PREPROCESSING TEST DATASET\n",
      "<s>who is miss delmer? \\n  at madeline hall, an old mansion-house near southampton belonging to the wealthy de versely family, lives an elderly spinster miss delmar, the aunt of the earl de versely and captain delmar. miss delmar invites arabella mason, the daughter of a deceased, well-liked steward to stay with her as a lower-class guest in the house. captain delmar is known to visit his aunt at madeline hall frequently, accompanied by his valet ben keene, who is also a private marine. captain delmar eventually suggests that ben should propose to arabella, and the two marry in secret, to the frustration of miss delmar and arabella's mother. the captain is able to smooth over the situation with his aunt, even after it is discovered that arabella was six months pregnant at the time of the marriage. she later gives birth to a boy, who takes the captain's christian name and ben's surname--the titular percival keene.the family moves to chatham, after ben is ordered back with his detachment. arabella opens up a successful shop and circulating library below her house, enlisting the help of her mother and sister, amelia. percival becomes well known in town from his mischievous pranks on officers and other strangers, often encouraged by his aunt amelia. however, percival's mother and grandmother are less fond of his disregard for manners, and insist on sending him to school after an episode in which he bites his grandmother. percival reports to the school house of mr. o'gallagher, a poor irish scholar, who rules his class with a system of severe corporal punishment. mr. o'gallagher routinely bullies percival by stealing his lunch, leading percival to seek revenge by poisoning his sandwiches with calomel. on guy fawkes day the schoolteacher confiscates all the schoolboys' fireworks, for which percival retaliates by setting off the collected fireworks while the teacher sits above them, leading to the total destruction of the schoolhouse and near death of the schoolmaster.when percival is a young teenager, captain delmar reappears and offers him a position aboard his new navy ship, the h.m. calliope. while preparing to enter service, percival overhears gossip of his illegitimate birth, introducing the idea that captain delmar may be his father. he confronts his mother about his parentage, which she at first harshly denies but later tearfully explains the truth of her affair. early in his service in the navy, percival is captured during a pirate raid along with others. the pirate crew is entirely black, and the captain explains that they are primarily escaped slaves from the americas. percival is taken in as a cabin boy, and later dyes his skin tan in the appearance of a mulatto to please the captain who doesn't approve of white skin. the pirates often seek to take over slave trading vessels, killing every white person on board. during the taking of one such vessel, percival is able is convince the captain to spare the lives of a wealthy dutch merchant and his young daughter, minnie. eventually the h.m. calliope takes the pirate ship, and percival--unrecognizable with his dyed skin--is taken as a prisoner, later to convince his fellow shipman of his true identity.after his reappearance aboard the ship, percival gains esteem among the crew and is welcomed back by the emotional captain delmar. his reputation continues to grow over the course of his service in conflicts with dutch and french vessels around the island of curacao. he also stands in for an ill captain delmar in a duel with a french officer, effectively saving the captain's life. at this point, the captain receives news that his older brother has died, making him the new lord de versely, and before returning to england he grants perceval command of his own schooner. after another intense but successful battle with a french war ship, percival is promoted to captain. during his service in the navy, percival still partakes in the merry pranks of his youth, and at one point teams up with a mulatto hotel owner in curaรงao to convince his fellow officers they've been poisoned. he also keeps correspondence with minnie, developing a romance with the beautiful heiress.near the end of the story, percival guides his crew through a terrible storm in which many of the crew are killed and the ship is heavily damaged. after being saved by another english vessel, he receives a letter informing him of lord de versely's sudden death from heart complications and learns that he has been left all of his personal property. percival is still disappointed that he can not take his father's name. he later journey's with his friend bob cross to hamburg to reunite with minnie, but is captured by french troops on the road and sentenced to execution for spying. during a skirmish between the french and the cossacks, percival and cross are able to escape and continue on the road. at the end of the novel, percival proposes to minnie, and stands to inherit a great fortune through her father. he also receives a letter from the de versely attorney letting him know he has been granted the arms and name of delmar.\n",
      "\n",
      " Output:\n",
      "the elderly spinster aunt of the earl de verseley and captain delmar\n",
      "---------------------------------------------------------------\n"
     ]
    }
   ],
   "source": [
    "print('SANITY CHECK FOR PREPROCESSING TRAIN DATASET')\n",
    "print(llama_chat_preprocess_train['narrativeqa']['question'][0])\n",
    "print('---------------------------------------------------------------')\n",
    "\n",
    "print('SANITY CHECK FOR PREPROCESSING DEV DATASET')\n",
    "print(llama_chat_preprocess_train['narrativeqa']['answer'][0])\n",
    "print('---------------------------------------------------------------')\n",
    "\n",
    "print('SANITY CHECK FOR PREPROCESSING TEST DATASET')\n",
    "print(llama_chat_preprocess_train['narrativeqa']['text'][0])\n",
    "print('---------------------------------------------------------------')"
   ]
  },
  {
   "cell_type": "code",
   "execution_count": 9,
   "metadata": {},
   "outputs": [
    {
     "name": "stdout",
     "output_type": "stream",
     "text": [
      "SANITY CHECK FOR PREPROCESSING TRAIN DATASET\n",
      "<s>[INST] who is miss delmer? \\n  at madeline hall, an old mansion-house near southampton belonging to the wealthy de versely family, lives an elderly spinster miss delmar, the aunt of the earl de versely and captain delmar. miss delmar invites arabella mason, the daughter of a deceased, well-liked steward to stay with her as a lower-class guest in the house. captain delmar is known to visit his aunt at madeline hall frequently, accompanied by his valet ben keene, who is also a private marine. captain delmar eventually suggests that ben should propose to arabella, and the two marry in secret, to the frustration of miss delmar and arabella's mother. the captain is able to smooth over the situation with his aunt, even after it is discovered that arabella was six months pregnant at the time of the marriage. she later gives birth to a boy, who takes the captain's christian name and ben's surname--the titular percival keene.the family moves to chatham, after ben is ordered back with his detachment. arabella opens up a successful shop and circulating library below her house, enlisting the help of her mother and sister, amelia. percival becomes well known in town from his mischievous pranks on officers and other strangers, often encouraged by his aunt amelia. however, percival's mother and grandmother are less fond of his disregard for manners, and insist on sending him to school after an episode in which he bites his grandmother. percival reports to the school house of mr. o'gallagher, a poor irish scholar, who rules his class with a system of severe corporal punishment. mr. o'gallagher routinely bullies percival by stealing his lunch, leading percival to seek revenge by poisoning his sandwiches with calomel. on guy fawkes day the schoolteacher confiscates all the schoolboys' fireworks, for which percival retaliates by setting off the collected fireworks while the teacher sits above them, leading to the total destruction of the schoolhouse and near death of the schoolmaster.when percival is a young teenager, captain delmar reappears and offers him a position aboard his new navy ship, the h.m. calliope. while preparing to enter service, percival overhears gossip of his illegitimate birth, introducing the idea that captain delmar may be his father. he confronts his mother about his parentage, which she at first harshly denies but later tearfully explains the truth of her affair. early in his service in the navy, percival is captured during a pirate raid along with others. the pirate crew is entirely black, and the captain explains that they are primarily escaped slaves from the americas. percival is taken in as a cabin boy, and later dyes his skin tan in the appearance of a mulatto to please the captain who doesn't approve of white skin. the pirates often seek to take over slave trading vessels, killing every white person on board. during the taking of one such vessel, percival is able is convince the captain to spare the lives of a wealthy dutch merchant and his young daughter, minnie. eventually the h.m. calliope takes the pirate ship, and percival--unrecognizable with his dyed skin--is taken as a prisoner, later to convince his fellow shipman of his true identity.after his reappearance aboard the ship, percival gains esteem among the crew and is welcomed back by the emotional captain delmar. his reputation continues to grow over the course of his service in conflicts with dutch and french vessels around the island of curacao. he also stands in for an ill captain delmar in a duel with a french officer, effectively saving the captain's life. at this point, the captain receives news that his older brother has died, making him the new lord de versely, and before returning to england he grants perceval command of his own schooner. after another intense but successful battle with a french war ship, percival is promoted to captain. during his service in the navy, percival still partakes in the merry pranks of his youth, and at one point teams up with a mulatto hotel owner in curaรงao to convince his fellow officers they've been poisoned. he also keeps correspondence with minnie, developing a romance with the beautiful heiress.near the end of the story, percival guides his crew through a terrible storm in which many of the crew are killed and the ship is heavily damaged. after being saved by another english vessel, he receives a letter informing him of lord de versely's sudden death from heart complications and learns that he has been left all of his personal property. percival is still disappointed that he can not take his father's name. he later journey's with his friend bob cross to hamburg to reunite with minnie, but is captured by french troops on the road and sentenced to execution for spying. during a skirmish between the french and the cossacks, percival and cross are able to escape and continue on the road. at the end of the novel, percival proposes to minnie, and stands to inherit a great fortune through her father. he also receives a letter from the de versely attorney letting him know he has been granted the arms and name of delmar. [/INST]\n",
      "\n",
      "\n",
      "---------------------------------------------------------------\n",
      "SANITY CHECK FOR PREPROCESSING DEV DATASET\n",
      "the elderly spinster aunt of the earl de verseley and captain delmar\n",
      "---------------------------------------------------------------\n",
      "SANITY CHECK FOR PREPROCESSING TEST DATASET\n",
      "<s>[INST] who is miss delmer? \\n  at madeline hall, an old mansion-house near southampton belonging to the wealthy de versely family, lives an elderly spinster miss delmar, the aunt of the earl de versely and captain delmar. miss delmar invites arabella mason, the daughter of a deceased, well-liked steward to stay with her as a lower-class guest in the house. captain delmar is known to visit his aunt at madeline hall frequently, accompanied by his valet ben keene, who is also a private marine. captain delmar eventually suggests that ben should propose to arabella, and the two marry in secret, to the frustration of miss delmar and arabella's mother. the captain is able to smooth over the situation with his aunt, even after it is discovered that arabella was six months pregnant at the time of the marriage. she later gives birth to a boy, who takes the captain's christian name and ben's surname--the titular percival keene.the family moves to chatham, after ben is ordered back with his detachment. arabella opens up a successful shop and circulating library below her house, enlisting the help of her mother and sister, amelia. percival becomes well known in town from his mischievous pranks on officers and other strangers, often encouraged by his aunt amelia. however, percival's mother and grandmother are less fond of his disregard for manners, and insist on sending him to school after an episode in which he bites his grandmother. percival reports to the school house of mr. o'gallagher, a poor irish scholar, who rules his class with a system of severe corporal punishment. mr. o'gallagher routinely bullies percival by stealing his lunch, leading percival to seek revenge by poisoning his sandwiches with calomel. on guy fawkes day the schoolteacher confiscates all the schoolboys' fireworks, for which percival retaliates by setting off the collected fireworks while the teacher sits above them, leading to the total destruction of the schoolhouse and near death of the schoolmaster.when percival is a young teenager, captain delmar reappears and offers him a position aboard his new navy ship, the h.m. calliope. while preparing to enter service, percival overhears gossip of his illegitimate birth, introducing the idea that captain delmar may be his father. he confronts his mother about his parentage, which she at first harshly denies but later tearfully explains the truth of her affair. early in his service in the navy, percival is captured during a pirate raid along with others. the pirate crew is entirely black, and the captain explains that they are primarily escaped slaves from the americas. percival is taken in as a cabin boy, and later dyes his skin tan in the appearance of a mulatto to please the captain who doesn't approve of white skin. the pirates often seek to take over slave trading vessels, killing every white person on board. during the taking of one such vessel, percival is able is convince the captain to spare the lives of a wealthy dutch merchant and his young daughter, minnie. eventually the h.m. calliope takes the pirate ship, and percival--unrecognizable with his dyed skin--is taken as a prisoner, later to convince his fellow shipman of his true identity.after his reappearance aboard the ship, percival gains esteem among the crew and is welcomed back by the emotional captain delmar. his reputation continues to grow over the course of his service in conflicts with dutch and french vessels around the island of curacao. he also stands in for an ill captain delmar in a duel with a french officer, effectively saving the captain's life. at this point, the captain receives news that his older brother has died, making him the new lord de versely, and before returning to england he grants perceval command of his own schooner. after another intense but successful battle with a french war ship, percival is promoted to captain. during his service in the navy, percival still partakes in the merry pranks of his youth, and at one point teams up with a mulatto hotel owner in curaรงao to convince his fellow officers they've been poisoned. he also keeps correspondence with minnie, developing a romance with the beautiful heiress.near the end of the story, percival guides his crew through a terrible storm in which many of the crew are killed and the ship is heavily damaged. after being saved by another english vessel, he receives a letter informing him of lord de versely's sudden death from heart complications and learns that he has been left all of his personal property. percival is still disappointed that he can not take his father's name. he later journey's with his friend bob cross to hamburg to reunite with minnie, but is captured by french troops on the road and sentenced to execution for spying. during a skirmish between the french and the cossacks, percival and cross are able to escape and continue on the road. at the end of the novel, percival proposes to minnie, and stands to inherit a great fortune through her father. he also receives a letter from the de versely attorney letting him know he has been granted the arms and name of delmar. [/INST]\n",
      "\n",
      " the elderly spinster aunt of the earl de verseley and captain delmar\n",
      "---------------------------------------------------------------\n"
     ]
    }
   ],
   "source": [
    "print('SANITY CHECK FOR PREPROCESSING TRAIN DATASET')\n",
    "print(mistral_chat_preprocess_train['narrativeqa']['question'][0])\n",
    "print('---------------------------------------------------------------')\n",
    "\n",
    "print('SANITY CHECK FOR PREPROCESSING DEV DATASET')\n",
    "print(mistral_chat_preprocess_train['narrativeqa']['answer'][0])\n",
    "print('---------------------------------------------------------------')\n",
    "\n",
    "print('SANITY CHECK FOR PREPROCESSING TEST DATASET')\n",
    "print(mistral_chat_preprocess_train['narrativeqa']['text'][0])\n",
    "print('---------------------------------------------------------------')"
   ]
  },
  {
   "cell_type": "code",
   "execution_count": 10,
   "metadata": {},
   "outputs": [
    {
     "data": {
      "application/vnd.jupyter.widget-view+json": {
       "model_id": "8454d38bc20c47f0853582c89310062b",
       "version_major": 2,
       "version_minor": 0
      },
      "text/plain": [
       "VBox(children=(HTML(value='<center> <img\\nsrc=https://huggingface.co/front/assets/huggingface_logo-noborder.sv…"
      ]
     },
     "metadata": {},
     "output_type": "display_data"
    }
   ],
   "source": [
    "from huggingface_hub import notebook_login\n",
    "notebook_login() # use your access token here! "
   ]
  },
  {
   "cell_type": "code",
   "execution_count": 11,
   "metadata": {},
   "outputs": [],
   "source": [
    "file_path = \n",
    "\n",
    "tokenized_gemma_train = load_dataset(gemma_chat_preprocess_train, \"google/gemma-7b\", pad_token=False, file_path=r\"C:\\Programming\\DL Research\\Efficient-LLM-Benchmark\\UnifiedQA Data Curation\\tokenized\\Gemma\", file_name='train',enable_load=True)\n",
    "tokenized_gemma_dev = load_dataset(gemma_chat_preprocess_dev, \"google/gemma-7b\", pad_token=False, file_path=r\"C:\\Programming\\DL Research\\Efficient-LLM-Benchmark\\UnifiedQA Data Curation\\tokenized\\Gemma\", file_name='dev',enable_load=True)\n",
    "tokenized_gemma_test = load_dataset(gemma_chat_preprocess_test, \"google/gemma-7b\", pad_token=False, file_path=r\"C:\\Programming\\DL Research\\Efficient-LLM-Benchmark\\UnifiedQA Data Curation\\tokenized\\Gemma\", file_name='test',enable_load=True)"
   ]
  },
  {
   "cell_type": "code",
   "execution_count": 13,
   "metadata": {},
   "outputs": [
    {
     "data": {
      "application/vnd.jupyter.widget-view+json": {
       "model_id": "ad2428c0c41d40b89f53f33f5a958cef",
       "version_major": 2,
       "version_minor": 0
      },
      "text/plain": [
       "tokenizer_config.json:   0%|          | 0.00/967 [00:00<?, ?B/s]"
      ]
     },
     "metadata": {},
     "output_type": "display_data"
    },
    {
     "name": "stderr",
     "output_type": "stream",
     "text": [
      "c:\\Users\\andre\\anaconda3\\envs\\EfficientLLM\\lib\\site-packages\\huggingface_hub\\file_download.py:149: UserWarning: `huggingface_hub` cache-system uses symlinks by default to efficiently store duplicated files but your machine does not support them in C:\\Users\\andre\\.cache\\huggingface\\hub\\models--mistralai--Mistral-7B-v0.1. Caching files will still work but in a degraded version that might require more space on your disk. This warning can be disabled by setting the `HF_HUB_DISABLE_SYMLINKS_WARNING` environment variable. For more details, see https://huggingface.co/docs/huggingface_hub/how-to-cache#limitations.\n",
      "To support symlinks on Windows, you either need to activate Developer Mode or to run Python as an administrator. In order to see activate developer mode, see this article: https://docs.microsoft.com/en-us/windows/apps/get-started/enable-your-device-for-development\n",
      "  warnings.warn(message)\n"
     ]
    },
    {
     "data": {
      "application/vnd.jupyter.widget-view+json": {
       "model_id": "80ef716a45c14ff1b0de6f72b42ad56b",
       "version_major": 2,
       "version_minor": 0
      },
      "text/plain": [
       "tokenizer.model:   0%|          | 0.00/493k [00:00<?, ?B/s]"
      ]
     },
     "metadata": {},
     "output_type": "display_data"
    },
    {
     "data": {
      "application/vnd.jupyter.widget-view+json": {
       "model_id": "fe77a1d1b6df495fb9db8edd884ef6f1",
       "version_major": 2,
       "version_minor": 0
      },
      "text/plain": [
       "tokenizer.json:   0%|          | 0.00/1.80M [00:00<?, ?B/s]"
      ]
     },
     "metadata": {},
     "output_type": "display_data"
    },
    {
     "data": {
      "application/vnd.jupyter.widget-view+json": {
       "model_id": "aa1449f975ac4428a323433ad5e1a589",
       "version_major": 2,
       "version_minor": 0
      },
      "text/plain": [
       "special_tokens_map.json:   0%|          | 0.00/72.0 [00:00<?, ?B/s]"
      ]
     },
     "metadata": {},
     "output_type": "display_data"
    }
   ],
   "source": [
    "# not yet tested, waiting for approval from meta\n",
    "tokenized_mistral_train = load_dataset(mistral_chat_preprocess_train, \"mistralai/Mistral-7B-v0.1\", pad_token=True, pad_side='right', file_path=r\"C:\\Programming\\DL Research\\Efficient-LLM-Benchmark\\UnifiedQA Data Curation\\tokenized\\Mistral\", file_name='train',enable_load=True)\n",
    "tokenized_mistral_dev = load_dataset(mistral_chat_preprocess_dev, \"mistralai/Mistral-7B-v0.1\", pad_token=True, pad_side='right', file_path=r\"C:\\Programming\\DL Research\\Efficient-LLM-Benchmark\\UnifiedQA Data Curation\\tokenized\\Mistral\", file_name='dev',enable_load=True)\n",
    "tokenized_mistral_test = load_dataset(mistral_chat_preprocess_test, \"mistralai/Mistral-7B-v0.1\", pad_token=True, pad_side='right', file_path=r\"C:\\Programming\\DL Research\\Efficient-LLM-Benchmark\\UnifiedQA Data Curation\\tokenized\\Mistral\", file_name='test',enable_load=True)"
   ]
  },
  {
   "cell_type": "code",
   "execution_count": 12,
   "metadata": {},
   "outputs": [
    {
     "ename": "OSError",
     "evalue": "You are trying to access a gated repo.\nMake sure to have access to it at https://huggingface.co/meta-llama/Llama-2-7b-hf.\n403 Client Error. (Request ID: Root=1-661f3e9a-63aa9d887bcef03f76e9b4ef;b36873c6-7295-4189-9996-2a3d159149a6)\n\nCannot access gated repo for url https://huggingface.co/meta-llama/Llama-2-7b-hf/resolve/main/config.json.\nYour request to access model meta-llama/Llama-2-7b-hf is awaiting a review from the repo authors.",
     "output_type": "error",
     "traceback": [
      "\u001b[1;31m---------------------------------------------------------------------------\u001b[0m",
      "\u001b[1;31mHTTPError\u001b[0m                                 Traceback (most recent call last)",
      "File \u001b[1;32mc:\\Users\\andre\\anaconda3\\envs\\EfficientLLM\\lib\\site-packages\\huggingface_hub\\utils\\_errors.py:286\u001b[0m, in \u001b[0;36mhf_raise_for_status\u001b[1;34m(response, endpoint_name)\u001b[0m\n\u001b[0;32m    285\u001b[0m \u001b[38;5;28;01mtry\u001b[39;00m:\n\u001b[1;32m--> 286\u001b[0m     \u001b[43mresponse\u001b[49m\u001b[38;5;241;43m.\u001b[39;49m\u001b[43mraise_for_status\u001b[49m\u001b[43m(\u001b[49m\u001b[43m)\u001b[49m\n\u001b[0;32m    287\u001b[0m \u001b[38;5;28;01mexcept\u001b[39;00m HTTPError \u001b[38;5;28;01mas\u001b[39;00m e:\n",
      "File \u001b[1;32mc:\\Users\\andre\\anaconda3\\envs\\EfficientLLM\\lib\\site-packages\\requests\\models.py:1021\u001b[0m, in \u001b[0;36mResponse.raise_for_status\u001b[1;34m(self)\u001b[0m\n\u001b[0;32m   1020\u001b[0m \u001b[38;5;28;01mif\u001b[39;00m http_error_msg:\n\u001b[1;32m-> 1021\u001b[0m     \u001b[38;5;28;01mraise\u001b[39;00m HTTPError(http_error_msg, response\u001b[38;5;241m=\u001b[39m\u001b[38;5;28mself\u001b[39m)\n",
      "\u001b[1;31mHTTPError\u001b[0m: 403 Client Error: Forbidden for url: https://huggingface.co/meta-llama/Llama-2-7b-hf/resolve/main/config.json",
      "\nThe above exception was the direct cause of the following exception:\n",
      "\u001b[1;31mGatedRepoError\u001b[0m                            Traceback (most recent call last)",
      "File \u001b[1;32mc:\\Users\\andre\\anaconda3\\envs\\EfficientLLM\\lib\\site-packages\\transformers\\utils\\hub.py:398\u001b[0m, in \u001b[0;36mcached_file\u001b[1;34m(path_or_repo_id, filename, cache_dir, force_download, resume_download, proxies, token, revision, local_files_only, subfolder, repo_type, user_agent, _raise_exceptions_for_gated_repo, _raise_exceptions_for_missing_entries, _raise_exceptions_for_connection_errors, _commit_hash, **deprecated_kwargs)\u001b[0m\n\u001b[0;32m    396\u001b[0m \u001b[38;5;28;01mtry\u001b[39;00m:\n\u001b[0;32m    397\u001b[0m     \u001b[38;5;66;03m# Load from URL or cache if already cached\u001b[39;00m\n\u001b[1;32m--> 398\u001b[0m     resolved_file \u001b[38;5;241m=\u001b[39m \u001b[43mhf_hub_download\u001b[49m\u001b[43m(\u001b[49m\n\u001b[0;32m    399\u001b[0m \u001b[43m        \u001b[49m\u001b[43mpath_or_repo_id\u001b[49m\u001b[43m,\u001b[49m\n\u001b[0;32m    400\u001b[0m \u001b[43m        \u001b[49m\u001b[43mfilename\u001b[49m\u001b[43m,\u001b[49m\n\u001b[0;32m    401\u001b[0m \u001b[43m        \u001b[49m\u001b[43msubfolder\u001b[49m\u001b[38;5;241;43m=\u001b[39;49m\u001b[38;5;28;43;01mNone\u001b[39;49;00m\u001b[43m \u001b[49m\u001b[38;5;28;43;01mif\u001b[39;49;00m\u001b[43m \u001b[49m\u001b[38;5;28;43mlen\u001b[39;49m\u001b[43m(\u001b[49m\u001b[43msubfolder\u001b[49m\u001b[43m)\u001b[49m\u001b[43m \u001b[49m\u001b[38;5;241;43m==\u001b[39;49m\u001b[43m \u001b[49m\u001b[38;5;241;43m0\u001b[39;49m\u001b[43m \u001b[49m\u001b[38;5;28;43;01melse\u001b[39;49;00m\u001b[43m \u001b[49m\u001b[43msubfolder\u001b[49m\u001b[43m,\u001b[49m\n\u001b[0;32m    402\u001b[0m \u001b[43m        \u001b[49m\u001b[43mrepo_type\u001b[49m\u001b[38;5;241;43m=\u001b[39;49m\u001b[43mrepo_type\u001b[49m\u001b[43m,\u001b[49m\n\u001b[0;32m    403\u001b[0m \u001b[43m        \u001b[49m\u001b[43mrevision\u001b[49m\u001b[38;5;241;43m=\u001b[39;49m\u001b[43mrevision\u001b[49m\u001b[43m,\u001b[49m\n\u001b[0;32m    404\u001b[0m \u001b[43m        \u001b[49m\u001b[43mcache_dir\u001b[49m\u001b[38;5;241;43m=\u001b[39;49m\u001b[43mcache_dir\u001b[49m\u001b[43m,\u001b[49m\n\u001b[0;32m    405\u001b[0m \u001b[43m        \u001b[49m\u001b[43muser_agent\u001b[49m\u001b[38;5;241;43m=\u001b[39;49m\u001b[43muser_agent\u001b[49m\u001b[43m,\u001b[49m\n\u001b[0;32m    406\u001b[0m \u001b[43m        \u001b[49m\u001b[43mforce_download\u001b[49m\u001b[38;5;241;43m=\u001b[39;49m\u001b[43mforce_download\u001b[49m\u001b[43m,\u001b[49m\n\u001b[0;32m    407\u001b[0m \u001b[43m        \u001b[49m\u001b[43mproxies\u001b[49m\u001b[38;5;241;43m=\u001b[39;49m\u001b[43mproxies\u001b[49m\u001b[43m,\u001b[49m\n\u001b[0;32m    408\u001b[0m \u001b[43m        \u001b[49m\u001b[43mresume_download\u001b[49m\u001b[38;5;241;43m=\u001b[39;49m\u001b[43mresume_download\u001b[49m\u001b[43m,\u001b[49m\n\u001b[0;32m    409\u001b[0m \u001b[43m        \u001b[49m\u001b[43mtoken\u001b[49m\u001b[38;5;241;43m=\u001b[39;49m\u001b[43mtoken\u001b[49m\u001b[43m,\u001b[49m\n\u001b[0;32m    410\u001b[0m \u001b[43m        \u001b[49m\u001b[43mlocal_files_only\u001b[49m\u001b[38;5;241;43m=\u001b[39;49m\u001b[43mlocal_files_only\u001b[49m\u001b[43m,\u001b[49m\n\u001b[0;32m    411\u001b[0m \u001b[43m    \u001b[49m\u001b[43m)\u001b[49m\n\u001b[0;32m    412\u001b[0m \u001b[38;5;28;01mexcept\u001b[39;00m GatedRepoError \u001b[38;5;28;01mas\u001b[39;00m e:\n",
      "File \u001b[1;32mc:\\Users\\andre\\anaconda3\\envs\\EfficientLLM\\lib\\site-packages\\huggingface_hub\\utils\\_validators.py:118\u001b[0m, in \u001b[0;36mvalidate_hf_hub_args.<locals>._inner_fn\u001b[1;34m(*args, **kwargs)\u001b[0m\n\u001b[0;32m    116\u001b[0m     kwargs \u001b[38;5;241m=\u001b[39m smoothly_deprecate_use_auth_token(fn_name\u001b[38;5;241m=\u001b[39mfn\u001b[38;5;241m.\u001b[39m\u001b[38;5;18m__name__\u001b[39m, has_token\u001b[38;5;241m=\u001b[39mhas_token, kwargs\u001b[38;5;241m=\u001b[39mkwargs)\n\u001b[1;32m--> 118\u001b[0m \u001b[38;5;28;01mreturn\u001b[39;00m fn(\u001b[38;5;241m*\u001b[39margs, \u001b[38;5;241m*\u001b[39m\u001b[38;5;241m*\u001b[39mkwargs)\n",
      "File \u001b[1;32mc:\\Users\\andre\\anaconda3\\envs\\EfficientLLM\\lib\\site-packages\\huggingface_hub\\file_download.py:1368\u001b[0m, in \u001b[0;36mhf_hub_download\u001b[1;34m(repo_id, filename, subfolder, repo_type, revision, library_name, library_version, cache_dir, local_dir, local_dir_use_symlinks, user_agent, force_download, force_filename, proxies, etag_timeout, resume_download, token, local_files_only, legacy_cache_layout, endpoint)\u001b[0m\n\u001b[0;32m   1366\u001b[0m \u001b[38;5;28;01melif\u001b[39;00m \u001b[38;5;28misinstance\u001b[39m(head_call_error, RepositoryNotFoundError) \u001b[38;5;129;01mor\u001b[39;00m \u001b[38;5;28misinstance\u001b[39m(head_call_error, GatedRepoError):\n\u001b[0;32m   1367\u001b[0m     \u001b[38;5;66;03m# Repo not found => let's raise the actual error\u001b[39;00m\n\u001b[1;32m-> 1368\u001b[0m     \u001b[38;5;28;01mraise\u001b[39;00m head_call_error\n\u001b[0;32m   1369\u001b[0m \u001b[38;5;28;01melse\u001b[39;00m:\n\u001b[0;32m   1370\u001b[0m     \u001b[38;5;66;03m# Otherwise: most likely a connection issue or Hub downtime => let's warn the user\u001b[39;00m\n",
      "File \u001b[1;32mc:\\Users\\andre\\anaconda3\\envs\\EfficientLLM\\lib\\site-packages\\huggingface_hub\\file_download.py:1238\u001b[0m, in \u001b[0;36mhf_hub_download\u001b[1;34m(repo_id, filename, subfolder, repo_type, revision, library_name, library_version, cache_dir, local_dir, local_dir_use_symlinks, user_agent, force_download, force_filename, proxies, etag_timeout, resume_download, token, local_files_only, legacy_cache_layout, endpoint)\u001b[0m\n\u001b[0;32m   1237\u001b[0m \u001b[38;5;28;01mtry\u001b[39;00m:\n\u001b[1;32m-> 1238\u001b[0m     metadata \u001b[38;5;241m=\u001b[39m \u001b[43mget_hf_file_metadata\u001b[49m\u001b[43m(\u001b[49m\n\u001b[0;32m   1239\u001b[0m \u001b[43m        \u001b[49m\u001b[43murl\u001b[49m\u001b[38;5;241;43m=\u001b[39;49m\u001b[43murl\u001b[49m\u001b[43m,\u001b[49m\n\u001b[0;32m   1240\u001b[0m \u001b[43m        \u001b[49m\u001b[43mtoken\u001b[49m\u001b[38;5;241;43m=\u001b[39;49m\u001b[43mtoken\u001b[49m\u001b[43m,\u001b[49m\n\u001b[0;32m   1241\u001b[0m \u001b[43m        \u001b[49m\u001b[43mproxies\u001b[49m\u001b[38;5;241;43m=\u001b[39;49m\u001b[43mproxies\u001b[49m\u001b[43m,\u001b[49m\n\u001b[0;32m   1242\u001b[0m \u001b[43m        \u001b[49m\u001b[43mtimeout\u001b[49m\u001b[38;5;241;43m=\u001b[39;49m\u001b[43metag_timeout\u001b[49m\u001b[43m,\u001b[49m\n\u001b[0;32m   1243\u001b[0m \u001b[43m        \u001b[49m\u001b[43mlibrary_name\u001b[49m\u001b[38;5;241;43m=\u001b[39;49m\u001b[43mlibrary_name\u001b[49m\u001b[43m,\u001b[49m\n\u001b[0;32m   1244\u001b[0m \u001b[43m        \u001b[49m\u001b[43mlibrary_version\u001b[49m\u001b[38;5;241;43m=\u001b[39;49m\u001b[43mlibrary_version\u001b[49m\u001b[43m,\u001b[49m\n\u001b[0;32m   1245\u001b[0m \u001b[43m        \u001b[49m\u001b[43muser_agent\u001b[49m\u001b[38;5;241;43m=\u001b[39;49m\u001b[43muser_agent\u001b[49m\u001b[43m,\u001b[49m\n\u001b[0;32m   1246\u001b[0m \u001b[43m    \u001b[49m\u001b[43m)\u001b[49m\n\u001b[0;32m   1247\u001b[0m \u001b[38;5;28;01mexcept\u001b[39;00m EntryNotFoundError \u001b[38;5;28;01mas\u001b[39;00m http_error:\n\u001b[0;32m   1248\u001b[0m     \u001b[38;5;66;03m# Cache the non-existence of the file and raise\u001b[39;00m\n",
      "File \u001b[1;32mc:\\Users\\andre\\anaconda3\\envs\\EfficientLLM\\lib\\site-packages\\huggingface_hub\\utils\\_validators.py:118\u001b[0m, in \u001b[0;36mvalidate_hf_hub_args.<locals>._inner_fn\u001b[1;34m(*args, **kwargs)\u001b[0m\n\u001b[0;32m    116\u001b[0m     kwargs \u001b[38;5;241m=\u001b[39m smoothly_deprecate_use_auth_token(fn_name\u001b[38;5;241m=\u001b[39mfn\u001b[38;5;241m.\u001b[39m\u001b[38;5;18m__name__\u001b[39m, has_token\u001b[38;5;241m=\u001b[39mhas_token, kwargs\u001b[38;5;241m=\u001b[39mkwargs)\n\u001b[1;32m--> 118\u001b[0m \u001b[38;5;28;01mreturn\u001b[39;00m fn(\u001b[38;5;241m*\u001b[39margs, \u001b[38;5;241m*\u001b[39m\u001b[38;5;241m*\u001b[39mkwargs)\n",
      "File \u001b[1;32mc:\\Users\\andre\\anaconda3\\envs\\EfficientLLM\\lib\\site-packages\\huggingface_hub\\file_download.py:1631\u001b[0m, in \u001b[0;36mget_hf_file_metadata\u001b[1;34m(url, token, proxies, timeout, library_name, library_version, user_agent)\u001b[0m\n\u001b[0;32m   1630\u001b[0m \u001b[38;5;66;03m# Retrieve metadata\u001b[39;00m\n\u001b[1;32m-> 1631\u001b[0m r \u001b[38;5;241m=\u001b[39m \u001b[43m_request_wrapper\u001b[49m\u001b[43m(\u001b[49m\n\u001b[0;32m   1632\u001b[0m \u001b[43m    \u001b[49m\u001b[43mmethod\u001b[49m\u001b[38;5;241;43m=\u001b[39;49m\u001b[38;5;124;43m\"\u001b[39;49m\u001b[38;5;124;43mHEAD\u001b[39;49m\u001b[38;5;124;43m\"\u001b[39;49m\u001b[43m,\u001b[49m\n\u001b[0;32m   1633\u001b[0m \u001b[43m    \u001b[49m\u001b[43murl\u001b[49m\u001b[38;5;241;43m=\u001b[39;49m\u001b[43murl\u001b[49m\u001b[43m,\u001b[49m\n\u001b[0;32m   1634\u001b[0m \u001b[43m    \u001b[49m\u001b[43mheaders\u001b[49m\u001b[38;5;241;43m=\u001b[39;49m\u001b[43mheaders\u001b[49m\u001b[43m,\u001b[49m\n\u001b[0;32m   1635\u001b[0m \u001b[43m    \u001b[49m\u001b[43mallow_redirects\u001b[49m\u001b[38;5;241;43m=\u001b[39;49m\u001b[38;5;28;43;01mFalse\u001b[39;49;00m\u001b[43m,\u001b[49m\n\u001b[0;32m   1636\u001b[0m \u001b[43m    \u001b[49m\u001b[43mfollow_relative_redirects\u001b[49m\u001b[38;5;241;43m=\u001b[39;49m\u001b[38;5;28;43;01mTrue\u001b[39;49;00m\u001b[43m,\u001b[49m\n\u001b[0;32m   1637\u001b[0m \u001b[43m    \u001b[49m\u001b[43mproxies\u001b[49m\u001b[38;5;241;43m=\u001b[39;49m\u001b[43mproxies\u001b[49m\u001b[43m,\u001b[49m\n\u001b[0;32m   1638\u001b[0m \u001b[43m    \u001b[49m\u001b[43mtimeout\u001b[49m\u001b[38;5;241;43m=\u001b[39;49m\u001b[43mtimeout\u001b[49m\u001b[43m,\u001b[49m\n\u001b[0;32m   1639\u001b[0m \u001b[43m\u001b[49m\u001b[43m)\u001b[49m\n\u001b[0;32m   1640\u001b[0m hf_raise_for_status(r)\n",
      "File \u001b[1;32mc:\\Users\\andre\\anaconda3\\envs\\EfficientLLM\\lib\\site-packages\\huggingface_hub\\file_download.py:385\u001b[0m, in \u001b[0;36m_request_wrapper\u001b[1;34m(method, url, follow_relative_redirects, **params)\u001b[0m\n\u001b[0;32m    384\u001b[0m \u001b[38;5;28;01mif\u001b[39;00m follow_relative_redirects:\n\u001b[1;32m--> 385\u001b[0m     response \u001b[38;5;241m=\u001b[39m _request_wrapper(\n\u001b[0;32m    386\u001b[0m         method\u001b[38;5;241m=\u001b[39mmethod,\n\u001b[0;32m    387\u001b[0m         url\u001b[38;5;241m=\u001b[39murl,\n\u001b[0;32m    388\u001b[0m         follow_relative_redirects\u001b[38;5;241m=\u001b[39m\u001b[38;5;28;01mFalse\u001b[39;00m,\n\u001b[0;32m    389\u001b[0m         \u001b[38;5;241m*\u001b[39m\u001b[38;5;241m*\u001b[39mparams,\n\u001b[0;32m    390\u001b[0m     )\n\u001b[0;32m    392\u001b[0m     \u001b[38;5;66;03m# If redirection, we redirect only relative paths.\u001b[39;00m\n\u001b[0;32m    393\u001b[0m     \u001b[38;5;66;03m# This is useful in case of a renamed repository.\u001b[39;00m\n",
      "File \u001b[1;32mc:\\Users\\andre\\anaconda3\\envs\\EfficientLLM\\lib\\site-packages\\huggingface_hub\\file_download.py:409\u001b[0m, in \u001b[0;36m_request_wrapper\u001b[1;34m(method, url, follow_relative_redirects, **params)\u001b[0m\n\u001b[0;32m    408\u001b[0m response \u001b[38;5;241m=\u001b[39m get_session()\u001b[38;5;241m.\u001b[39mrequest(method\u001b[38;5;241m=\u001b[39mmethod, url\u001b[38;5;241m=\u001b[39murl, \u001b[38;5;241m*\u001b[39m\u001b[38;5;241m*\u001b[39mparams)\n\u001b[1;32m--> 409\u001b[0m \u001b[43mhf_raise_for_status\u001b[49m\u001b[43m(\u001b[49m\u001b[43mresponse\u001b[49m\u001b[43m)\u001b[49m\n\u001b[0;32m    410\u001b[0m \u001b[38;5;28;01mreturn\u001b[39;00m response\n",
      "File \u001b[1;32mc:\\Users\\andre\\anaconda3\\envs\\EfficientLLM\\lib\\site-packages\\huggingface_hub\\utils\\_errors.py:302\u001b[0m, in \u001b[0;36mhf_raise_for_status\u001b[1;34m(response, endpoint_name)\u001b[0m\n\u001b[0;32m    299\u001b[0m     message \u001b[38;5;241m=\u001b[39m (\n\u001b[0;32m    300\u001b[0m         \u001b[38;5;124mf\u001b[39m\u001b[38;5;124m\"\u001b[39m\u001b[38;5;132;01m{\u001b[39;00mresponse\u001b[38;5;241m.\u001b[39mstatus_code\u001b[38;5;132;01m}\u001b[39;00m\u001b[38;5;124m Client Error.\u001b[39m\u001b[38;5;124m\"\u001b[39m \u001b[38;5;241m+\u001b[39m \u001b[38;5;124m\"\u001b[39m\u001b[38;5;130;01m\\n\u001b[39;00m\u001b[38;5;130;01m\\n\u001b[39;00m\u001b[38;5;124m\"\u001b[39m \u001b[38;5;241m+\u001b[39m \u001b[38;5;124mf\u001b[39m\u001b[38;5;124m\"\u001b[39m\u001b[38;5;124mCannot access gated repo for url \u001b[39m\u001b[38;5;132;01m{\u001b[39;00mresponse\u001b[38;5;241m.\u001b[39murl\u001b[38;5;132;01m}\u001b[39;00m\u001b[38;5;124m.\u001b[39m\u001b[38;5;124m\"\u001b[39m\n\u001b[0;32m    301\u001b[0m     )\n\u001b[1;32m--> 302\u001b[0m     \u001b[38;5;28;01mraise\u001b[39;00m GatedRepoError(message, response) \u001b[38;5;28;01mfrom\u001b[39;00m \u001b[38;5;21;01me\u001b[39;00m\n\u001b[0;32m    304\u001b[0m \u001b[38;5;28;01melif\u001b[39;00m error_code \u001b[38;5;241m==\u001b[39m \u001b[38;5;124m\"\u001b[39m\u001b[38;5;124mRepoNotFound\u001b[39m\u001b[38;5;124m\"\u001b[39m \u001b[38;5;129;01mor\u001b[39;00m (\n\u001b[0;32m    305\u001b[0m     response\u001b[38;5;241m.\u001b[39mstatus_code \u001b[38;5;241m==\u001b[39m \u001b[38;5;241m401\u001b[39m\n\u001b[0;32m    306\u001b[0m     \u001b[38;5;129;01mand\u001b[39;00m response\u001b[38;5;241m.\u001b[39mrequest \u001b[38;5;129;01mis\u001b[39;00m \u001b[38;5;129;01mnot\u001b[39;00m \u001b[38;5;28;01mNone\u001b[39;00m\n\u001b[1;32m   (...)\u001b[0m\n\u001b[0;32m    313\u001b[0m     \u001b[38;5;66;03m# => for now, we process them as `RepoNotFound` anyway.\u001b[39;00m\n\u001b[0;32m    314\u001b[0m     \u001b[38;5;66;03m# See https://gist.github.com/Wauplin/46c27ad266b15998ce56a6603796f0b9\u001b[39;00m\n",
      "\u001b[1;31mGatedRepoError\u001b[0m: 403 Client Error. (Request ID: Root=1-661f3e9a-63aa9d887bcef03f76e9b4ef;b36873c6-7295-4189-9996-2a3d159149a6)\n\nCannot access gated repo for url https://huggingface.co/meta-llama/Llama-2-7b-hf/resolve/main/config.json.\nYour request to access model meta-llama/Llama-2-7b-hf is awaiting a review from the repo authors.",
      "\nThe above exception was the direct cause of the following exception:\n",
      "\u001b[1;31mOSError\u001b[0m                                   Traceback (most recent call last)",
      "Cell \u001b[1;32mIn[12], line 1\u001b[0m\n\u001b[1;32m----> 1\u001b[0m tokenized_llama_train \u001b[38;5;241m=\u001b[39m \u001b[43mload_dataset\u001b[49m\u001b[43m(\u001b[49m\u001b[43mgemma_chat_preprocess_train\u001b[49m\u001b[43m,\u001b[49m\u001b[43m \u001b[49m\u001b[38;5;124;43m\"\u001b[39;49m\u001b[38;5;124;43mmeta-llama/Llama-2-7b-hf\u001b[39;49m\u001b[38;5;124;43m\"\u001b[39;49m\u001b[43m,\u001b[49m\u001b[43m \u001b[49m\u001b[43mpad_token\u001b[49m\u001b[38;5;241;43m=\u001b[39;49m\u001b[38;5;28;43;01mTrue\u001b[39;49;00m\u001b[43m,\u001b[49m\u001b[43m \u001b[49m\u001b[43mpad_side\u001b[49m\u001b[38;5;241;43m=\u001b[39;49m\u001b[38;5;124;43m'\u001b[39;49m\u001b[38;5;124;43mright\u001b[39;49m\u001b[38;5;124;43m'\u001b[39;49m\u001b[43m,\u001b[49m\u001b[43m \u001b[49m\u001b[43mfile_path\u001b[49m\u001b[38;5;241;43m=\u001b[39;49m\u001b[38;5;124;43mr\u001b[39;49m\u001b[38;5;124;43m\"\u001b[39;49m\u001b[38;5;124;43mC:\u001b[39;49m\u001b[38;5;124;43m\\\u001b[39;49m\u001b[38;5;124;43mProgramming\u001b[39;49m\u001b[38;5;124;43m\\\u001b[39;49m\u001b[38;5;124;43mDL Research\u001b[39;49m\u001b[38;5;124;43m\\\u001b[39;49m\u001b[38;5;124;43mEfficient-LLM-Benchmark\u001b[39;49m\u001b[38;5;124;43m\\\u001b[39;49m\u001b[38;5;124;43mUnifiedQA Data Curation\u001b[39;49m\u001b[38;5;124;43m\\\u001b[39;49m\u001b[38;5;124;43mtokenized\u001b[39;49m\u001b[38;5;124;43m\\\u001b[39;49m\u001b[38;5;124;43mLlama\u001b[39;49m\u001b[38;5;124;43m\"\u001b[39;49m\u001b[43m,\u001b[49m\u001b[43m \u001b[49m\u001b[43mfile_name\u001b[49m\u001b[38;5;241;43m=\u001b[39;49m\u001b[38;5;124;43m'\u001b[39;49m\u001b[38;5;124;43mtrain\u001b[39;49m\u001b[38;5;124;43m'\u001b[39;49m\u001b[43m,\u001b[49m\u001b[43menable_load\u001b[49m\u001b[38;5;241;43m=\u001b[39;49m\u001b[38;5;28;43;01mTrue\u001b[39;49;00m\u001b[43m)\u001b[49m\n\u001b[0;32m      2\u001b[0m tokenized_llama_dev \u001b[38;5;241m=\u001b[39m load_dataset(gemma_chat_preprocess_dev, \u001b[38;5;124m\"\u001b[39m\u001b[38;5;124mmeta-llama/Llama-2-7b-hf\u001b[39m\u001b[38;5;124m\"\u001b[39m, pad_token\u001b[38;5;241m=\u001b[39m\u001b[38;5;28;01mTrue\u001b[39;00m, pad_side\u001b[38;5;241m=\u001b[39m\u001b[38;5;124m'\u001b[39m\u001b[38;5;124mright\u001b[39m\u001b[38;5;124m'\u001b[39m, file_path\u001b[38;5;241m=\u001b[39m\u001b[38;5;124mr\u001b[39m\u001b[38;5;124m\"\u001b[39m\u001b[38;5;124mC:\u001b[39m\u001b[38;5;124m\\\u001b[39m\u001b[38;5;124mProgramming\u001b[39m\u001b[38;5;124m\\\u001b[39m\u001b[38;5;124mDL Research\u001b[39m\u001b[38;5;124m\\\u001b[39m\u001b[38;5;124mEfficient-LLM-Benchmark\u001b[39m\u001b[38;5;124m\\\u001b[39m\u001b[38;5;124mUnifiedQA Data Curation\u001b[39m\u001b[38;5;124m\\\u001b[39m\u001b[38;5;124mtokenized\u001b[39m\u001b[38;5;124m\\\u001b[39m\u001b[38;5;124mLlama\u001b[39m\u001b[38;5;124m\"\u001b[39m, file_name\u001b[38;5;241m=\u001b[39m\u001b[38;5;124m'\u001b[39m\u001b[38;5;124mdev\u001b[39m\u001b[38;5;124m'\u001b[39m,enable_load\u001b[38;5;241m=\u001b[39m\u001b[38;5;28;01mTrue\u001b[39;00m)\n\u001b[0;32m      3\u001b[0m tokenized_llama_test \u001b[38;5;241m=\u001b[39m load_dataset(gemma_chat_preprocess_test, \u001b[38;5;124m\"\u001b[39m\u001b[38;5;124mmeta-llama/Llama-2-7b-hf\u001b[39m\u001b[38;5;124m\"\u001b[39m, pad_token\u001b[38;5;241m=\u001b[39m\u001b[38;5;28;01mTrue\u001b[39;00m, pad_side\u001b[38;5;241m=\u001b[39m\u001b[38;5;124m'\u001b[39m\u001b[38;5;124mright\u001b[39m\u001b[38;5;124m'\u001b[39m, file_path\u001b[38;5;241m=\u001b[39m\u001b[38;5;124mr\u001b[39m\u001b[38;5;124m\"\u001b[39m\u001b[38;5;124mC:\u001b[39m\u001b[38;5;124m\\\u001b[39m\u001b[38;5;124mProgramming\u001b[39m\u001b[38;5;124m\\\u001b[39m\u001b[38;5;124mDL Research\u001b[39m\u001b[38;5;124m\\\u001b[39m\u001b[38;5;124mEfficient-LLM-Benchmark\u001b[39m\u001b[38;5;124m\\\u001b[39m\u001b[38;5;124mUnifiedQA Data Curation\u001b[39m\u001b[38;5;124m\\\u001b[39m\u001b[38;5;124mtokenized\u001b[39m\u001b[38;5;124m\\\u001b[39m\u001b[38;5;124mLlama\u001b[39m\u001b[38;5;124m\"\u001b[39m, file_name\u001b[38;5;241m=\u001b[39m\u001b[38;5;124m'\u001b[39m\u001b[38;5;124mtest\u001b[39m\u001b[38;5;124m'\u001b[39m,enable_load\u001b[38;5;241m=\u001b[39m\u001b[38;5;28;01mTrue\u001b[39;00m)\n",
      "File \u001b[1;32mc:\\Programming\\DL Research\\Efficient-LLM-Benchmark\\UnifiedQA Data Curation\\preprocess.py:105\u001b[0m, in \u001b[0;36mload_dataset\u001b[1;34m(preprocessed_unified_dataset, model_name, pad_token, pad_side, enable_load, file_path, file_name)\u001b[0m\n\u001b[0;32m    101\u001b[0m \u001b[38;5;28;01mdef\u001b[39;00m \u001b[38;5;21mload_dataset\u001b[39m(preprocessed_unified_dataset: \u001b[38;5;28mdict\u001b[39m, model_name: \u001b[38;5;28mstr\u001b[39m, pad_token: \u001b[38;5;28mbool\u001b[39m, pad_side:\u001b[38;5;28mstr\u001b[39m\u001b[38;5;241m=\u001b[39m\u001b[38;5;124m'\u001b[39m\u001b[38;5;124mright\u001b[39m\u001b[38;5;124m'\u001b[39m, enable_load:\u001b[38;5;28mbool\u001b[39m\u001b[38;5;241m=\u001b[39m\u001b[38;5;28;01mTrue\u001b[39;00m, \n\u001b[0;32m    102\u001b[0m                  file_path:\u001b[38;5;28mstr\u001b[39m\u001b[38;5;241m=\u001b[39m\u001b[38;5;28;01mNone\u001b[39;00m, file_name:\u001b[38;5;28mstr\u001b[39m\u001b[38;5;241m=\u001b[39m\u001b[38;5;28;01mNone\u001b[39;00m) \u001b[38;5;241m-\u001b[39m\u001b[38;5;241m>\u001b[39m \u001b[38;5;28mdict\u001b[39m:\n\u001b[0;32m    103\u001b[0m     \u001b[38;5;28;01massert\u001b[39;00m \u001b[38;5;129;01mnot\u001b[39;00m enable_load \u001b[38;5;129;01mor\u001b[39;00m file_path \u001b[38;5;129;01mis\u001b[39;00m \u001b[38;5;129;01mnot\u001b[39;00m \u001b[38;5;28;01mNone\u001b[39;00m \u001b[38;5;129;01mor\u001b[39;00m file_name \u001b[38;5;129;01mis\u001b[39;00m \u001b[38;5;129;01mnot\u001b[39;00m \u001b[38;5;28;01mNone\u001b[39;00m, \u001b[38;5;124m\"\u001b[39m\u001b[38;5;124mfile_path cannot be None if enable_load is True\u001b[39m\u001b[38;5;124m\"\u001b[39m\n\u001b[1;32m--> 105\u001b[0m     tokenizer \u001b[38;5;241m=\u001b[39m \u001b[43mAutoTokenizer\u001b[49m\u001b[38;5;241;43m.\u001b[39;49m\u001b[43mfrom_pretrained\u001b[49m\u001b[43m(\u001b[49m\u001b[43mmodel_name\u001b[49m\u001b[43m,\u001b[49m\u001b[43m \u001b[49m\u001b[43mtrust_remote_code\u001b[49m\u001b[38;5;241;43m=\u001b[39;49m\u001b[38;5;28;43;01mTrue\u001b[39;49;00m\u001b[43m)\u001b[49m\n\u001b[0;32m    107\u001b[0m     \u001b[38;5;28;01mif\u001b[39;00m pad_token:\n\u001b[0;32m    108\u001b[0m         tokenizer\u001b[38;5;241m.\u001b[39mpad_token \u001b[38;5;241m=\u001b[39m tokenizer\u001b[38;5;241m.\u001b[39meos_token\n",
      "File \u001b[1;32mc:\\Users\\andre\\anaconda3\\envs\\EfficientLLM\\lib\\site-packages\\transformers\\models\\auto\\tokenization_auto.py:794\u001b[0m, in \u001b[0;36mAutoTokenizer.from_pretrained\u001b[1;34m(cls, pretrained_model_name_or_path, *inputs, **kwargs)\u001b[0m\n\u001b[0;32m    792\u001b[0m \u001b[38;5;28;01mif\u001b[39;00m config_tokenizer_class \u001b[38;5;129;01mis\u001b[39;00m \u001b[38;5;28;01mNone\u001b[39;00m:\n\u001b[0;32m    793\u001b[0m     \u001b[38;5;28;01mif\u001b[39;00m \u001b[38;5;129;01mnot\u001b[39;00m \u001b[38;5;28misinstance\u001b[39m(config, PretrainedConfig):\n\u001b[1;32m--> 794\u001b[0m         config \u001b[38;5;241m=\u001b[39m AutoConfig\u001b[38;5;241m.\u001b[39mfrom_pretrained(\n\u001b[0;32m    795\u001b[0m             pretrained_model_name_or_path, trust_remote_code\u001b[38;5;241m=\u001b[39mtrust_remote_code, \u001b[38;5;241m*\u001b[39m\u001b[38;5;241m*\u001b[39mkwargs\n\u001b[0;32m    796\u001b[0m         )\n\u001b[0;32m    797\u001b[0m     config_tokenizer_class \u001b[38;5;241m=\u001b[39m config\u001b[38;5;241m.\u001b[39mtokenizer_class\n\u001b[0;32m    798\u001b[0m     \u001b[38;5;28;01mif\u001b[39;00m \u001b[38;5;28mhasattr\u001b[39m(config, \u001b[38;5;124m\"\u001b[39m\u001b[38;5;124mauto_map\u001b[39m\u001b[38;5;124m\"\u001b[39m) \u001b[38;5;129;01mand\u001b[39;00m \u001b[38;5;124m\"\u001b[39m\u001b[38;5;124mAutoTokenizer\u001b[39m\u001b[38;5;124m\"\u001b[39m \u001b[38;5;129;01min\u001b[39;00m config\u001b[38;5;241m.\u001b[39mauto_map:\n",
      "File \u001b[1;32mc:\\Users\\andre\\anaconda3\\envs\\EfficientLLM\\lib\\site-packages\\transformers\\models\\auto\\configuration_auto.py:1138\u001b[0m, in \u001b[0;36mAutoConfig.from_pretrained\u001b[1;34m(cls, pretrained_model_name_or_path, **kwargs)\u001b[0m\n\u001b[0;32m   1135\u001b[0m trust_remote_code \u001b[38;5;241m=\u001b[39m kwargs\u001b[38;5;241m.\u001b[39mpop(\u001b[38;5;124m\"\u001b[39m\u001b[38;5;124mtrust_remote_code\u001b[39m\u001b[38;5;124m\"\u001b[39m, \u001b[38;5;28;01mNone\u001b[39;00m)\n\u001b[0;32m   1136\u001b[0m code_revision \u001b[38;5;241m=\u001b[39m kwargs\u001b[38;5;241m.\u001b[39mpop(\u001b[38;5;124m\"\u001b[39m\u001b[38;5;124mcode_revision\u001b[39m\u001b[38;5;124m\"\u001b[39m, \u001b[38;5;28;01mNone\u001b[39;00m)\n\u001b[1;32m-> 1138\u001b[0m config_dict, unused_kwargs \u001b[38;5;241m=\u001b[39m PretrainedConfig\u001b[38;5;241m.\u001b[39mget_config_dict(pretrained_model_name_or_path, \u001b[38;5;241m*\u001b[39m\u001b[38;5;241m*\u001b[39mkwargs)\n\u001b[0;32m   1139\u001b[0m has_remote_code \u001b[38;5;241m=\u001b[39m \u001b[38;5;124m\"\u001b[39m\u001b[38;5;124mauto_map\u001b[39m\u001b[38;5;124m\"\u001b[39m \u001b[38;5;129;01min\u001b[39;00m config_dict \u001b[38;5;129;01mand\u001b[39;00m \u001b[38;5;124m\"\u001b[39m\u001b[38;5;124mAutoConfig\u001b[39m\u001b[38;5;124m\"\u001b[39m \u001b[38;5;129;01min\u001b[39;00m config_dict[\u001b[38;5;124m\"\u001b[39m\u001b[38;5;124mauto_map\u001b[39m\u001b[38;5;124m\"\u001b[39m]\n\u001b[0;32m   1140\u001b[0m has_local_code \u001b[38;5;241m=\u001b[39m \u001b[38;5;124m\"\u001b[39m\u001b[38;5;124mmodel_type\u001b[39m\u001b[38;5;124m\"\u001b[39m \u001b[38;5;129;01min\u001b[39;00m config_dict \u001b[38;5;129;01mand\u001b[39;00m config_dict[\u001b[38;5;124m\"\u001b[39m\u001b[38;5;124mmodel_type\u001b[39m\u001b[38;5;124m\"\u001b[39m] \u001b[38;5;129;01min\u001b[39;00m CONFIG_MAPPING\n",
      "File \u001b[1;32mc:\\Users\\andre\\anaconda3\\envs\\EfficientLLM\\lib\\site-packages\\transformers\\configuration_utils.py:631\u001b[0m, in \u001b[0;36mPretrainedConfig.get_config_dict\u001b[1;34m(cls, pretrained_model_name_or_path, **kwargs)\u001b[0m\n\u001b[0;32m    629\u001b[0m original_kwargs \u001b[38;5;241m=\u001b[39m copy\u001b[38;5;241m.\u001b[39mdeepcopy(kwargs)\n\u001b[0;32m    630\u001b[0m \u001b[38;5;66;03m# Get config dict associated with the base config file\u001b[39;00m\n\u001b[1;32m--> 631\u001b[0m config_dict, kwargs \u001b[38;5;241m=\u001b[39m \u001b[38;5;28mcls\u001b[39m\u001b[38;5;241m.\u001b[39m_get_config_dict(pretrained_model_name_or_path, \u001b[38;5;241m*\u001b[39m\u001b[38;5;241m*\u001b[39mkwargs)\n\u001b[0;32m    632\u001b[0m \u001b[38;5;28;01mif\u001b[39;00m \u001b[38;5;124m\"\u001b[39m\u001b[38;5;124m_commit_hash\u001b[39m\u001b[38;5;124m\"\u001b[39m \u001b[38;5;129;01min\u001b[39;00m config_dict:\n\u001b[0;32m    633\u001b[0m     original_kwargs[\u001b[38;5;124m\"\u001b[39m\u001b[38;5;124m_commit_hash\u001b[39m\u001b[38;5;124m\"\u001b[39m] \u001b[38;5;241m=\u001b[39m config_dict[\u001b[38;5;124m\"\u001b[39m\u001b[38;5;124m_commit_hash\u001b[39m\u001b[38;5;124m\"\u001b[39m]\n",
      "File \u001b[1;32mc:\\Users\\andre\\anaconda3\\envs\\EfficientLLM\\lib\\site-packages\\transformers\\configuration_utils.py:686\u001b[0m, in \u001b[0;36mPretrainedConfig._get_config_dict\u001b[1;34m(cls, pretrained_model_name_or_path, **kwargs)\u001b[0m\n\u001b[0;32m    682\u001b[0m configuration_file \u001b[38;5;241m=\u001b[39m kwargs\u001b[38;5;241m.\u001b[39mpop(\u001b[38;5;124m\"\u001b[39m\u001b[38;5;124m_configuration_file\u001b[39m\u001b[38;5;124m\"\u001b[39m, CONFIG_NAME)\n\u001b[0;32m    684\u001b[0m \u001b[38;5;28;01mtry\u001b[39;00m:\n\u001b[0;32m    685\u001b[0m     \u001b[38;5;66;03m# Load from local folder or from cache or download from model Hub and cache\u001b[39;00m\n\u001b[1;32m--> 686\u001b[0m     resolved_config_file \u001b[38;5;241m=\u001b[39m \u001b[43mcached_file\u001b[49m\u001b[43m(\u001b[49m\n\u001b[0;32m    687\u001b[0m \u001b[43m        \u001b[49m\u001b[43mpretrained_model_name_or_path\u001b[49m\u001b[43m,\u001b[49m\n\u001b[0;32m    688\u001b[0m \u001b[43m        \u001b[49m\u001b[43mconfiguration_file\u001b[49m\u001b[43m,\u001b[49m\n\u001b[0;32m    689\u001b[0m \u001b[43m        \u001b[49m\u001b[43mcache_dir\u001b[49m\u001b[38;5;241;43m=\u001b[39;49m\u001b[43mcache_dir\u001b[49m\u001b[43m,\u001b[49m\n\u001b[0;32m    690\u001b[0m \u001b[43m        \u001b[49m\u001b[43mforce_download\u001b[49m\u001b[38;5;241;43m=\u001b[39;49m\u001b[43mforce_download\u001b[49m\u001b[43m,\u001b[49m\n\u001b[0;32m    691\u001b[0m \u001b[43m        \u001b[49m\u001b[43mproxies\u001b[49m\u001b[38;5;241;43m=\u001b[39;49m\u001b[43mproxies\u001b[49m\u001b[43m,\u001b[49m\n\u001b[0;32m    692\u001b[0m \u001b[43m        \u001b[49m\u001b[43mresume_download\u001b[49m\u001b[38;5;241;43m=\u001b[39;49m\u001b[43mresume_download\u001b[49m\u001b[43m,\u001b[49m\n\u001b[0;32m    693\u001b[0m \u001b[43m        \u001b[49m\u001b[43mlocal_files_only\u001b[49m\u001b[38;5;241;43m=\u001b[39;49m\u001b[43mlocal_files_only\u001b[49m\u001b[43m,\u001b[49m\n\u001b[0;32m    694\u001b[0m \u001b[43m        \u001b[49m\u001b[43mtoken\u001b[49m\u001b[38;5;241;43m=\u001b[39;49m\u001b[43mtoken\u001b[49m\u001b[43m,\u001b[49m\n\u001b[0;32m    695\u001b[0m \u001b[43m        \u001b[49m\u001b[43muser_agent\u001b[49m\u001b[38;5;241;43m=\u001b[39;49m\u001b[43muser_agent\u001b[49m\u001b[43m,\u001b[49m\n\u001b[0;32m    696\u001b[0m \u001b[43m        \u001b[49m\u001b[43mrevision\u001b[49m\u001b[38;5;241;43m=\u001b[39;49m\u001b[43mrevision\u001b[49m\u001b[43m,\u001b[49m\n\u001b[0;32m    697\u001b[0m \u001b[43m        \u001b[49m\u001b[43msubfolder\u001b[49m\u001b[38;5;241;43m=\u001b[39;49m\u001b[43msubfolder\u001b[49m\u001b[43m,\u001b[49m\n\u001b[0;32m    698\u001b[0m \u001b[43m        \u001b[49m\u001b[43m_commit_hash\u001b[49m\u001b[38;5;241;43m=\u001b[39;49m\u001b[43mcommit_hash\u001b[49m\u001b[43m,\u001b[49m\n\u001b[0;32m    699\u001b[0m \u001b[43m    \u001b[49m\u001b[43m)\u001b[49m\n\u001b[0;32m    700\u001b[0m     commit_hash \u001b[38;5;241m=\u001b[39m extract_commit_hash(resolved_config_file, commit_hash)\n\u001b[0;32m    701\u001b[0m \u001b[38;5;28;01mexcept\u001b[39;00m \u001b[38;5;167;01mEnvironmentError\u001b[39;00m:\n\u001b[0;32m    702\u001b[0m     \u001b[38;5;66;03m# Raise any environment error raise by `cached_file`. It will have a helpful error message adapted to\u001b[39;00m\n\u001b[0;32m    703\u001b[0m     \u001b[38;5;66;03m# the original exception.\u001b[39;00m\n",
      "File \u001b[1;32mc:\\Users\\andre\\anaconda3\\envs\\EfficientLLM\\lib\\site-packages\\transformers\\utils\\hub.py:416\u001b[0m, in \u001b[0;36mcached_file\u001b[1;34m(path_or_repo_id, filename, cache_dir, force_download, resume_download, proxies, token, revision, local_files_only, subfolder, repo_type, user_agent, _raise_exceptions_for_gated_repo, _raise_exceptions_for_missing_entries, _raise_exceptions_for_connection_errors, _commit_hash, **deprecated_kwargs)\u001b[0m\n\u001b[0;32m    414\u001b[0m     \u001b[38;5;28;01mif\u001b[39;00m resolved_file \u001b[38;5;129;01mis\u001b[39;00m \u001b[38;5;129;01mnot\u001b[39;00m \u001b[38;5;28;01mNone\u001b[39;00m \u001b[38;5;129;01mor\u001b[39;00m \u001b[38;5;129;01mnot\u001b[39;00m _raise_exceptions_for_gated_repo:\n\u001b[0;32m    415\u001b[0m         \u001b[38;5;28;01mreturn\u001b[39;00m resolved_file\n\u001b[1;32m--> 416\u001b[0m     \u001b[38;5;28;01mraise\u001b[39;00m \u001b[38;5;167;01mEnvironmentError\u001b[39;00m(\n\u001b[0;32m    417\u001b[0m         \u001b[38;5;124m\"\u001b[39m\u001b[38;5;124mYou are trying to access a gated repo.\u001b[39m\u001b[38;5;130;01m\\n\u001b[39;00m\u001b[38;5;124mMake sure to have access to it at \u001b[39m\u001b[38;5;124m\"\u001b[39m\n\u001b[0;32m    418\u001b[0m         \u001b[38;5;124mf\u001b[39m\u001b[38;5;124m\"\u001b[39m\u001b[38;5;124mhttps://huggingface.co/\u001b[39m\u001b[38;5;132;01m{\u001b[39;00mpath_or_repo_id\u001b[38;5;132;01m}\u001b[39;00m\u001b[38;5;124m.\u001b[39m\u001b[38;5;130;01m\\n\u001b[39;00m\u001b[38;5;132;01m{\u001b[39;00m\u001b[38;5;28mstr\u001b[39m(e)\u001b[38;5;132;01m}\u001b[39;00m\u001b[38;5;124m\"\u001b[39m\n\u001b[0;32m    419\u001b[0m     ) \u001b[38;5;28;01mfrom\u001b[39;00m \u001b[38;5;21;01me\u001b[39;00m\n\u001b[0;32m    420\u001b[0m \u001b[38;5;28;01mexcept\u001b[39;00m RepositoryNotFoundError \u001b[38;5;28;01mas\u001b[39;00m e:\n\u001b[0;32m    421\u001b[0m     \u001b[38;5;28;01mraise\u001b[39;00m \u001b[38;5;167;01mEnvironmentError\u001b[39;00m(\n\u001b[0;32m    422\u001b[0m         \u001b[38;5;124mf\u001b[39m\u001b[38;5;124m\"\u001b[39m\u001b[38;5;132;01m{\u001b[39;00mpath_or_repo_id\u001b[38;5;132;01m}\u001b[39;00m\u001b[38;5;124m is not a local folder and is not a valid model identifier \u001b[39m\u001b[38;5;124m\"\u001b[39m\n\u001b[0;32m    423\u001b[0m         \u001b[38;5;124m\"\u001b[39m\u001b[38;5;124mlisted on \u001b[39m\u001b[38;5;124m'\u001b[39m\u001b[38;5;124mhttps://huggingface.co/models\u001b[39m\u001b[38;5;124m'\u001b[39m\u001b[38;5;130;01m\\n\u001b[39;00m\u001b[38;5;124mIf this is a private repository, make sure to pass a token \u001b[39m\u001b[38;5;124m\"\u001b[39m\n\u001b[0;32m    424\u001b[0m         \u001b[38;5;124m\"\u001b[39m\u001b[38;5;124mhaving permission to this repo either by logging in with `huggingface-cli login` or by passing \u001b[39m\u001b[38;5;124m\"\u001b[39m\n\u001b[0;32m    425\u001b[0m         \u001b[38;5;124m\"\u001b[39m\u001b[38;5;124m`token=<your_token>`\u001b[39m\u001b[38;5;124m\"\u001b[39m\n\u001b[0;32m    426\u001b[0m     ) \u001b[38;5;28;01mfrom\u001b[39;00m \u001b[38;5;21;01me\u001b[39;00m\n",
      "\u001b[1;31mOSError\u001b[0m: You are trying to access a gated repo.\nMake sure to have access to it at https://huggingface.co/meta-llama/Llama-2-7b-hf.\n403 Client Error. (Request ID: Root=1-661f3e9a-63aa9d887bcef03f76e9b4ef;b36873c6-7295-4189-9996-2a3d159149a6)\n\nCannot access gated repo for url https://huggingface.co/meta-llama/Llama-2-7b-hf/resolve/main/config.json.\nYour request to access model meta-llama/Llama-2-7b-hf is awaiting a review from the repo authors."
     ]
    }
   ],
   "source": [
    "# not yet tested, waiting for approval from meta\n",
    "tokenized_llama_train = load_dataset(llama_chat_preprocess_train, \"meta-llama/Llama-2-7b-hf\", pad_token=True, pad_side='right', file_path=r\"C:\\Programming\\DL Research\\Efficient-LLM-Benchmark\\UnifiedQA Data Curation\\tokenized\\Llama\", file_name='train',enable_load=True)\n",
    "tokenized_llama_dev = load_dataset(llama_chat_preprocess_dev, \"meta-llama/Llama-2-7b-hf\", pad_token=True, pad_side='right', file_path=r\"C:\\Programming\\DL Research\\Efficient-LLM-Benchmark\\UnifiedQA Data Curation\\tokenized\\Llama\", file_name='dev',enable_load=True)\n",
    "tokenized_llama_test = load_dataset(llama_chat_preprocess_test, \"meta-llama/Llama-2-7b-hf\", pad_token=True, pad_side='right', file_path=r\"C:\\Programming\\DL Research\\Efficient-LLM-Benchmark\\UnifiedQA Data Curation\\tokenized\\Llama\", file_name='test',enable_load=True)"
   ]
  },
  {
   "cell_type": "code",
   "execution_count": null,
   "metadata": {},
   "outputs": [],
   "source": []
  },
  {
   "cell_type": "code",
   "execution_count": null,
   "metadata": {},
   "outputs": [],
   "source": []
  },
  {
   "cell_type": "code",
   "execution_count": null,
   "metadata": {},
   "outputs": [],
   "source": []
  },
  {
   "cell_type": "code",
   "execution_count": null,
   "metadata": {},
   "outputs": [],
   "source": []
  }
 ],
 "metadata": {
  "kernelspec": {
   "display_name": "EfficientLLM",
   "language": "python",
   "name": "python3"
  },
  "language_info": {
   "codemirror_mode": {
    "name": "ipython",
    "version": 3
   },
   "file_extension": ".py",
   "mimetype": "text/x-python",
   "name": "python",
   "nbconvert_exporter": "python",
   "pygments_lexer": "ipython3",
   "version": "3.10.14"
  }
 },
 "nbformat": 4,
 "nbformat_minor": 2
}
