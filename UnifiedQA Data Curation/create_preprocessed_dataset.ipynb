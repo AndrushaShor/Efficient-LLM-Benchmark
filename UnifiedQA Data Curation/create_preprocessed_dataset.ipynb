{
 "cells": [
  {
   "cell_type": "code",
   "execution_count": 1,
   "metadata": {},
   "outputs": [],
   "source": [
    "from preprocess import *\n",
    "import os"
   ]
  },
  {
   "cell_type": "code",
   "execution_count": 2,
   "metadata": {},
   "outputs": [],
   "source": [
    "# Dataset used for training\n",
    "DATASETS = [\n",
    "    \"ai2_science_middle\",\n",
    "    \"ai2_science_elementary\",\n",
    "    \"arc_hard\",\n",
    "    \"arc_easy\",\n",
    "    \"mctest\",\n",
    "    \"mctest_corrected_the_separator\",\n",
    "    \"natural_questions\",\n",
    "    \"quoref\",\n",
    "    \"squad1_1\",\n",
    "    \"squad2\",\n",
    "    \"boolq\",\n",
    "    \"multirc\",\n",
    "    \"newsqa\",\n",
    "    \"race_string\",\n",
    "    \"ropes\",\n",
    "    \"drop\",\n",
    "    \"narrativeqa\",\n",
    "    \"openbookqa\",\n",
    "    \"qasc\",\n",
    "    \"boolq_np\",\n",
    "    \"contrast_sets_boolq\",\n",
    "    \"contrast_sets_drop\",\n",
    "    \"contrast_sets_quoref\",\n",
    "    \"contrast_sets_ropes\",\n",
    "    \"commonsenseqa\",\n",
    "    \"qasc_with_ir\",\n",
    "    \"openbookqa_with_ir\",\n",
    "    \"arc_easy_with_ir\",\n",
    "    \"arc_hard_with_ir\",\n",
    "    \"ambigqa\",\n",
    "    \"natural_questions_direct_ans\",\n",
    "    \"natural_questions_with_dpr_para\",\n",
    "    \"winogrande_xs\",\n",
    "    \"winogrande_s\",\n",
    "    \"winogrande_m\",\n",
    "    \"winogrande_l\",\n",
    "    \"winogrande_xl\",\n",
    "    \"social_iqa\",\n",
    "    \"physical_iqa\",\n",
    "]\n",
    "\n",
    "UNIFIED_DATASETS = [ \n",
    "            \"narrativeqa\",\n",
    "            \"ai2_science_middle\", \"ai2_science_elementary\",\n",
    "            \"arc_hard\", \"arc_easy\",\n",
    "            \"mctest_corrected_the_separator\",\n",
    "            \"squad1_1\", \"squad2\",\n",
    "            \"boolq\",\n",
    "            \"race_string\",\n",
    "            \"openbookqa\"]\n",
    "\n",
    "# Unseen Data\n",
    "EVAL_DATA = list(set(DATASETS) - set(UNIFIED_DATASETS))\n"
   ]
  },
  {
   "cell_type": "code",
   "execution_count": 5,
   "metadata": {},
   "outputs": [
    {
     "name": "stdout",
     "output_type": "stream",
     "text": [
      "Making UnifiedQA Train Dataset\n",
      "Making UnifiedQA Dev Dataset\n",
      "Making UnifiedQA Test Dataset\n"
     ]
    }
   ],
   "source": [
    "print(\"Making UnifiedQA Train Dataset\")\n",
    "unified_qa_train = make_unified_qa_dataset(UNIFIED_DATASETS, fr'{os.getcwd()}/data', \"train\", True, file_path=fr'{os.getcwd()}/unprocessed')\n",
    "\n",
    "print(\"Making UnifiedQA Dev Dataset\")\n",
    "unified_qa_dev = make_unified_qa_dataset(UNIFIED_DATASETS, fr'{os.getcwd()}/data', \"dev\", True, file_path=fr'{os.getcwd()}/unprocessed')\n",
    "\n",
    "print(\"Making UnifiedQA Test Dataset\")\n",
    "unified_qa_test = make_unified_qa_dataset(UNIFIED_DATASETS, fr'{os.getcwd()}/data', \"test\", True, file_path=fr'{os.getcwd()}/unprocessed')\n",
    "\n",
    "\n"
   ]
  },
  {
   "cell_type": "code",
   "execution_count": 6,
   "metadata": {},
   "outputs": [
    {
     "name": "stdout",
     "output_type": "stream",
     "text": [
      "SANITY CHECK FOR READING TRAIN DATASET\n",
      "65494\n",
      "---------------------------------------------------------------\n",
      "SANITY CHECK FOR READING DEV DATASET\n",
      "6922\n",
      "---------------------------------------------------------------\n",
      "SANITY CHECK FOR READING TEST DATASET\n",
      "21114\n",
      "---------------------------------------------------------------\n"
     ]
    }
   ],
   "source": [
    "print('SANITY CHECK FOR READING TRAIN DATASET')\n",
    "print(len(unified_qa_train['narrativeqa']['question']))\n",
    "print('---------------------------------------------------------------')\n",
    "\n",
    "print('SANITY CHECK FOR READING DEV DATASET')\n",
    "print(len(unified_qa_dev['narrativeqa']['question']))\n",
    "print('---------------------------------------------------------------')\n",
    "\n",
    "print('SANITY CHECK FOR READING TEST DATASET')\n",
    "print(len(unified_qa_test['narrativeqa']['question']))\n",
    "print('---------------------------------------------------------------')"
   ]
  },
  {
   "cell_type": "code",
   "execution_count": 7,
   "metadata": {},
   "outputs": [
    {
     "name": "stdout",
     "output_type": "stream",
     "text": [
      "/home/andrusha/Desktop/DL Research/Efficient-LLM-Benchmark/UnifiedQA Data Curation/preprocessed/Gemma/train.json\n",
      "/home/andrusha/Desktop/DL Research/Efficient-LLM-Benchmark/UnifiedQA Data Curation/preprocessed/Gemma/dev.json\n",
      "/home/andrusha/Desktop/DL Research/Efficient-LLM-Benchmark/UnifiedQA Data Curation/preprocessed/Gemma/test.json\n",
      "/home/andrusha/Desktop/DL Research/Efficient-LLM-Benchmark/UnifiedQA Data Curation/preprocessed/Llama/train.json\n",
      "/home/andrusha/Desktop/DL Research/Efficient-LLM-Benchmark/UnifiedQA Data Curation/preprocessed/Llama/dev.json\n",
      "/home/andrusha/Desktop/DL Research/Efficient-LLM-Benchmark/UnifiedQA Data Curation/preprocessed/Llama/test.json\n",
      "/home/andrusha/Desktop/DL Research/Efficient-LLM-Benchmark/UnifiedQA Data Curation/preprocessed/Mistral/train.json\n",
      "/home/andrusha/Desktop/DL Research/Efficient-LLM-Benchmark/UnifiedQA Data Curation/preprocessed/Mistral/dev.json\n",
      "/home/andrusha/Desktop/DL Research/Efficient-LLM-Benchmark/UnifiedQA Data Curation/preprocessed/Mistral/test.json\n"
     ]
    }
   ],
   "source": [
    "gemma_chat_preprocess_train = preprocess_unified_qa_dataset(datasets=unified_qa_train, append_instruction_gemma=True, append_instruction_llama=False, append_instruction_mistral=False, append_s=False, append_bos=True, file_path=fr'{os.getcwd()}/preprocessed/Gemma', file_name='train',enable_load=True)\n",
    "gemma_chat_preprocess_dev = preprocess_unified_qa_dataset(datasets=unified_qa_dev, append_instruction_gemma=True, append_instruction_llama=False, append_instruction_mistral=False, append_s=False, append_bos=True, file_path=fr'{os.getcwd()}/preprocessed/Gemma', file_name='dev',enable_load=True)\n",
    "gemma_chat_preprocess_test = preprocess_unified_qa_dataset(datasets=unified_qa_test, append_instruction_gemma=True, append_instruction_llama=False, append_instruction_mistral=False, append_s=False, append_bos=True, file_path=fr'{os.getcwd()}/preprocessed/Gemma', file_name='test',enable_load=True)\n",
    "\n",
    "llama_chat_preprocess_train = preprocess_unified_qa_dataset(datasets=unified_qa_train, append_instruction_gemma=False, append_instruction_llama=True, append_instruction_mistral=False, append_s=True, append_bos=False, file_path=fr'{os.getcwd()}/preprocessed/Llama', file_name='train',enable_load=True)\n",
    "llama_chat_preprocess_dev = preprocess_unified_qa_dataset(datasets=unified_qa_dev, append_instruction_gemma=False, append_instruction_llama=True, append_instruction_mistral=False, append_s=True, append_bos=False, file_path=fr'{os.getcwd()}/preprocessed/Llama', file_name='dev',enable_load=True)\n",
    "llama_chat_preprocess_test = preprocess_unified_qa_dataset(datasets=unified_qa_test, append_instruction_gemma=False, append_instruction_llama=True, append_instruction_mistral=False, append_s=True, append_bos=False, file_path=fr'{os.getcwd()}/preprocessed/Llama', file_name='test',enable_load=True)\n",
    "\n",
    "mistral_chat_preprocess_train = preprocess_unified_qa_dataset(datasets=unified_qa_train, append_instruction_gemma=False, append_instruction_llama=False, append_instruction_mistral=True, append_s=True, append_bos=False, file_path=fr'{os.getcwd()}/preprocessed/Mistral', file_name='train',enable_load=True)\n",
    "mistral_chat_preprocess_dev = preprocess_unified_qa_dataset(datasets=unified_qa_dev, append_instruction_gemma=False, append_instruction_llama=False, append_instruction_mistral=True, append_s=True, append_bos=False, file_path=fr'{os.getcwd()}/preprocessed/Mistral', file_name='dev',enable_load=True)\n",
    "mistral_chat_preprocess_test = preprocess_unified_qa_dataset(datasets=unified_qa_test, append_instruction_gemma=False, append_instruction_llama=False, append_instruction_mistral=True, append_s=True, append_bos=False, file_path=fr'{os.getcwd()}/preprocessed/Mistral', file_name='test',enable_load=True)\n",
    "\n"
   ]
  },
  {
   "cell_type": "code",
   "execution_count": 8,
   "metadata": {},
   "outputs": [
    {
     "name": "stdout",
     "output_type": "stream",
     "text": [
      "SANITY CHECK FOR PREPROCESSING TRAIN DATASET\n",
      "<bos><start_of_turn>user\n",
      "who is miss delmer? \\n  at madeline hall, an old mansion-house near southampton belonging to the wealthy de versely family, lives an elderly spinster miss delmar, the aunt of the earl de versely and captain delmar. miss delmar invites arabella mason, the daughter of a deceased, well-liked steward to stay with her as a lower-class guest in the house. captain delmar is known to visit his aunt at madeline hall frequently, accompanied by his valet ben keene, who is also a private marine. captain delmar eventually suggests that ben should propose to arabella, and the two marry in secret, to the frustration of miss delmar and arabella's mother. the captain is able to smooth over the situation with his aunt, even after it is discovered that arabella was six months pregnant at the time of the marriage. she later gives birth to a boy, who takes the captain's christian name and ben's surname--the titular percival keene.the family moves to chatham, after ben is ordered back with his detachment. arabella opens up a successful shop and circulating library below her house, enlisting the help of her mother and sister, amelia. percival becomes well known in town from his mischievous pranks on officers and other strangers, often encouraged by his aunt amelia. however, percival's mother and grandmother are less fond of his disregard for manners, and insist on sending him to school after an episode in which he bites his grandmother. percival reports to the school house of mr. o'gallagher, a poor irish scholar, who rules his class with a system of severe corporal punishment. mr. o'gallagher routinely bullies percival by stealing his lunch, leading percival to seek revenge by poisoning his sandwiches with calomel. on guy fawkes day the schoolteacher confiscates all the schoolboys' fireworks, for which percival retaliates by setting off the collected fireworks while the teacher sits above them, leading to the total destruction of the schoolhouse and near death of the schoolmaster.when percival is a young teenager, captain delmar reappears and offers him a position aboard his new navy ship, the h.m. calliope. while preparing to enter service, percival overhears gossip of his illegitimate birth, introducing the idea that captain delmar may be his father. he confronts his mother about his parentage, which she at first harshly denies but later tearfully explains the truth of her affair. early in his service in the navy, percival is captured during a pirate raid along with others. the pirate crew is entirely black, and the captain explains that they are primarily escaped slaves from the americas. percival is taken in as a cabin boy, and later dyes his skin tan in the appearance of a mulatto to please the captain who doesn't approve of white skin. the pirates often seek to take over slave trading vessels, killing every white person on board. during the taking of one such vessel, percival is able is convince the captain to spare the lives of a wealthy dutch merchant and his young daughter, minnie. eventually the h.m. calliope takes the pirate ship, and percival--unrecognizable with his dyed skin--is taken as a prisoner, later to convince his fellow shipman of his true identity.after his reappearance aboard the ship, percival gains esteem among the crew and is welcomed back by the emotional captain delmar. his reputation continues to grow over the course of his service in conflicts with dutch and french vessels around the island of curacao. he also stands in for an ill captain delmar in a duel with a french officer, effectively saving the captain's life. at this point, the captain receives news that his older brother has died, making him the new lord de versely, and before returning to england he grants perceval command of his own schooner. after another intense but successful battle with a french war ship, percival is promoted to captain. during his service in the navy, percival still partakes in the merry pranks of his youth, and at one point teams up with a mulatto hotel owner in curaรงao to convince his fellow officers they've been poisoned. he also keeps correspondence with minnie, developing a romance with the beautiful heiress.near the end of the story, percival guides his crew through a terrible storm in which many of the crew are killed and the ship is heavily damaged. after being saved by another english vessel, he receives a letter informing him of lord de versely's sudden death from heart complications and learns that he has been left all of his personal property. percival is still disappointed that he can not take his father's name. he later journey's with his friend bob cross to hamburg to reunite with minnie, but is captured by french troops on the road and sentenced to execution for spying. during a skirmish between the french and the cossacks, percival and cross are able to escape and continue on the road. at the end of the novel, percival proposes to minnie, and stands to inherit a great fortune through her father. he also receives a letter from the de versely attorney letting him know he has been granted the arms and name of delmar.<end_of_turn>\n",
      "\n",
      "\n",
      "---------------------------------------------------------------\n",
      "SANITY CHECK FOR PREPROCESSING DEV DATASET\n",
      "<start_of_turn>model\n",
      "the elderly spinster aunt of the earl de verseley and captain delmar<end_of_turn>\n",
      "---------------------------------------------------------------\n",
      "SANITY CHECK FOR PREPROCESSING TEST DATASET\n",
      "<bos><start_of_turn>user\n",
      "who is miss delmer? \\n  at madeline hall, an old mansion-house near southampton belonging to the wealthy de versely family, lives an elderly spinster miss delmar, the aunt of the earl de versely and captain delmar. miss delmar invites arabella mason, the daughter of a deceased, well-liked steward to stay with her as a lower-class guest in the house. captain delmar is known to visit his aunt at madeline hall frequently, accompanied by his valet ben keene, who is also a private marine. captain delmar eventually suggests that ben should propose to arabella, and the two marry in secret, to the frustration of miss delmar and arabella's mother. the captain is able to smooth over the situation with his aunt, even after it is discovered that arabella was six months pregnant at the time of the marriage. she later gives birth to a boy, who takes the captain's christian name and ben's surname--the titular percival keene.the family moves to chatham, after ben is ordered back with his detachment. arabella opens up a successful shop and circulating library below her house, enlisting the help of her mother and sister, amelia. percival becomes well known in town from his mischievous pranks on officers and other strangers, often encouraged by his aunt amelia. however, percival's mother and grandmother are less fond of his disregard for manners, and insist on sending him to school after an episode in which he bites his grandmother. percival reports to the school house of mr. o'gallagher, a poor irish scholar, who rules his class with a system of severe corporal punishment. mr. o'gallagher routinely bullies percival by stealing his lunch, leading percival to seek revenge by poisoning his sandwiches with calomel. on guy fawkes day the schoolteacher confiscates all the schoolboys' fireworks, for which percival retaliates by setting off the collected fireworks while the teacher sits above them, leading to the total destruction of the schoolhouse and near death of the schoolmaster.when percival is a young teenager, captain delmar reappears and offers him a position aboard his new navy ship, the h.m. calliope. while preparing to enter service, percival overhears gossip of his illegitimate birth, introducing the idea that captain delmar may be his father. he confronts his mother about his parentage, which she at first harshly denies but later tearfully explains the truth of her affair. early in his service in the navy, percival is captured during a pirate raid along with others. the pirate crew is entirely black, and the captain explains that they are primarily escaped slaves from the americas. percival is taken in as a cabin boy, and later dyes his skin tan in the appearance of a mulatto to please the captain who doesn't approve of white skin. the pirates often seek to take over slave trading vessels, killing every white person on board. during the taking of one such vessel, percival is able is convince the captain to spare the lives of a wealthy dutch merchant and his young daughter, minnie. eventually the h.m. calliope takes the pirate ship, and percival--unrecognizable with his dyed skin--is taken as a prisoner, later to convince his fellow shipman of his true identity.after his reappearance aboard the ship, percival gains esteem among the crew and is welcomed back by the emotional captain delmar. his reputation continues to grow over the course of his service in conflicts with dutch and french vessels around the island of curacao. he also stands in for an ill captain delmar in a duel with a french officer, effectively saving the captain's life. at this point, the captain receives news that his older brother has died, making him the new lord de versely, and before returning to england he grants perceval command of his own schooner. after another intense but successful battle with a french war ship, percival is promoted to captain. during his service in the navy, percival still partakes in the merry pranks of his youth, and at one point teams up with a mulatto hotel owner in curaรงao to convince his fellow officers they've been poisoned. he also keeps correspondence with minnie, developing a romance with the beautiful heiress.near the end of the story, percival guides his crew through a terrible storm in which many of the crew are killed and the ship is heavily damaged. after being saved by another english vessel, he receives a letter informing him of lord de versely's sudden death from heart complications and learns that he has been left all of his personal property. percival is still disappointed that he can not take his father's name. he later journey's with his friend bob cross to hamburg to reunite with minnie, but is captured by french troops on the road and sentenced to execution for spying. during a skirmish between the french and the cossacks, percival and cross are able to escape and continue on the road. at the end of the novel, percival proposes to minnie, and stands to inherit a great fortune through her father. he also receives a letter from the de versely attorney letting him know he has been granted the arms and name of delmar.<end_of_turn>\n",
      "\n",
      " <start_of_turn>model\n",
      "the elderly spinster aunt of the earl de verseley and captain delmar<end_of_turn>\n",
      "---------------------------------------------------------------\n"
     ]
    }
   ],
   "source": [
    "print('SANITY CHECK FOR PREPROCESSING TRAIN DATASET')\n",
    "print(gemma_chat_preprocess_train['narrativeqa']['question'][0])\n",
    "print('---------------------------------------------------------------')\n",
    "\n",
    "print('SANITY CHECK FOR PREPROCESSING DEV DATASET')\n",
    "print(gemma_chat_preprocess_train['narrativeqa']['answer'][0])\n",
    "print('---------------------------------------------------------------')\n",
    "\n",
    "print('SANITY CHECK FOR PREPROCESSING TEST DATASET')\n",
    "print(gemma_chat_preprocess_train['narrativeqa']['text'][0])\n",
    "print('---------------------------------------------------------------')"
   ]
  },
  {
   "cell_type": "code",
   "execution_count": 9,
   "metadata": {},
   "outputs": [
    {
     "name": "stdout",
     "output_type": "stream",
     "text": [
      "SANITY CHECK FOR PREPROCESSING TRAIN DATASET\n",
      "<s>who is miss delmer? \\n  at madeline hall, an old mansion-house near southampton belonging to the wealthy de versely family, lives an elderly spinster miss delmar, the aunt of the earl de versely and captain delmar. miss delmar invites arabella mason, the daughter of a deceased, well-liked steward to stay with her as a lower-class guest in the house. captain delmar is known to visit his aunt at madeline hall frequently, accompanied by his valet ben keene, who is also a private marine. captain delmar eventually suggests that ben should propose to arabella, and the two marry in secret, to the frustration of miss delmar and arabella's mother. the captain is able to smooth over the situation with his aunt, even after it is discovered that arabella was six months pregnant at the time of the marriage. she later gives birth to a boy, who takes the captain's christian name and ben's surname--the titular percival keene.the family moves to chatham, after ben is ordered back with his detachment. arabella opens up a successful shop and circulating library below her house, enlisting the help of her mother and sister, amelia. percival becomes well known in town from his mischievous pranks on officers and other strangers, often encouraged by his aunt amelia. however, percival's mother and grandmother are less fond of his disregard for manners, and insist on sending him to school after an episode in which he bites his grandmother. percival reports to the school house of mr. o'gallagher, a poor irish scholar, who rules his class with a system of severe corporal punishment. mr. o'gallagher routinely bullies percival by stealing his lunch, leading percival to seek revenge by poisoning his sandwiches with calomel. on guy fawkes day the schoolteacher confiscates all the schoolboys' fireworks, for which percival retaliates by setting off the collected fireworks while the teacher sits above them, leading to the total destruction of the schoolhouse and near death of the schoolmaster.when percival is a young teenager, captain delmar reappears and offers him a position aboard his new navy ship, the h.m. calliope. while preparing to enter service, percival overhears gossip of his illegitimate birth, introducing the idea that captain delmar may be his father. he confronts his mother about his parentage, which she at first harshly denies but later tearfully explains the truth of her affair. early in his service in the navy, percival is captured during a pirate raid along with others. the pirate crew is entirely black, and the captain explains that they are primarily escaped slaves from the americas. percival is taken in as a cabin boy, and later dyes his skin tan in the appearance of a mulatto to please the captain who doesn't approve of white skin. the pirates often seek to take over slave trading vessels, killing every white person on board. during the taking of one such vessel, percival is able is convince the captain to spare the lives of a wealthy dutch merchant and his young daughter, minnie. eventually the h.m. calliope takes the pirate ship, and percival--unrecognizable with his dyed skin--is taken as a prisoner, later to convince his fellow shipman of his true identity.after his reappearance aboard the ship, percival gains esteem among the crew and is welcomed back by the emotional captain delmar. his reputation continues to grow over the course of his service in conflicts with dutch and french vessels around the island of curacao. he also stands in for an ill captain delmar in a duel with a french officer, effectively saving the captain's life. at this point, the captain receives news that his older brother has died, making him the new lord de versely, and before returning to england he grants perceval command of his own schooner. after another intense but successful battle with a french war ship, percival is promoted to captain. during his service in the navy, percival still partakes in the merry pranks of his youth, and at one point teams up with a mulatto hotel owner in curaรงao to convince his fellow officers they've been poisoned. he also keeps correspondence with minnie, developing a romance with the beautiful heiress.near the end of the story, percival guides his crew through a terrible storm in which many of the crew are killed and the ship is heavily damaged. after being saved by another english vessel, he receives a letter informing him of lord de versely's sudden death from heart complications and learns that he has been left all of his personal property. percival is still disappointed that he can not take his father's name. he later journey's with his friend bob cross to hamburg to reunite with minnie, but is captured by french troops on the road and sentenced to execution for spying. during a skirmish between the french and the cossacks, percival and cross are able to escape and continue on the road. at the end of the novel, percival proposes to minnie, and stands to inherit a great fortune through her father. he also receives a letter from the de versely attorney letting him know he has been granted the arms and name of delmar.\n",
      "\n",
      "\n",
      "---------------------------------------------------------------\n",
      "SANITY CHECK FOR PREPROCESSING DEV DATASET\n",
      "Output:\n",
      "the elderly spinster aunt of the earl de verseley and captain delmar\n",
      "---------------------------------------------------------------\n",
      "SANITY CHECK FOR PREPROCESSING TEST DATASET\n",
      "<s>who is miss delmer? \\n  at madeline hall, an old mansion-house near southampton belonging to the wealthy de versely family, lives an elderly spinster miss delmar, the aunt of the earl de versely and captain delmar. miss delmar invites arabella mason, the daughter of a deceased, well-liked steward to stay with her as a lower-class guest in the house. captain delmar is known to visit his aunt at madeline hall frequently, accompanied by his valet ben keene, who is also a private marine. captain delmar eventually suggests that ben should propose to arabella, and the two marry in secret, to the frustration of miss delmar and arabella's mother. the captain is able to smooth over the situation with his aunt, even after it is discovered that arabella was six months pregnant at the time of the marriage. she later gives birth to a boy, who takes the captain's christian name and ben's surname--the titular percival keene.the family moves to chatham, after ben is ordered back with his detachment. arabella opens up a successful shop and circulating library below her house, enlisting the help of her mother and sister, amelia. percival becomes well known in town from his mischievous pranks on officers and other strangers, often encouraged by his aunt amelia. however, percival's mother and grandmother are less fond of his disregard for manners, and insist on sending him to school after an episode in which he bites his grandmother. percival reports to the school house of mr. o'gallagher, a poor irish scholar, who rules his class with a system of severe corporal punishment. mr. o'gallagher routinely bullies percival by stealing his lunch, leading percival to seek revenge by poisoning his sandwiches with calomel. on guy fawkes day the schoolteacher confiscates all the schoolboys' fireworks, for which percival retaliates by setting off the collected fireworks while the teacher sits above them, leading to the total destruction of the schoolhouse and near death of the schoolmaster.when percival is a young teenager, captain delmar reappears and offers him a position aboard his new navy ship, the h.m. calliope. while preparing to enter service, percival overhears gossip of his illegitimate birth, introducing the idea that captain delmar may be his father. he confronts his mother about his parentage, which she at first harshly denies but later tearfully explains the truth of her affair. early in his service in the navy, percival is captured during a pirate raid along with others. the pirate crew is entirely black, and the captain explains that they are primarily escaped slaves from the americas. percival is taken in as a cabin boy, and later dyes his skin tan in the appearance of a mulatto to please the captain who doesn't approve of white skin. the pirates often seek to take over slave trading vessels, killing every white person on board. during the taking of one such vessel, percival is able is convince the captain to spare the lives of a wealthy dutch merchant and his young daughter, minnie. eventually the h.m. calliope takes the pirate ship, and percival--unrecognizable with his dyed skin--is taken as a prisoner, later to convince his fellow shipman of his true identity.after his reappearance aboard the ship, percival gains esteem among the crew and is welcomed back by the emotional captain delmar. his reputation continues to grow over the course of his service in conflicts with dutch and french vessels around the island of curacao. he also stands in for an ill captain delmar in a duel with a french officer, effectively saving the captain's life. at this point, the captain receives news that his older brother has died, making him the new lord de versely, and before returning to england he grants perceval command of his own schooner. after another intense but successful battle with a french war ship, percival is promoted to captain. during his service in the navy, percival still partakes in the merry pranks of his youth, and at one point teams up with a mulatto hotel owner in curaรงao to convince his fellow officers they've been poisoned. he also keeps correspondence with minnie, developing a romance with the beautiful heiress.near the end of the story, percival guides his crew through a terrible storm in which many of the crew are killed and the ship is heavily damaged. after being saved by another english vessel, he receives a letter informing him of lord de versely's sudden death from heart complications and learns that he has been left all of his personal property. percival is still disappointed that he can not take his father's name. he later journey's with his friend bob cross to hamburg to reunite with minnie, but is captured by french troops on the road and sentenced to execution for spying. during a skirmish between the french and the cossacks, percival and cross are able to escape and continue on the road. at the end of the novel, percival proposes to minnie, and stands to inherit a great fortune through her father. he also receives a letter from the de versely attorney letting him know he has been granted the arms and name of delmar.\n",
      "\n",
      " Output:\n",
      "the elderly spinster aunt of the earl de verseley and captain delmar\n",
      "---------------------------------------------------------------\n"
     ]
    }
   ],
   "source": [
    "print('SANITY CHECK FOR PREPROCESSING TRAIN DATASET')\n",
    "print(llama_chat_preprocess_train['narrativeqa']['question'][0])\n",
    "print('---------------------------------------------------------------')\n",
    "\n",
    "print('SANITY CHECK FOR PREPROCESSING DEV DATASET')\n",
    "print(llama_chat_preprocess_train['narrativeqa']['answer'][0])\n",
    "print('---------------------------------------------------------------')\n",
    "\n",
    "print('SANITY CHECK FOR PREPROCESSING TEST DATASET')\n",
    "print(llama_chat_preprocess_train['narrativeqa']['text'][0])\n",
    "print('---------------------------------------------------------------')"
   ]
  },
  {
   "cell_type": "code",
   "execution_count": 10,
   "metadata": {},
   "outputs": [
    {
     "name": "stdout",
     "output_type": "stream",
     "text": [
      "SANITY CHECK FOR PREPROCESSING TRAIN DATASET\n",
      "<s>who is miss delmer? \\n  at madeline hall, an old mansion-house near southampton belonging to the wealthy de versely family, lives an elderly spinster miss delmar, the aunt of the earl de versely and captain delmar. miss delmar invites arabella mason, the daughter of a deceased, well-liked steward to stay with her as a lower-class guest in the house. captain delmar is known to visit his aunt at madeline hall frequently, accompanied by his valet ben keene, who is also a private marine. captain delmar eventually suggests that ben should propose to arabella, and the two marry in secret, to the frustration of miss delmar and arabella's mother. the captain is able to smooth over the situation with his aunt, even after it is discovered that arabella was six months pregnant at the time of the marriage. she later gives birth to a boy, who takes the captain's christian name and ben's surname--the titular percival keene.the family moves to chatham, after ben is ordered back with his detachment. arabella opens up a successful shop and circulating library below her house, enlisting the help of her mother and sister, amelia. percival becomes well known in town from his mischievous pranks on officers and other strangers, often encouraged by his aunt amelia. however, percival's mother and grandmother are less fond of his disregard for manners, and insist on sending him to school after an episode in which he bites his grandmother. percival reports to the school house of mr. o'gallagher, a poor irish scholar, who rules his class with a system of severe corporal punishment. mr. o'gallagher routinely bullies percival by stealing his lunch, leading percival to seek revenge by poisoning his sandwiches with calomel. on guy fawkes day the schoolteacher confiscates all the schoolboys' fireworks, for which percival retaliates by setting off the collected fireworks while the teacher sits above them, leading to the total destruction of the schoolhouse and near death of the schoolmaster.when percival is a young teenager, captain delmar reappears and offers him a position aboard his new navy ship, the h.m. calliope. while preparing to enter service, percival overhears gossip of his illegitimate birth, introducing the idea that captain delmar may be his father. he confronts his mother about his parentage, which she at first harshly denies but later tearfully explains the truth of her affair. early in his service in the navy, percival is captured during a pirate raid along with others. the pirate crew is entirely black, and the captain explains that they are primarily escaped slaves from the americas. percival is taken in as a cabin boy, and later dyes his skin tan in the appearance of a mulatto to please the captain who doesn't approve of white skin. the pirates often seek to take over slave trading vessels, killing every white person on board. during the taking of one such vessel, percival is able is convince the captain to spare the lives of a wealthy dutch merchant and his young daughter, minnie. eventually the h.m. calliope takes the pirate ship, and percival--unrecognizable with his dyed skin--is taken as a prisoner, later to convince his fellow shipman of his true identity.after his reappearance aboard the ship, percival gains esteem among the crew and is welcomed back by the emotional captain delmar. his reputation continues to grow over the course of his service in conflicts with dutch and french vessels around the island of curacao. he also stands in for an ill captain delmar in a duel with a french officer, effectively saving the captain's life. at this point, the captain receives news that his older brother has died, making him the new lord de versely, and before returning to england he grants perceval command of his own schooner. after another intense but successful battle with a french war ship, percival is promoted to captain. during his service in the navy, percival still partakes in the merry pranks of his youth, and at one point teams up with a mulatto hotel owner in curaรงao to convince his fellow officers they've been poisoned. he also keeps correspondence with minnie, developing a romance with the beautiful heiress.near the end of the story, percival guides his crew through a terrible storm in which many of the crew are killed and the ship is heavily damaged. after being saved by another english vessel, he receives a letter informing him of lord de versely's sudden death from heart complications and learns that he has been left all of his personal property. percival is still disappointed that he can not take his father's name. he later journey's with his friend bob cross to hamburg to reunite with minnie, but is captured by french troops on the road and sentenced to execution for spying. during a skirmish between the french and the cossacks, percival and cross are able to escape and continue on the road. at the end of the novel, percival proposes to minnie, and stands to inherit a great fortune through her father. he also receives a letter from the de versely attorney letting him know he has been granted the arms and name of delmar.\n",
      "\n",
      "\n",
      "---------------------------------------------------------------\n",
      "SANITY CHECK FOR PREPROCESSING DEV DATASET\n",
      "Output:\n",
      "the elderly spinster aunt of the earl de verseley and captain delmar\n",
      "---------------------------------------------------------------\n",
      "SANITY CHECK FOR PREPROCESSING TEST DATASET\n",
      "<s>who is miss delmer? \\n  at madeline hall, an old mansion-house near southampton belonging to the wealthy de versely family, lives an elderly spinster miss delmar, the aunt of the earl de versely and captain delmar. miss delmar invites arabella mason, the daughter of a deceased, well-liked steward to stay with her as a lower-class guest in the house. captain delmar is known to visit his aunt at madeline hall frequently, accompanied by his valet ben keene, who is also a private marine. captain delmar eventually suggests that ben should propose to arabella, and the two marry in secret, to the frustration of miss delmar and arabella's mother. the captain is able to smooth over the situation with his aunt, even after it is discovered that arabella was six months pregnant at the time of the marriage. she later gives birth to a boy, who takes the captain's christian name and ben's surname--the titular percival keene.the family moves to chatham, after ben is ordered back with his detachment. arabella opens up a successful shop and circulating library below her house, enlisting the help of her mother and sister, amelia. percival becomes well known in town from his mischievous pranks on officers and other strangers, often encouraged by his aunt amelia. however, percival's mother and grandmother are less fond of his disregard for manners, and insist on sending him to school after an episode in which he bites his grandmother. percival reports to the school house of mr. o'gallagher, a poor irish scholar, who rules his class with a system of severe corporal punishment. mr. o'gallagher routinely bullies percival by stealing his lunch, leading percival to seek revenge by poisoning his sandwiches with calomel. on guy fawkes day the schoolteacher confiscates all the schoolboys' fireworks, for which percival retaliates by setting off the collected fireworks while the teacher sits above them, leading to the total destruction of the schoolhouse and near death of the schoolmaster.when percival is a young teenager, captain delmar reappears and offers him a position aboard his new navy ship, the h.m. calliope. while preparing to enter service, percival overhears gossip of his illegitimate birth, introducing the idea that captain delmar may be his father. he confronts his mother about his parentage, which she at first harshly denies but later tearfully explains the truth of her affair. early in his service in the navy, percival is captured during a pirate raid along with others. the pirate crew is entirely black, and the captain explains that they are primarily escaped slaves from the americas. percival is taken in as a cabin boy, and later dyes his skin tan in the appearance of a mulatto to please the captain who doesn't approve of white skin. the pirates often seek to take over slave trading vessels, killing every white person on board. during the taking of one such vessel, percival is able is convince the captain to spare the lives of a wealthy dutch merchant and his young daughter, minnie. eventually the h.m. calliope takes the pirate ship, and percival--unrecognizable with his dyed skin--is taken as a prisoner, later to convince his fellow shipman of his true identity.after his reappearance aboard the ship, percival gains esteem among the crew and is welcomed back by the emotional captain delmar. his reputation continues to grow over the course of his service in conflicts with dutch and french vessels around the island of curacao. he also stands in for an ill captain delmar in a duel with a french officer, effectively saving the captain's life. at this point, the captain receives news that his older brother has died, making him the new lord de versely, and before returning to england he grants perceval command of his own schooner. after another intense but successful battle with a french war ship, percival is promoted to captain. during his service in the navy, percival still partakes in the merry pranks of his youth, and at one point teams up with a mulatto hotel owner in curaรงao to convince his fellow officers they've been poisoned. he also keeps correspondence with minnie, developing a romance with the beautiful heiress.near the end of the story, percival guides his crew through a terrible storm in which many of the crew are killed and the ship is heavily damaged. after being saved by another english vessel, he receives a letter informing him of lord de versely's sudden death from heart complications and learns that he has been left all of his personal property. percival is still disappointed that he can not take his father's name. he later journey's with his friend bob cross to hamburg to reunite with minnie, but is captured by french troops on the road and sentenced to execution for spying. during a skirmish between the french and the cossacks, percival and cross are able to escape and continue on the road. at the end of the novel, percival proposes to minnie, and stands to inherit a great fortune through her father. he also receives a letter from the de versely attorney letting him know he has been granted the arms and name of delmar.\n",
      "\n",
      " Output:\n",
      "the elderly spinster aunt of the earl de verseley and captain delmar\n",
      "---------------------------------------------------------------\n"
     ]
    }
   ],
   "source": [
    "print('SANITY CHECK FOR PREPROCESSING TRAIN DATASET')\n",
    "print(llama_chat_preprocess_train['narrativeqa']['question'][0])\n",
    "print('---------------------------------------------------------------')\n",
    "\n",
    "print('SANITY CHECK FOR PREPROCESSING DEV DATASET')\n",
    "print(llama_chat_preprocess_train['narrativeqa']['answer'][0])\n",
    "print('---------------------------------------------------------------')\n",
    "\n",
    "print('SANITY CHECK FOR PREPROCESSING TEST DATASET')\n",
    "print(llama_chat_preprocess_train['narrativeqa']['text'][0])\n",
    "print('---------------------------------------------------------------')"
   ]
  },
  {
   "cell_type": "code",
   "execution_count": 11,
   "metadata": {},
   "outputs": [
    {
     "name": "stdout",
     "output_type": "stream",
     "text": [
      "SANITY CHECK FOR PREPROCESSING TRAIN DATASET\n",
      "<s>[INST] who is miss delmer? \\n  at madeline hall, an old mansion-house near southampton belonging to the wealthy de versely family, lives an elderly spinster miss delmar, the aunt of the earl de versely and captain delmar. miss delmar invites arabella mason, the daughter of a deceased, well-liked steward to stay with her as a lower-class guest in the house. captain delmar is known to visit his aunt at madeline hall frequently, accompanied by his valet ben keene, who is also a private marine. captain delmar eventually suggests that ben should propose to arabella, and the two marry in secret, to the frustration of miss delmar and arabella's mother. the captain is able to smooth over the situation with his aunt, even after it is discovered that arabella was six months pregnant at the time of the marriage. she later gives birth to a boy, who takes the captain's christian name and ben's surname--the titular percival keene.the family moves to chatham, after ben is ordered back with his detachment. arabella opens up a successful shop and circulating library below her house, enlisting the help of her mother and sister, amelia. percival becomes well known in town from his mischievous pranks on officers and other strangers, often encouraged by his aunt amelia. however, percival's mother and grandmother are less fond of his disregard for manners, and insist on sending him to school after an episode in which he bites his grandmother. percival reports to the school house of mr. o'gallagher, a poor irish scholar, who rules his class with a system of severe corporal punishment. mr. o'gallagher routinely bullies percival by stealing his lunch, leading percival to seek revenge by poisoning his sandwiches with calomel. on guy fawkes day the schoolteacher confiscates all the schoolboys' fireworks, for which percival retaliates by setting off the collected fireworks while the teacher sits above them, leading to the total destruction of the schoolhouse and near death of the schoolmaster.when percival is a young teenager, captain delmar reappears and offers him a position aboard his new navy ship, the h.m. calliope. while preparing to enter service, percival overhears gossip of his illegitimate birth, introducing the idea that captain delmar may be his father. he confronts his mother about his parentage, which she at first harshly denies but later tearfully explains the truth of her affair. early in his service in the navy, percival is captured during a pirate raid along with others. the pirate crew is entirely black, and the captain explains that they are primarily escaped slaves from the americas. percival is taken in as a cabin boy, and later dyes his skin tan in the appearance of a mulatto to please the captain who doesn't approve of white skin. the pirates often seek to take over slave trading vessels, killing every white person on board. during the taking of one such vessel, percival is able is convince the captain to spare the lives of a wealthy dutch merchant and his young daughter, minnie. eventually the h.m. calliope takes the pirate ship, and percival--unrecognizable with his dyed skin--is taken as a prisoner, later to convince his fellow shipman of his true identity.after his reappearance aboard the ship, percival gains esteem among the crew and is welcomed back by the emotional captain delmar. his reputation continues to grow over the course of his service in conflicts with dutch and french vessels around the island of curacao. he also stands in for an ill captain delmar in a duel with a french officer, effectively saving the captain's life. at this point, the captain receives news that his older brother has died, making him the new lord de versely, and before returning to england he grants perceval command of his own schooner. after another intense but successful battle with a french war ship, percival is promoted to captain. during his service in the navy, percival still partakes in the merry pranks of his youth, and at one point teams up with a mulatto hotel owner in curaรงao to convince his fellow officers they've been poisoned. he also keeps correspondence with minnie, developing a romance with the beautiful heiress.near the end of the story, percival guides his crew through a terrible storm in which many of the crew are killed and the ship is heavily damaged. after being saved by another english vessel, he receives a letter informing him of lord de versely's sudden death from heart complications and learns that he has been left all of his personal property. percival is still disappointed that he can not take his father's name. he later journey's with his friend bob cross to hamburg to reunite with minnie, but is captured by french troops on the road and sentenced to execution for spying. during a skirmish between the french and the cossacks, percival and cross are able to escape and continue on the road. at the end of the novel, percival proposes to minnie, and stands to inherit a great fortune through her father. he also receives a letter from the de versely attorney letting him know he has been granted the arms and name of delmar. [/INST]\n",
      "\n",
      "\n",
      "---------------------------------------------------------------\n",
      "SANITY CHECK FOR PREPROCESSING DEV DATASET\n",
      "the elderly spinster aunt of the earl de verseley and captain delmar\n",
      "---------------------------------------------------------------\n",
      "SANITY CHECK FOR PREPROCESSING TEST DATASET\n",
      "<s>[INST] who is miss delmer? \\n  at madeline hall, an old mansion-house near southampton belonging to the wealthy de versely family, lives an elderly spinster miss delmar, the aunt of the earl de versely and captain delmar. miss delmar invites arabella mason, the daughter of a deceased, well-liked steward to stay with her as a lower-class guest in the house. captain delmar is known to visit his aunt at madeline hall frequently, accompanied by his valet ben keene, who is also a private marine. captain delmar eventually suggests that ben should propose to arabella, and the two marry in secret, to the frustration of miss delmar and arabella's mother. the captain is able to smooth over the situation with his aunt, even after it is discovered that arabella was six months pregnant at the time of the marriage. she later gives birth to a boy, who takes the captain's christian name and ben's surname--the titular percival keene.the family moves to chatham, after ben is ordered back with his detachment. arabella opens up a successful shop and circulating library below her house, enlisting the help of her mother and sister, amelia. percival becomes well known in town from his mischievous pranks on officers and other strangers, often encouraged by his aunt amelia. however, percival's mother and grandmother are less fond of his disregard for manners, and insist on sending him to school after an episode in which he bites his grandmother. percival reports to the school house of mr. o'gallagher, a poor irish scholar, who rules his class with a system of severe corporal punishment. mr. o'gallagher routinely bullies percival by stealing his lunch, leading percival to seek revenge by poisoning his sandwiches with calomel. on guy fawkes day the schoolteacher confiscates all the schoolboys' fireworks, for which percival retaliates by setting off the collected fireworks while the teacher sits above them, leading to the total destruction of the schoolhouse and near death of the schoolmaster.when percival is a young teenager, captain delmar reappears and offers him a position aboard his new navy ship, the h.m. calliope. while preparing to enter service, percival overhears gossip of his illegitimate birth, introducing the idea that captain delmar may be his father. he confronts his mother about his parentage, which she at first harshly denies but later tearfully explains the truth of her affair. early in his service in the navy, percival is captured during a pirate raid along with others. the pirate crew is entirely black, and the captain explains that they are primarily escaped slaves from the americas. percival is taken in as a cabin boy, and later dyes his skin tan in the appearance of a mulatto to please the captain who doesn't approve of white skin. the pirates often seek to take over slave trading vessels, killing every white person on board. during the taking of one such vessel, percival is able is convince the captain to spare the lives of a wealthy dutch merchant and his young daughter, minnie. eventually the h.m. calliope takes the pirate ship, and percival--unrecognizable with his dyed skin--is taken as a prisoner, later to convince his fellow shipman of his true identity.after his reappearance aboard the ship, percival gains esteem among the crew and is welcomed back by the emotional captain delmar. his reputation continues to grow over the course of his service in conflicts with dutch and french vessels around the island of curacao. he also stands in for an ill captain delmar in a duel with a french officer, effectively saving the captain's life. at this point, the captain receives news that his older brother has died, making him the new lord de versely, and before returning to england he grants perceval command of his own schooner. after another intense but successful battle with a french war ship, percival is promoted to captain. during his service in the navy, percival still partakes in the merry pranks of his youth, and at one point teams up with a mulatto hotel owner in curaรงao to convince his fellow officers they've been poisoned. he also keeps correspondence with minnie, developing a romance with the beautiful heiress.near the end of the story, percival guides his crew through a terrible storm in which many of the crew are killed and the ship is heavily damaged. after being saved by another english vessel, he receives a letter informing him of lord de versely's sudden death from heart complications and learns that he has been left all of his personal property. percival is still disappointed that he can not take his father's name. he later journey's with his friend bob cross to hamburg to reunite with minnie, but is captured by french troops on the road and sentenced to execution for spying. during a skirmish between the french and the cossacks, percival and cross are able to escape and continue on the road. at the end of the novel, percival proposes to minnie, and stands to inherit a great fortune through her father. he also receives a letter from the de versely attorney letting him know he has been granted the arms and name of delmar. [/INST]\n",
      "\n",
      " the elderly spinster aunt of the earl de verseley and captain delmar\n",
      "---------------------------------------------------------------\n"
     ]
    }
   ],
   "source": [
    "print('SANITY CHECK FOR PREPROCESSING TRAIN DATASET')\n",
    "print(mistral_chat_preprocess_train['narrativeqa']['question'][0])\n",
    "print('---------------------------------------------------------------')\n",
    "\n",
    "print('SANITY CHECK FOR PREPROCESSING DEV DATASET')\n",
    "print(mistral_chat_preprocess_train['narrativeqa']['answer'][0])\n",
    "print('---------------------------------------------------------------')\n",
    "\n",
    "print('SANITY CHECK FOR PREPROCESSING TEST DATASET')\n",
    "print(mistral_chat_preprocess_train['narrativeqa']['text'][0])\n",
    "print('---------------------------------------------------------------')"
   ]
  },
  {
   "cell_type": "code",
   "execution_count": 3,
   "metadata": {},
   "outputs": [
    {
     "data": {
      "application/vnd.jupyter.widget-view+json": {
       "model_id": "846c87f127954e2793c6e2bf7873537c",
       "version_major": 2,
       "version_minor": 0
      },
      "text/plain": [
       "VBox(children=(HTML(value='<center> <img\\nsrc=https://huggingface.co/front/assets/huggingface_logo-noborder.sv…"
      ]
     },
     "metadata": {},
     "output_type": "display_data"
    }
   ],
   "source": [
    "from huggingface_hub import notebook_login\n",
    "notebook_login() # use your access token here! "
   ]
  },
  {
   "cell_type": "code",
   "execution_count": 12,
   "metadata": {},
   "outputs": [],
   "source": [
    "tokenized_gemma_train = tokenize_dataset(gemma_chat_preprocess_train, \"google/gemma-7b\", pad_token=False, file_path=fr'{os.getcwd()}/tokenized/Gemma', file_name='train',enable_load=True)\n",
    "tokenized_gemma_dev = tokenize_dataset(gemma_chat_preprocess_dev, \"google/gemma-7b\", pad_token=False, file_path=fr'{os.getcwd()}/tokenized/Gemma', file_name='dev',enable_load=True)\n",
    "tokenized_gemma_test = tokenize_dataset(gemma_chat_preprocess_test, \"google/gemma-7b\", pad_token=False, file_path=fr'{os.getcwd()}/tokenized/Gemma', file_name='test',enable_load=True)"
   ]
  },
  {
   "cell_type": "code",
   "execution_count": 15,
   "metadata": {},
   "outputs": [
    {
     "data": {
      "application/vnd.jupyter.widget-view+json": {
       "model_id": "4ee0cbb473db4ae293e60f4c9b63329e",
       "version_major": 2,
       "version_minor": 0
      },
      "text/plain": [
       "tokenizer_config.json:   0%|          | 0.00/967 [00:00<?, ?B/s]"
      ]
     },
     "metadata": {},
     "output_type": "display_data"
    },
    {
     "data": {
      "application/vnd.jupyter.widget-view+json": {
       "model_id": "89a9b470c9214485ac8a81b4b7584b80",
       "version_major": 2,
       "version_minor": 0
      },
      "text/plain": [
       "tokenizer.model:   0%|          | 0.00/493k [00:00<?, ?B/s]"
      ]
     },
     "metadata": {},
     "output_type": "display_data"
    },
    {
     "data": {
      "application/vnd.jupyter.widget-view+json": {
       "model_id": "63310d6a870746918577380f4c579a0f",
       "version_major": 2,
       "version_minor": 0
      },
      "text/plain": [
       "tokenizer.json:   0%|          | 0.00/1.80M [00:00<?, ?B/s]"
      ]
     },
     "metadata": {},
     "output_type": "display_data"
    },
    {
     "data": {
      "application/vnd.jupyter.widget-view+json": {
       "model_id": "54040d4759de494c88a70f07bd5d8f02",
       "version_major": 2,
       "version_minor": 0
      },
      "text/plain": [
       "special_tokens_map.json:   0%|          | 0.00/72.0 [00:00<?, ?B/s]"
      ]
     },
     "metadata": {},
     "output_type": "display_data"
    },
    {
     "ename": "",
     "evalue": "",
     "output_type": "error",
     "traceback": [
      "\u001b[1;31mThe Kernel crashed while executing code in the current cell or a previous cell. \n",
      "\u001b[1;31mPlease review the code in the cell(s) to identify a possible cause of the failure. \n",
      "\u001b[1;31mClick <a href='https://aka.ms/vscodeJupyterKernelCrash'>here</a> for more info. \n",
      "\u001b[1;31mView Jupyter <a href='command:jupyter.viewOutput'>log</a> for further details."
     ]
    }
   ],
   "source": [
    "# not yet tested, waiting for approval from meta\n",
    "tokenized_mistral_train = tokenize_dataset(mistral_chat_preprocess_train, \"mistralai/Mistral-7B-v0.1\", pad_token=True, pad_side='right', file_path=fr'{os.getcwd()}/tokenized/Mistral', file_name='train',enable_load=True)\n",
    "tokenized_mistral_dev = tokenize_dataset(mistral_chat_preprocess_dev, \"mistralai/Mistral-7B-v0.1\", pad_token=True, pad_side='right', file_path=fr'{os.getcwd()}/tokenized/Mistral', file_name='dev',enable_load=True)\n",
    "tokenized_mistral_test = tokenize_dataset(mistral_chat_preprocess_test, \"mistralai/Mistral-7B-v0.1\", pad_token=True, pad_side='right', file_path=fr'{os.getcwd()}/tokenized/Mistral', file_name='test',enable_load=True)"
   ]
  },
  {
   "cell_type": "code",
   "execution_count": 14,
   "metadata": {},
   "outputs": [
    {
     "data": {
      "application/vnd.jupyter.widget-view+json": {
       "model_id": "0cd1d216b05b4cb893260eeaf614b3a2",
       "version_major": 2,
       "version_minor": 0
      },
      "text/plain": [
       "tokenizer_config.json:   0%|          | 0.00/776 [00:00<?, ?B/s]"
      ]
     },
     "metadata": {},
     "output_type": "display_data"
    },
    {
     "data": {
      "application/vnd.jupyter.widget-view+json": {
       "model_id": "c255d4db64ba4632985ebad3a3d19b25",
       "version_major": 2,
       "version_minor": 0
      },
      "text/plain": [
       "tokenizer.model:   0%|          | 0.00/500k [00:00<?, ?B/s]"
      ]
     },
     "metadata": {},
     "output_type": "display_data"
    },
    {
     "data": {
      "application/vnd.jupyter.widget-view+json": {
       "model_id": "6946f9da961445678e84b005044e82e7",
       "version_major": 2,
       "version_minor": 0
      },
      "text/plain": [
       "tokenizer.json:   0%|          | 0.00/1.84M [00:00<?, ?B/s]"
      ]
     },
     "metadata": {},
     "output_type": "display_data"
    },
    {
     "data": {
      "application/vnd.jupyter.widget-view+json": {
       "model_id": "0c1f9b92eede44adbf339a10a19975a5",
       "version_major": 2,
       "version_minor": 0
      },
      "text/plain": [
       "special_tokens_map.json:   0%|          | 0.00/414 [00:00<?, ?B/s]"
      ]
     },
     "metadata": {},
     "output_type": "display_data"
    }
   ],
   "source": [
    "# not yet tested, waiting for approval from meta\n",
    "tokenized_llama_train = tokenize_dataset(llama_chat_preprocess_train, \"meta-llama/Llama-2-7b-hf\", pad_token=True, pad_side='right', file_path=fr'{os.getcwd()}/tokenized/Llama', file_name='train',enable_load=True)\n",
    "tokenized_llama_dev = tokenize_dataset(llama_chat_preprocess_dev, \"meta-llama/Llama-2-7b-hf\", pad_token=True, pad_side='right', file_path=fr'{os.getcwd()}/tokenized/Llama', file_name='dev',enable_load=True)\n",
    "tokenized_llama_test = tokenize_dataset(llama_chat_preprocess_test, \"meta-llama/Llama-2-7b-hf\", pad_token=True, pad_side='right', file_path=fr'{os.getcwd()}/tokenized/Llama', file_name='test',enable_load=True)"
   ]
  },
  {
   "cell_type": "code",
   "execution_count": null,
   "metadata": {},
   "outputs": [],
   "source": []
  },
  {
   "cell_type": "code",
   "execution_count": null,
   "metadata": {},
   "outputs": [],
   "source": []
  },
  {
   "cell_type": "code",
   "execution_count": null,
   "metadata": {},
   "outputs": [],
   "source": []
  },
  {
   "cell_type": "code",
   "execution_count": null,
   "metadata": {},
   "outputs": [],
   "source": []
  }
 ],
 "metadata": {
  "kernelspec": {
   "display_name": "EfficientLLM",
   "language": "python",
   "name": "python3"
  },
  "language_info": {
   "codemirror_mode": {
    "name": "ipython",
    "version": 3
   },
   "file_extension": ".py",
   "mimetype": "text/x-python",
   "name": "python",
   "nbconvert_exporter": "python",
   "pygments_lexer": "ipython3",
   "version": "3.10.12"
  }
 },
 "nbformat": 4,
 "nbformat_minor": 2
}
